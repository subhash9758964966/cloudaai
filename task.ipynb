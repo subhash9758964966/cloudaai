{
  "cells": [
    {
      "cell_type": "code",
      "execution_count": 1,
      "id": "41719bdf",
      "metadata": {
        "id": "41719bdf"
      },
      "outputs": [],
      "source": [
        "import pandas as pd"
      ]
    },
    {
      "cell_type": "code",
      "execution_count": 2,
      "id": "f618a025",
      "metadata": {
        "id": "f618a025"
      },
      "outputs": [],
      "source": [
        "df = pd.read_csv(\"consolidated-metrics.csv\") #reading csv file"
      ]
    },
    {
      "cell_type": "code",
      "execution_count": 3,
      "id": "f9648e78",
      "metadata": {
        "colab": {
          "base_uri": "https://localhost:8080/"
        },
        "id": "f9648e78",
        "outputId": "6e6238af-e3c4-4835-c11b-a764b8961bc8"
      },
      "outputs": [
        {
          "output_type": "execute_result",
          "data": {
            "text/plain": [
              "(4294, 97)"
            ]
          },
          "metadata": {},
          "execution_count": 3
        }
      ],
      "source": [
        "df.shape"
      ]
    },
    {
      "cell_type": "code",
      "execution_count": 4,
      "id": "7db9b0ae",
      "metadata": {
        "colab": {
          "base_uri": "https://localhost:8080/",
          "height": 473
        },
        "id": "7db9b0ae",
        "outputId": "066def11-ddae-4944-a6fe-8d6eb78500b5"
      },
      "outputs": [
        {
          "output_type": "execute_result",
          "data": {
            "text/html": [
              "\n",
              "  <div id=\"df-574ba737-05ca-43e1-b03b-fe20a98e33ce\">\n",
              "    <div class=\"colab-df-container\">\n",
              "      <div>\n",
              "<style scoped>\n",
              "    .dataframe tbody tr th:only-of-type {\n",
              "        vertical-align: middle;\n",
              "    }\n",
              "\n",
              "    .dataframe tbody tr th {\n",
              "        vertical-align: top;\n",
              "    }\n",
              "\n",
              "    .dataframe thead th {\n",
              "        text-align: right;\n",
              "    }\n",
              "</style>\n",
              "<table border=\"1\" class=\"dataframe\">\n",
              "  <thead>\n",
              "    <tr style=\"text-align: right;\">\n",
              "      <th></th>\n",
              "      <th>timestamp</th>\n",
              "      <th>apiserver_current_inflight_requests</th>\n",
              "      <th>apiserver_request_latencies_summary</th>\n",
              "      <th>apiserver_response_sizes_sum</th>\n",
              "      <th>apiserver_storage_transformation_latencies_microseconds_sum</th>\n",
              "      <th>aws_cpu_utilization</th>\n",
              "      <th>aws_ec2_cpuutilization_average</th>\n",
              "      <th>aws_ec2_network_out_average</th>\n",
              "      <th>aws_network_out</th>\n",
              "      <th>cgroup_manager_operation_rate</th>\n",
              "      <th>container_cpu_cfs_throttled_seconds_total</th>\n",
              "      <th>container_fs_inodes_free</th>\n",
              "      <th>container_fs_usage_bytes</th>\n",
              "      <th>container_fs_writes_total</th>\n",
              "      <th>container_memory_cache</th>\n",
              "      <th>container_memory_mapped_file</th>\n",
              "      <th>container_memory_rss</th>\n",
              "      <th>container_memory_usage_bytes</th>\n",
              "      <th>container_memory_working_set_bytes</th>\n",
              "      <th>coredns_kubernetes_dns_programming_duration_seconds_count</th>\n",
              "      <th>coredns_kubernetes_dns_programming_duration_seconds_sum</th>\n",
              "      <th>etcd_object_counts</th>\n",
              "      <th>etcd_request_latencies_summary_count</th>\n",
              "      <th>http_request_duration_microseconds</th>\n",
              "      <th>http_response_size_bytes</th>\n",
              "      <th>httpsessions_active</th>\n",
              "      <th>kafka_log_size_growth_rate</th>\n",
              "      <th>kafka_network_receive</th>\n",
              "      <th>kafka_network_transmit</th>\n",
              "      <th>kanban_boards_creation</th>\n",
              "      <th>kanban_tasks_complete_with_200_status</th>\n",
              "      <th>kanban_tasks_get_history</th>\n",
              "      <th>kube_pod_start_time</th>\n",
              "      <th>kube_poddisruptionbudget_status_current_healthy</th>\n",
              "      <th>kube_replicaset_created</th>\n",
              "      <th>kubelet_cgroup_manager_latency_microseconds</th>\n",
              "      <th>kubelet_container_log_filesystem_used_bytes</th>\n",
              "      <th>kubelet_operation_rate</th>\n",
              "      <th>kubelet_pleg_relist_interval_microseconds</th>\n",
              "      <th>kubelet_pleg_relist_latency_microseconds</th>\n",
              "      <th>...</th>\n",
              "      <th>node_filesystem_free_bytes</th>\n",
              "      <th>node_load1</th>\n",
              "      <th>node_load15</th>\n",
              "      <th>node_load5</th>\n",
              "      <th>node_memory_Active_anon_bytes</th>\n",
              "      <th>node_memory_Active_bytes</th>\n",
              "      <th>node_memory_Active_file_bytes</th>\n",
              "      <th>node_memory_AnonHugePages_bytes</th>\n",
              "      <th>node_memory_AnonPages_bytes</th>\n",
              "      <th>node_memory_Buffers_bytes</th>\n",
              "      <th>node_memory_Cached_bytes</th>\n",
              "      <th>node_memory_Committed_AS_bytes</th>\n",
              "      <th>node_memory_Dirty_bytes</th>\n",
              "      <th>node_memory_Inactive_anon_bytes</th>\n",
              "      <th>node_memory_Inactive_bytes</th>\n",
              "      <th>node_memory_Inactive_file_bytes</th>\n",
              "      <th>node_memory_KernelStack_bytes</th>\n",
              "      <th>node_memory_Mapped_bytes</th>\n",
              "      <th>node_memory_MemAvailable_bytes</th>\n",
              "      <th>node_memory_MemFree_bytes</th>\n",
              "      <th>node_memory_SReclaimable_bytes</th>\n",
              "      <th>node_memory_SUnreclaim_bytes</th>\n",
              "      <th>node_memory_Shmem_bytes</th>\n",
              "      <th>node_memory_Slab_bytes</th>\n",
              "      <th>node_memory_Writeback_bytes</th>\n",
              "      <th>node_netstat_Tcp_CurrEstab</th>\n",
              "      <th>node_nf_conntrack_entries</th>\n",
              "      <th>node_procs_blocked</th>\n",
              "      <th>node_procs_running</th>\n",
              "      <th>node_scrape_collector_duration_seconds</th>\n",
              "      <th>node_sockstat_TCP_inuse</th>\n",
              "      <th>node_sockstat_TCP_mem</th>\n",
              "      <th>node_sockstat_TCP_mem_bytes</th>\n",
              "      <th>node_sockstat_TCP_orphan</th>\n",
              "      <th>node_sockstat_TCP_tw</th>\n",
              "      <th>node_sockstat_sockets_used</th>\n",
              "      <th>node_timex_estimated_error_seconds</th>\n",
              "      <th>node_timex_frequency_adjustment_ratio</th>\n",
              "      <th>node_timex_maxerror_seconds</th>\n",
              "      <th>status</th>\n",
              "    </tr>\n",
              "  </thead>\n",
              "  <tbody>\n",
              "    <tr>\n",
              "      <th>0</th>\n",
              "      <td>2020-09-18 21:45:03</td>\n",
              "      <td>0.008333</td>\n",
              "      <td>4.775001e+06</td>\n",
              "      <td>6871.300000</td>\n",
              "      <td>0.025000</td>\n",
              "      <td>13.8</td>\n",
              "      <td>0.000</td>\n",
              "      <td>0.000000</td>\n",
              "      <td>0.000000</td>\n",
              "      <td>0.145833</td>\n",
              "      <td>0.0</td>\n",
              "      <td>155876.292281</td>\n",
              "      <td>4.582444e+08</td>\n",
              "      <td>31.947430</td>\n",
              "      <td>3.290259e+07</td>\n",
              "      <td>6.833672e+06</td>\n",
              "      <td>2.183418e+08</td>\n",
              "      <td>2.930822e+08</td>\n",
              "      <td>2.824967e+08</td>\n",
              "      <td>0.0</td>\n",
              "      <td>0.0</td>\n",
              "      <td>0.308333</td>\n",
              "      <td>7.333333</td>\n",
              "      <td>6.347728</td>\n",
              "      <td>0.066667</td>\n",
              "      <td>0.375000</td>\n",
              "      <td>1220.783333</td>\n",
              "      <td>5724.919214</td>\n",
              "      <td>8424.376927</td>\n",
              "      <td>0.0</td>\n",
              "      <td>0.3750</td>\n",
              "      <td>0.3750</td>\n",
              "      <td>0.0</td>\n",
              "      <td>0.0</td>\n",
              "      <td>0.0</td>\n",
              "      <td>2.716667</td>\n",
              "      <td>1.131008e+06</td>\n",
              "      <td>0.0</td>\n",
              "      <td>84978.795216</td>\n",
              "      <td>1549.886504</td>\n",
              "      <td>...</td>\n",
              "      <td>2.470222e+08</td>\n",
              "      <td>0.017197</td>\n",
              "      <td>0.018250</td>\n",
              "      <td>0.014958</td>\n",
              "      <td>5.852687e+07</td>\n",
              "      <td>6.471299e+07</td>\n",
              "      <td>5.355418e+06</td>\n",
              "      <td>0.0</td>\n",
              "      <td>7.410060e+07</td>\n",
              "      <td>153.600000</td>\n",
              "      <td>9.880303e+06</td>\n",
              "      <td>2.244632e+08</td>\n",
              "      <td>11963.733333</td>\n",
              "      <td>1757.866667</td>\n",
              "      <td>3.394628e+06</td>\n",
              "      <td>3.392870e+06</td>\n",
              "      <td>292044.800000</td>\n",
              "      <td>4.656657e+06</td>\n",
              "      <td>4.891639e+07</td>\n",
              "      <td>1.323989e+07</td>\n",
              "      <td>1.310447e+06</td>\n",
              "      <td>3.931375e+06</td>\n",
              "      <td>6553.600000</td>\n",
              "      <td>7.881847e+06</td>\n",
              "      <td>0.000000</td>\n",
              "      <td>0.033333</td>\n",
              "      <td>15.125000</td>\n",
              "      <td>0.0</td>\n",
              "      <td>0.120833</td>\n",
              "      <td>0.001250</td>\n",
              "      <td>0.054167</td>\n",
              "      <td>2.233333</td>\n",
              "      <td>9147.733333</td>\n",
              "      <td>0.000000</td>\n",
              "      <td>0.983333</td>\n",
              "      <td>25.441667</td>\n",
              "      <td>7.625000e-07</td>\n",
              "      <td>0.025000</td>\n",
              "      <td>0.000291</td>\n",
              "      <td>NORMAL</td>\n",
              "    </tr>\n",
              "    <tr>\n",
              "      <th>1</th>\n",
              "      <td>2020-09-18 21:46:03</td>\n",
              "      <td>0.008333</td>\n",
              "      <td>3.862502e+06</td>\n",
              "      <td>7065.713485</td>\n",
              "      <td>0.025000</td>\n",
              "      <td>19.2</td>\n",
              "      <td>0.025</td>\n",
              "      <td>1752.173542</td>\n",
              "      <td>1752.173542</td>\n",
              "      <td>0.145833</td>\n",
              "      <td>0.0</td>\n",
              "      <td>112788.516331</td>\n",
              "      <td>4.584697e+08</td>\n",
              "      <td>26.978072</td>\n",
              "      <td>1.859325e+07</td>\n",
              "      <td>6.970226e+06</td>\n",
              "      <td>2.306738e+08</td>\n",
              "      <td>3.136550e+08</td>\n",
              "      <td>3.100925e+08</td>\n",
              "      <td>0.0</td>\n",
              "      <td>0.0</td>\n",
              "      <td>0.608335</td>\n",
              "      <td>7.358352</td>\n",
              "      <td>186.125180</td>\n",
              "      <td>0.091667</td>\n",
              "      <td>13.237500</td>\n",
              "      <td>752.341667</td>\n",
              "      <td>2623.485430</td>\n",
              "      <td>4151.707333</td>\n",
              "      <td>0.0</td>\n",
              "      <td>0.2250</td>\n",
              "      <td>0.2250</td>\n",
              "      <td>0.0</td>\n",
              "      <td>0.0</td>\n",
              "      <td>0.0</td>\n",
              "      <td>2.016667</td>\n",
              "      <td>1.505963e+06</td>\n",
              "      <td>0.0</td>\n",
              "      <td>76434.145833</td>\n",
              "      <td>1424.675000</td>\n",
              "      <td>...</td>\n",
              "      <td>2.866220e+08</td>\n",
              "      <td>0.018625</td>\n",
              "      <td>0.018750</td>\n",
              "      <td>0.014417</td>\n",
              "      <td>7.601149e+07</td>\n",
              "      <td>8.622403e+07</td>\n",
              "      <td>5.355025e+06</td>\n",
              "      <td>0.0</td>\n",
              "      <td>8.548780e+07</td>\n",
              "      <td>170.666667</td>\n",
              "      <td>9.875763e+06</td>\n",
              "      <td>2.561419e+08</td>\n",
              "      <td>12834.133333</td>\n",
              "      <td>1757.866667</td>\n",
              "      <td>3.390208e+06</td>\n",
              "      <td>3.388450e+06</td>\n",
              "      <td>391031.466667</td>\n",
              "      <td>6.656427e+06</td>\n",
              "      <td>5.041085e+07</td>\n",
              "      <td>1.104294e+07</td>\n",
              "      <td>1.823659e+06</td>\n",
              "      <td>5.218253e+06</td>\n",
              "      <td>12117.333333</td>\n",
              "      <td>1.042432e+07</td>\n",
              "      <td>0.000000</td>\n",
              "      <td>0.029167</td>\n",
              "      <td>13.591667</td>\n",
              "      <td>0.0</td>\n",
              "      <td>0.108333</td>\n",
              "      <td>0.001182</td>\n",
              "      <td>0.050000</td>\n",
              "      <td>2.887500</td>\n",
              "      <td>11827.200000</td>\n",
              "      <td>0.000000</td>\n",
              "      <td>0.666667</td>\n",
              "      <td>25.420833</td>\n",
              "      <td>7.458333e-07</td>\n",
              "      <td>0.025000</td>\n",
              "      <td>0.000365</td>\n",
              "      <td>CPU_BURN_KANBAN_API_GATEWAY</td>\n",
              "    </tr>\n",
              "    <tr>\n",
              "      <th>2</th>\n",
              "      <td>2020-09-18 21:47:03</td>\n",
              "      <td>0.008333</td>\n",
              "      <td>3.862502e+06</td>\n",
              "      <td>6675.475000</td>\n",
              "      <td>0.025000</td>\n",
              "      <td>19.2</td>\n",
              "      <td>0.050</td>\n",
              "      <td>3504.347083</td>\n",
              "      <td>3504.347083</td>\n",
              "      <td>0.145833</td>\n",
              "      <td>0.0</td>\n",
              "      <td>189477.123216</td>\n",
              "      <td>3.193578e+08</td>\n",
              "      <td>20.248524</td>\n",
              "      <td>2.117443e+07</td>\n",
              "      <td>6.108143e+06</td>\n",
              "      <td>2.469483e+08</td>\n",
              "      <td>3.019200e+08</td>\n",
              "      <td>3.036381e+08</td>\n",
              "      <td>0.0</td>\n",
              "      <td>0.0</td>\n",
              "      <td>0.616667</td>\n",
              "      <td>7.325000</td>\n",
              "      <td>365.901133</td>\n",
              "      <td>0.116667</td>\n",
              "      <td>26.100000</td>\n",
              "      <td>283.900000</td>\n",
              "      <td>2900.168552</td>\n",
              "      <td>4640.112559</td>\n",
              "      <td>0.0</td>\n",
              "      <td>0.0750</td>\n",
              "      <td>0.0750</td>\n",
              "      <td>0.0</td>\n",
              "      <td>0.0</td>\n",
              "      <td>0.0</td>\n",
              "      <td>1.408333</td>\n",
              "      <td>1.506185e+06</td>\n",
              "      <td>0.0</td>\n",
              "      <td>72244.237500</td>\n",
              "      <td>1467.245833</td>\n",
              "      <td>...</td>\n",
              "      <td>2.343646e+08</td>\n",
              "      <td>0.022486</td>\n",
              "      <td>0.016833</td>\n",
              "      <td>0.011958</td>\n",
              "      <td>7.569782e+07</td>\n",
              "      <td>8.590766e+07</td>\n",
              "      <td>4.027631e+06</td>\n",
              "      <td>0.0</td>\n",
              "      <td>8.421122e+07</td>\n",
              "      <td>273.066667</td>\n",
              "      <td>5.502822e+06</td>\n",
              "      <td>2.229538e+08</td>\n",
              "      <td>10154.666667</td>\n",
              "      <td>1757.866667</td>\n",
              "      <td>3.843413e+04</td>\n",
              "      <td>3.851947e+04</td>\n",
              "      <td>342886.400000</td>\n",
              "      <td>5.300634e+06</td>\n",
              "      <td>4.268711e+07</td>\n",
              "      <td>1.048521e+07</td>\n",
              "      <td>1.874944e+06</td>\n",
              "      <td>4.745335e+06</td>\n",
              "      <td>12117.333333</td>\n",
              "      <td>9.538799e+06</td>\n",
              "      <td>13.667726</td>\n",
              "      <td>0.033333</td>\n",
              "      <td>12.487500</td>\n",
              "      <td>0.0</td>\n",
              "      <td>0.079167</td>\n",
              "      <td>0.001096</td>\n",
              "      <td>0.054167</td>\n",
              "      <td>2.741667</td>\n",
              "      <td>11229.866667</td>\n",
              "      <td>0.000000</td>\n",
              "      <td>0.508333</td>\n",
              "      <td>24.612500</td>\n",
              "      <td>7.055728e-07</td>\n",
              "      <td>0.020833</td>\n",
              "      <td>0.000391</td>\n",
              "      <td>CPU_BURN_KANBAN_API_GATEWAY</td>\n",
              "    </tr>\n",
              "    <tr>\n",
              "      <th>3</th>\n",
              "      <td>2020-09-18 21:48:03</td>\n",
              "      <td>0.016138</td>\n",
              "      <td>2.483334e+06</td>\n",
              "      <td>6890.495833</td>\n",
              "      <td>0.000000</td>\n",
              "      <td>19.2</td>\n",
              "      <td>0.025</td>\n",
              "      <td>1752.173542</td>\n",
              "      <td>1752.173542</td>\n",
              "      <td>0.133333</td>\n",
              "      <td>0.0</td>\n",
              "      <td>153259.698853</td>\n",
              "      <td>2.997300e+08</td>\n",
              "      <td>14.809318</td>\n",
              "      <td>1.080610e+07</td>\n",
              "      <td>5.707305e+06</td>\n",
              "      <td>2.692826e+08</td>\n",
              "      <td>3.388779e+08</td>\n",
              "      <td>3.544549e+08</td>\n",
              "      <td>0.0</td>\n",
              "      <td>0.0</td>\n",
              "      <td>0.616667</td>\n",
              "      <td>7.300000</td>\n",
              "      <td>389.451621</td>\n",
              "      <td>0.062500</td>\n",
              "      <td>25.641667</td>\n",
              "      <td>141.950000</td>\n",
              "      <td>2633.450167</td>\n",
              "      <td>4369.149239</td>\n",
              "      <td>0.0</td>\n",
              "      <td>0.0375</td>\n",
              "      <td>0.0375</td>\n",
              "      <td>0.0</td>\n",
              "      <td>0.0</td>\n",
              "      <td>0.0</td>\n",
              "      <td>1.475000</td>\n",
              "      <td>4.352000e+05</td>\n",
              "      <td>0.0</td>\n",
              "      <td>72293.366667</td>\n",
              "      <td>1451.816667</td>\n",
              "      <td>...</td>\n",
              "      <td>2.255894e+08</td>\n",
              "      <td>0.026375</td>\n",
              "      <td>0.017875</td>\n",
              "      <td>0.013083</td>\n",
              "      <td>7.476983e+07</td>\n",
              "      <td>8.694583e+07</td>\n",
              "      <td>4.026829e+06</td>\n",
              "      <td>0.0</td>\n",
              "      <td>8.327112e+07</td>\n",
              "      <td>324.266667</td>\n",
              "      <td>5.494989e+06</td>\n",
              "      <td>1.988007e+08</td>\n",
              "      <td>9301.333333</td>\n",
              "      <td>1570.133333</td>\n",
              "      <td>3.061760e+04</td>\n",
              "      <td>3.063467e+04</td>\n",
              "      <td>192904.533333</td>\n",
              "      <td>3.140710e+06</td>\n",
              "      <td>4.902584e+07</td>\n",
              "      <td>9.638571e+06</td>\n",
              "      <td>1.484885e+06</td>\n",
              "      <td>3.451034e+06</td>\n",
              "      <td>5580.800000</td>\n",
              "      <td>6.933965e+06</td>\n",
              "      <td>13.667726</td>\n",
              "      <td>0.004167</td>\n",
              "      <td>13.612500</td>\n",
              "      <td>0.0</td>\n",
              "      <td>0.108333</td>\n",
              "      <td>0.001665</td>\n",
              "      <td>0.004167</td>\n",
              "      <td>1.870833</td>\n",
              "      <td>7662.933333</td>\n",
              "      <td>0.000000</td>\n",
              "      <td>0.683333</td>\n",
              "      <td>19.108333</td>\n",
              "      <td>5.750000e-07</td>\n",
              "      <td>0.016667</td>\n",
              "      <td>0.000383</td>\n",
              "      <td>CPU_BURN_KANBAN_API_GATEWAY</td>\n",
              "    </tr>\n",
              "    <tr>\n",
              "      <th>4</th>\n",
              "      <td>2020-09-18 21:49:03</td>\n",
              "      <td>0.020305</td>\n",
              "      <td>4.500002e+06</td>\n",
              "      <td>7040.254167</td>\n",
              "      <td>0.020833</td>\n",
              "      <td>19.2</td>\n",
              "      <td>0.000</td>\n",
              "      <td>0.000000</td>\n",
              "      <td>0.000000</td>\n",
              "      <td>0.133333</td>\n",
              "      <td>0.0</td>\n",
              "      <td>153271.254383</td>\n",
              "      <td>3.514757e+08</td>\n",
              "      <td>13.626455</td>\n",
              "      <td>5.193350e+06</td>\n",
              "      <td>2.741833e+06</td>\n",
              "      <td>2.251060e+08</td>\n",
              "      <td>2.762528e+08</td>\n",
              "      <td>3.232417e+08</td>\n",
              "      <td>0.0</td>\n",
              "      <td>0.0</td>\n",
              "      <td>0.308333</td>\n",
              "      <td>7.266667</td>\n",
              "      <td>413.002108</td>\n",
              "      <td>0.008333</td>\n",
              "      <td>25.183333</td>\n",
              "      <td>0.000000</td>\n",
              "      <td>2963.510608</td>\n",
              "      <td>4557.696981</td>\n",
              "      <td>0.0</td>\n",
              "      <td>0.0000</td>\n",
              "      <td>0.0000</td>\n",
              "      <td>0.0</td>\n",
              "      <td>0.0</td>\n",
              "      <td>0.0</td>\n",
              "      <td>1.537500</td>\n",
              "      <td>2.019514e+06</td>\n",
              "      <td>0.0</td>\n",
              "      <td>76600.004733</td>\n",
              "      <td>1657.775172</td>\n",
              "      <td>...</td>\n",
              "      <td>1.859860e+08</td>\n",
              "      <td>0.029754</td>\n",
              "      <td>0.016667</td>\n",
              "      <td>0.017708</td>\n",
              "      <td>7.765567e+07</td>\n",
              "      <td>7.592542e+07</td>\n",
              "      <td>2.577067e+03</td>\n",
              "      <td>0.0</td>\n",
              "      <td>7.636989e+07</td>\n",
              "      <td>341.333333</td>\n",
              "      <td>3.280213e+04</td>\n",
              "      <td>1.323029e+08</td>\n",
              "      <td>8823.466667</td>\n",
              "      <td>1587.200000</td>\n",
              "      <td>3.181227e+04</td>\n",
              "      <td>3.181227e+04</td>\n",
              "      <td>198656.000000</td>\n",
              "      <td>3.132791e+06</td>\n",
              "      <td>5.200372e+07</td>\n",
              "      <td>1.030982e+07</td>\n",
              "      <td>9.716736e+05</td>\n",
              "      <td>3.839010e+06</td>\n",
              "      <td>5563.733333</td>\n",
              "      <td>7.711744e+06</td>\n",
              "      <td>13.667726</td>\n",
              "      <td>0.033333</td>\n",
              "      <td>10.962500</td>\n",
              "      <td>0.0</td>\n",
              "      <td>0.141667</td>\n",
              "      <td>0.001768</td>\n",
              "      <td>0.004167</td>\n",
              "      <td>1.883333</td>\n",
              "      <td>7714.133333</td>\n",
              "      <td>0.004097</td>\n",
              "      <td>0.616667</td>\n",
              "      <td>19.062500</td>\n",
              "      <td>6.166667e-07</td>\n",
              "      <td>0.025000</td>\n",
              "      <td>0.000405</td>\n",
              "      <td>CPU_BURN_KANBAN_API_GATEWAY</td>\n",
              "    </tr>\n",
              "  </tbody>\n",
              "</table>\n",
              "<p>5 rows × 97 columns</p>\n",
              "</div>\n",
              "      <button class=\"colab-df-convert\" onclick=\"convertToInteractive('df-574ba737-05ca-43e1-b03b-fe20a98e33ce')\"\n",
              "              title=\"Convert this dataframe to an interactive table.\"\n",
              "              style=\"display:none;\">\n",
              "        \n",
              "  <svg xmlns=\"http://www.w3.org/2000/svg\" height=\"24px\"viewBox=\"0 0 24 24\"\n",
              "       width=\"24px\">\n",
              "    <path d=\"M0 0h24v24H0V0z\" fill=\"none\"/>\n",
              "    <path d=\"M18.56 5.44l.94 2.06.94-2.06 2.06-.94-2.06-.94-.94-2.06-.94 2.06-2.06.94zm-11 1L8.5 8.5l.94-2.06 2.06-.94-2.06-.94L8.5 2.5l-.94 2.06-2.06.94zm10 10l.94 2.06.94-2.06 2.06-.94-2.06-.94-.94-2.06-.94 2.06-2.06.94z\"/><path d=\"M17.41 7.96l-1.37-1.37c-.4-.4-.92-.59-1.43-.59-.52 0-1.04.2-1.43.59L10.3 9.45l-7.72 7.72c-.78.78-.78 2.05 0 2.83L4 21.41c.39.39.9.59 1.41.59.51 0 1.02-.2 1.41-.59l7.78-7.78 2.81-2.81c.8-.78.8-2.07 0-2.86zM5.41 20L4 18.59l7.72-7.72 1.47 1.35L5.41 20z\"/>\n",
              "  </svg>\n",
              "      </button>\n",
              "      \n",
              "  <style>\n",
              "    .colab-df-container {\n",
              "      display:flex;\n",
              "      flex-wrap:wrap;\n",
              "      gap: 12px;\n",
              "    }\n",
              "\n",
              "    .colab-df-convert {\n",
              "      background-color: #E8F0FE;\n",
              "      border: none;\n",
              "      border-radius: 50%;\n",
              "      cursor: pointer;\n",
              "      display: none;\n",
              "      fill: #1967D2;\n",
              "      height: 32px;\n",
              "      padding: 0 0 0 0;\n",
              "      width: 32px;\n",
              "    }\n",
              "\n",
              "    .colab-df-convert:hover {\n",
              "      background-color: #E2EBFA;\n",
              "      box-shadow: 0px 1px 2px rgba(60, 64, 67, 0.3), 0px 1px 3px 1px rgba(60, 64, 67, 0.15);\n",
              "      fill: #174EA6;\n",
              "    }\n",
              "\n",
              "    [theme=dark] .colab-df-convert {\n",
              "      background-color: #3B4455;\n",
              "      fill: #D2E3FC;\n",
              "    }\n",
              "\n",
              "    [theme=dark] .colab-df-convert:hover {\n",
              "      background-color: #434B5C;\n",
              "      box-shadow: 0px 1px 3px 1px rgba(0, 0, 0, 0.15);\n",
              "      filter: drop-shadow(0px 1px 2px rgba(0, 0, 0, 0.3));\n",
              "      fill: #FFFFFF;\n",
              "    }\n",
              "  </style>\n",
              "\n",
              "      <script>\n",
              "        const buttonEl =\n",
              "          document.querySelector('#df-574ba737-05ca-43e1-b03b-fe20a98e33ce button.colab-df-convert');\n",
              "        buttonEl.style.display =\n",
              "          google.colab.kernel.accessAllowed ? 'block' : 'none';\n",
              "\n",
              "        async function convertToInteractive(key) {\n",
              "          const element = document.querySelector('#df-574ba737-05ca-43e1-b03b-fe20a98e33ce');\n",
              "          const dataTable =\n",
              "            await google.colab.kernel.invokeFunction('convertToInteractive',\n",
              "                                                     [key], {});\n",
              "          if (!dataTable) return;\n",
              "\n",
              "          const docLinkHtml = 'Like what you see? Visit the ' +\n",
              "            '<a target=\"_blank\" href=https://colab.research.google.com/notebooks/data_table.ipynb>data table notebook</a>'\n",
              "            + ' to learn more about interactive tables.';\n",
              "          element.innerHTML = '';\n",
              "          dataTable['output_type'] = 'display_data';\n",
              "          await google.colab.output.renderOutput(dataTable, element);\n",
              "          const docLink = document.createElement('div');\n",
              "          docLink.innerHTML = docLinkHtml;\n",
              "          element.appendChild(docLink);\n",
              "        }\n",
              "      </script>\n",
              "    </div>\n",
              "  </div>\n",
              "  "
            ],
            "text/plain": [
              "             timestamp  ...                       status\n",
              "0  2020-09-18 21:45:03  ...                       NORMAL\n",
              "1  2020-09-18 21:46:03  ...  CPU_BURN_KANBAN_API_GATEWAY\n",
              "2  2020-09-18 21:47:03  ...  CPU_BURN_KANBAN_API_GATEWAY\n",
              "3  2020-09-18 21:48:03  ...  CPU_BURN_KANBAN_API_GATEWAY\n",
              "4  2020-09-18 21:49:03  ...  CPU_BURN_KANBAN_API_GATEWAY\n",
              "\n",
              "[5 rows x 97 columns]"
            ]
          },
          "metadata": {},
          "execution_count": 4
        }
      ],
      "source": [
        "df.head()"
      ]
    },
    {
      "cell_type": "code",
      "execution_count": 5,
      "id": "7b9b8994",
      "metadata": {
        "id": "7b9b8994"
      },
      "outputs": [],
      "source": [
        "null_values = df.isna().sum() "
      ]
    },
    {
      "cell_type": "code",
      "execution_count": 6,
      "id": "7b079cdf",
      "metadata": {
        "colab": {
          "base_uri": "https://localhost:8080/"
        },
        "id": "7b079cdf",
        "outputId": "27802498-5d11-4f2e-d2e9-60b9bf8d2c6c"
      },
      "outputs": [
        {
          "output_type": "execute_result",
          "data": {
            "text/plain": [
              "kubelet_pod_worker_duration_bucket       4073\n",
              "kanban_tasks_get_history                  211\n",
              "kanban_tasks_complete_with_200_status     211\n",
              "kafka_log_size_growth_rate                 18\n",
              "kubelet_volume_stats_used_bytes             5\n",
              "kubelet_volume_stats_inodes_used            5\n",
              "kubelet_volume_stats_inodes_free            5\n",
              "kubelet_volume_stats_available_bytes        5\n",
              "kafka_network_transmit                      4\n",
              "kafka_network_receive                       4\n",
              "dtype: int64"
            ]
          },
          "metadata": {},
          "execution_count": 6
        }
      ],
      "source": [
        "null_values.sort_values(ascending=False)[0:10] #checking count of null values of top 10 features"
      ]
    },
    {
      "cell_type": "code",
      "execution_count": 7,
      "id": "09da2bdb",
      "metadata": {
        "id": "09da2bdb"
      },
      "outputs": [],
      "source": [
        "null_values_y = df[\"status\"].isna() #checking null values for labels i.e., for status"
      ]
    },
    {
      "cell_type": "code",
      "execution_count": 8,
      "id": "ed88fcae",
      "metadata": {
        "colab": {
          "base_uri": "https://localhost:8080/"
        },
        "id": "ed88fcae",
        "outputId": "7b7a4fce-0948-45e5-a490-bdb07177c52d"
      },
      "outputs": [
        {
          "output_type": "execute_result",
          "data": {
            "text/plain": [
              "1"
            ]
          },
          "metadata": {},
          "execution_count": 8
        }
      ],
      "source": [
        "null_values_y.sum() #got only one null values for labels"
      ]
    },
    {
      "cell_type": "code",
      "execution_count": 9,
      "id": "454e0342",
      "metadata": {
        "colab": {
          "base_uri": "https://localhost:8080/"
        },
        "id": "454e0342",
        "outputId": "7598295e-0910-404c-df23-d891e89907ad"
      },
      "outputs": [
        {
          "output_type": "execute_result",
          "data": {
            "text/plain": [
              "0       False\n",
              "2854    False\n",
              "2855    False\n",
              "2856    False\n",
              "2857    False\n",
              "        ...  \n",
              "1428    False\n",
              "1427    False\n",
              "1426    False\n",
              "1432    False\n",
              "2196     True\n",
              "Name: status, Length: 4294, dtype: bool"
            ]
          },
          "metadata": {},
          "execution_count": 9
        }
      ],
      "source": [
        "null_values_y.sort_values()"
      ]
    },
    {
      "cell_type": "code",
      "execution_count": 10,
      "id": "6659f8a5",
      "metadata": {
        "id": "6659f8a5"
      },
      "outputs": [],
      "source": [
        "df = df.drop(2196) #drop the row where \"status\" or label has null value"
      ]
    },
    {
      "cell_type": "code",
      "execution_count": 11,
      "id": "7c4c4f3d",
      "metadata": {
        "colab": {
          "base_uri": "https://localhost:8080/"
        },
        "id": "7c4c4f3d",
        "outputId": "b806c3fa-3e7b-49e0-dd20-db7c450006d9"
      },
      "outputs": [
        {
          "output_type": "execute_result",
          "data": {
            "text/plain": [
              "0"
            ]
          },
          "metadata": {},
          "execution_count": 11
        }
      ],
      "source": [
        "df[\"status\"].isna().sum() "
      ]
    },
    {
      "cell_type": "code",
      "execution_count": 12,
      "id": "cc374b12",
      "metadata": {
        "id": "cc374b12"
      },
      "outputs": [],
      "source": [
        "import matplotlib.pyplot as plt"
      ]
    },
    {
      "cell_type": "code",
      "execution_count": 13,
      "id": "d03565d4",
      "metadata": {
        "colab": {
          "base_uri": "https://localhost:8080/",
          "height": 296
        },
        "id": "d03565d4",
        "outputId": "f2af4064-acc7-4c7f-debe-00bdfe0b60bc"
      },
      "outputs": [
        {
          "output_type": "display_data",
          "data": {
            "image/png": "[encoded data removed]",
            "text/plain": [
              "<Figure size 432x288 with 1 Axes>"
            ]
          },
          "metadata": {
            "needs_background": "light"
          }
        }
      ],
      "source": [
        "plt.plot(null_values.sort_values(ascending=False)[0:50]) #bar graph for null values counts for top 50 features\n",
        "plt.title(\"null values counts for features\")\n",
        "plt.xlabel(\"Feature\")\n",
        "plt.ylabel(\"Null Value Counts\")\n",
        "plt.show()"
      ]
    },
    {
      "cell_type": "code",
      "execution_count": 13,
      "id": "91210c55",
      "metadata": {
        "id": "91210c55"
      },
      "outputs": [],
      "source": [
        ""
      ]
    },
    {
      "cell_type": "code",
      "execution_count": 14,
      "id": "20c9bb62",
      "metadata": {
        "id": "20c9bb62"
      },
      "outputs": [],
      "source": [
        "df = df.drop(columns = [\"kubelet_pod_worker_duration_bucket\"]) #droping the feature with most number of null values i.e., 4073"
      ]
    },
    {
      "cell_type": "code",
      "execution_count": 15,
      "id": "a259991a",
      "metadata": {
        "colab": {
          "base_uri": "https://localhost:8080/"
        },
        "id": "a259991a",
        "outputId": "e2b342c4-5069-47b1-c506-e966b50dccaf"
      },
      "outputs": [
        {
          "output_type": "execute_result",
          "data": {
            "text/plain": [
              "(4293, 96)"
            ]
          },
          "metadata": {},
          "execution_count": 15
        }
      ],
      "source": [
        "df.shape"
      ]
    },
    {
      "cell_type": "code",
      "execution_count": 16,
      "id": "33125fc3",
      "metadata": {
        "id": "33125fc3"
      },
      "outputs": [],
      "source": [
        "label_freq = df[\"status\"].value_counts() #checking distribution or counts of each labels or status"
      ]
    },
    {
      "cell_type": "code",
      "execution_count": 17,
      "id": "e79c5165",
      "metadata": {
        "colab": {
          "base_uri": "https://localhost:8080/"
        },
        "id": "e79c5165",
        "outputId": "941e6321-4fbd-4e7c-a7a5-457bb92ca5e5"
      },
      "outputs": [
        {
          "output_type": "execute_result",
          "data": {
            "text/plain": [
              "NORMAL                                  2757\n",
              "NETWORK_DELAY_KANBAN_API_GATEWAY         646\n",
              "NETWORK_DELAY_KANBAN_COMMAND_SERVICE     500\n",
              "POD_KILL_KANBAN_API_GATEWAY              310\n",
              "CPU_BURN_KANBAN_API_GATEWAY               80\n",
              "Name: status, dtype: int64"
            ]
          },
          "metadata": {},
          "execution_count": 17
        }
      ],
      "source": [
        "label_freq"
      ]
    },
    {
      "cell_type": "code",
      "execution_count": 18,
      "id": "7f8e0a07",
      "metadata": {
        "colab": {
          "base_uri": "https://localhost:8080/"
        },
        "id": "7f8e0a07",
        "outputId": "9f1bd5a3-50ff-4f34-86f4-9e444632d5b4"
      },
      "outputs": [
        {
          "output_type": "execute_result",
          "data": {
            "text/plain": [
              "5"
            ]
          },
          "metadata": {},
          "execution_count": 18
        }
      ],
      "source": [
        "len(label_freq)"
      ]
    },
    {
      "cell_type": "code",
      "execution_count": 19,
      "id": "9ci-N0Va0Dgp",
      "metadata": {
        "id": "9ci-N0Va0Dgp"
      },
      "outputs": [],
      "source": [
        "import matplotlib.pyplot as plt"
      ]
    },
    {
      "cell_type": "code",
      "execution_count": 20,
      "id": "11d74bd7",
      "metadata": {
        "colab": {
          "base_uri": "https://localhost:8080/",
          "height": 295
        },
        "id": "11d74bd7",
        "outputId": "6d71ae8d-8f5c-4abf-adce-0d879e395f15"
      },
      "outputs": [
        {
          "output_type": "display_data",
          "data": {
            "image/png": "[encoded data removed]",
            "text/plain": [
              "<Figure size 432x288 with 1 Axes>"
            ]
          },
          "metadata": {
            "needs_background": "light"
          }
        }
      ],
      "source": [
        "plt.bar(range(0, len(label_freq)), label_freq) #bar plot for each labesl show clearly datset is imbalanced\n",
        "plt.title(\"status or label count for each status\")\n",
        "plt.xlabel(\"status\")\n",
        "plt.ylabel(\"count of status\")\n",
        "plt.show()"
      ]
    },
    {
      "cell_type": "code",
      "execution_count": 21,
      "id": "b029676a",
      "metadata": {
        "id": "b029676a"
      },
      "outputs": [],
      "source": [
        "from sklearn.impute import SimpleImputer\n",
        "import numpy as np"
      ]
    },
    {
      "cell_type": "code",
      "execution_count": 22,
      "id": "5c03a939",
      "metadata": {
        "id": "5c03a939"
      },
      "outputs": [],
      "source": [
        "sim_imp = SimpleImputer(missing_values=np.NaN, strategy='most_frequent') #filling null values with most frequent value"
      ]
    },
    {
      "cell_type": "code",
      "execution_count": 23,
      "id": "36ea5e90",
      "metadata": {
        "id": "36ea5e90"
      },
      "outputs": [],
      "source": [
        "X = df.drop(columns = [\"status\"])\n",
        "y = df[\"status\"]"
      ]
    },
    {
      "cell_type": "code",
      "execution_count": 24,
      "id": "ca07d3ba",
      "metadata": {
        "id": "ca07d3ba"
      },
      "outputs": [],
      "source": [
        "X= sim_imp.fit_transform(X) # fit the simple imputer"
      ]
    },
    {
      "cell_type": "code",
      "execution_count": 25,
      "id": "fa672dfc",
      "metadata": {
        "colab": {
          "base_uri": "https://localhost:8080/"
        },
        "id": "fa672dfc",
        "outputId": "42bd906e-ad54-4078-b083-9bb900d93c7e"
      },
      "outputs": [
        {
          "output_type": "execute_result",
          "data": {
            "text/plain": [
              "array([['2020-09-18 21:45:03', 0.008333333333333, 4775001.30416667, ...,\n",
              "        7.625e-07, 0.025000056176885, 0.000290786690069],\n",
              "       ['2020-09-18 21:46:03', 0.0083333680557, 3862501.51666667, ...,\n",
              "        7.45833333333333e-07, 0.025000054527474, 0.000365370833333],\n",
              "       ['2020-09-18 21:47:03', 0.008333333333333, 3862501.51666667, ...,\n",
              "        7.05572763888889e-07, 0.020833380734126, 0.00039064581775],\n",
              "       ...,\n",
              "       ['2020-09-19 17:59:13', 0.013892944444445, 4700001.275, ...,\n",
              "        6.87719347222222e-07, 0.020833377277438, 0.000327470833333],\n",
              "       ['2020-09-19 18:00:13', 0.011113138888889, 2470833.99166667, ...,\n",
              "        7.75991111111111e-07, 0.025000064379247, 0.000328179166667],\n",
              "       ['2020-09-19 18:01:13', 0.011113138888889, 9135693.95833333, ...,\n",
              "        9.13354211806207e-07, 0.033333463681436, 0.000325236772705]],\n",
              "      dtype=object)"
            ]
          },
          "metadata": {},
          "execution_count": 25
        }
      ],
      "source": [
        "X"
      ]
    },
    {
      "cell_type": "code",
      "execution_count": 26,
      "id": "3e3ed7a8",
      "metadata": {
        "id": "3e3ed7a8"
      },
      "outputs": [],
      "source": [
        "dataframe = pd.DataFrame.from_records(X) #creating dataset so we have numerical columns"
      ]
    },
    {
      "cell_type": "code",
      "execution_count": 27,
      "id": "48e5b9aa",
      "metadata": {
        "colab": {
          "base_uri": "https://localhost:8080/",
          "height": 473
        },
        "id": "48e5b9aa",
        "outputId": "bb54fc86-147c-412a-a58b-3f679083f77a"
      },
      "outputs": [
        {
          "output_type": "execute_result",
          "data": {
            "text/html": [
              "\n",
              "  <div id=\"df-7cc2eb20-f2a6-4666-8e9d-2697194cc556\">\n",
              "    <div class=\"colab-df-container\">\n",
              "      <div>\n",
              "<style scoped>\n",
              "    .dataframe tbody tr th:only-of-type {\n",
              "        vertical-align: middle;\n",
              "    }\n",
              "\n",
              "    .dataframe tbody tr th {\n",
              "        vertical-align: top;\n",
              "    }\n",
              "\n",
              "    .dataframe thead th {\n",
              "        text-align: right;\n",
              "    }\n",
              "</style>\n",
              "<table border=\"1\" class=\"dataframe\">\n",
              "  <thead>\n",
              "    <tr style=\"text-align: right;\">\n",
              "      <th></th>\n",
              "      <th>0</th>\n",
              "      <th>1</th>\n",
              "      <th>2</th>\n",
              "      <th>3</th>\n",
              "      <th>4</th>\n",
              "      <th>5</th>\n",
              "      <th>6</th>\n",
              "      <th>7</th>\n",
              "      <th>8</th>\n",
              "      <th>9</th>\n",
              "      <th>10</th>\n",
              "      <th>11</th>\n",
              "      <th>12</th>\n",
              "      <th>13</th>\n",
              "      <th>14</th>\n",
              "      <th>15</th>\n",
              "      <th>16</th>\n",
              "      <th>17</th>\n",
              "      <th>18</th>\n",
              "      <th>19</th>\n",
              "      <th>20</th>\n",
              "      <th>21</th>\n",
              "      <th>22</th>\n",
              "      <th>23</th>\n",
              "      <th>24</th>\n",
              "      <th>25</th>\n",
              "      <th>26</th>\n",
              "      <th>27</th>\n",
              "      <th>28</th>\n",
              "      <th>29</th>\n",
              "      <th>30</th>\n",
              "      <th>31</th>\n",
              "      <th>32</th>\n",
              "      <th>33</th>\n",
              "      <th>34</th>\n",
              "      <th>35</th>\n",
              "      <th>36</th>\n",
              "      <th>37</th>\n",
              "      <th>38</th>\n",
              "      <th>39</th>\n",
              "      <th>...</th>\n",
              "      <th>55</th>\n",
              "      <th>56</th>\n",
              "      <th>57</th>\n",
              "      <th>58</th>\n",
              "      <th>59</th>\n",
              "      <th>60</th>\n",
              "      <th>61</th>\n",
              "      <th>62</th>\n",
              "      <th>63</th>\n",
              "      <th>64</th>\n",
              "      <th>65</th>\n",
              "      <th>66</th>\n",
              "      <th>67</th>\n",
              "      <th>68</th>\n",
              "      <th>69</th>\n",
              "      <th>70</th>\n",
              "      <th>71</th>\n",
              "      <th>72</th>\n",
              "      <th>73</th>\n",
              "      <th>74</th>\n",
              "      <th>75</th>\n",
              "      <th>76</th>\n",
              "      <th>77</th>\n",
              "      <th>78</th>\n",
              "      <th>79</th>\n",
              "      <th>80</th>\n",
              "      <th>81</th>\n",
              "      <th>82</th>\n",
              "      <th>83</th>\n",
              "      <th>84</th>\n",
              "      <th>85</th>\n",
              "      <th>86</th>\n",
              "      <th>87</th>\n",
              "      <th>88</th>\n",
              "      <th>89</th>\n",
              "      <th>90</th>\n",
              "      <th>91</th>\n",
              "      <th>92</th>\n",
              "      <th>93</th>\n",
              "      <th>94</th>\n",
              "    </tr>\n",
              "  </thead>\n",
              "  <tbody>\n",
              "    <tr>\n",
              "      <th>0</th>\n",
              "      <td>2020-09-18 21:45:03</td>\n",
              "      <td>0.008333</td>\n",
              "      <td>4.775001e+06</td>\n",
              "      <td>6871.300000</td>\n",
              "      <td>0.025000</td>\n",
              "      <td>13.8</td>\n",
              "      <td>0.000</td>\n",
              "      <td>0.000000</td>\n",
              "      <td>0.000000</td>\n",
              "      <td>0.145833</td>\n",
              "      <td>0.0</td>\n",
              "      <td>155876.292281</td>\n",
              "      <td>4.582444e+08</td>\n",
              "      <td>31.947430</td>\n",
              "      <td>3.290259e+07</td>\n",
              "      <td>6.833672e+06</td>\n",
              "      <td>2.183418e+08</td>\n",
              "      <td>2.930822e+08</td>\n",
              "      <td>2.824967e+08</td>\n",
              "      <td>0.0</td>\n",
              "      <td>0.0</td>\n",
              "      <td>0.308333</td>\n",
              "      <td>7.333333</td>\n",
              "      <td>6.347728</td>\n",
              "      <td>0.066667</td>\n",
              "      <td>0.375000</td>\n",
              "      <td>1220.783333</td>\n",
              "      <td>5724.919214</td>\n",
              "      <td>8424.376927</td>\n",
              "      <td>0.0</td>\n",
              "      <td>0.3750</td>\n",
              "      <td>0.3750</td>\n",
              "      <td>0.0</td>\n",
              "      <td>0.0</td>\n",
              "      <td>0.0</td>\n",
              "      <td>2.716667</td>\n",
              "      <td>1.131008e+06</td>\n",
              "      <td>0.0</td>\n",
              "      <td>84978.795216</td>\n",
              "      <td>1549.886504</td>\n",
              "      <td>...</td>\n",
              "      <td>113091.612500</td>\n",
              "      <td>2.470222e+08</td>\n",
              "      <td>0.017197</td>\n",
              "      <td>0.018250</td>\n",
              "      <td>0.014958</td>\n",
              "      <td>5.852687e+07</td>\n",
              "      <td>6.471299e+07</td>\n",
              "      <td>5.355418e+06</td>\n",
              "      <td>0.0</td>\n",
              "      <td>7.410060e+07</td>\n",
              "      <td>153.600000</td>\n",
              "      <td>9.880303e+06</td>\n",
              "      <td>2.244632e+08</td>\n",
              "      <td>11963.733333</td>\n",
              "      <td>1757.866667</td>\n",
              "      <td>3.394628e+06</td>\n",
              "      <td>3.392870e+06</td>\n",
              "      <td>292044.800000</td>\n",
              "      <td>4.656657e+06</td>\n",
              "      <td>4.891639e+07</td>\n",
              "      <td>1.323989e+07</td>\n",
              "      <td>1.310447e+06</td>\n",
              "      <td>3.931375e+06</td>\n",
              "      <td>6553.600000</td>\n",
              "      <td>7.881847e+06</td>\n",
              "      <td>0.000000</td>\n",
              "      <td>0.033333</td>\n",
              "      <td>15.125000</td>\n",
              "      <td>0.0</td>\n",
              "      <td>0.120833</td>\n",
              "      <td>0.001250</td>\n",
              "      <td>0.054167</td>\n",
              "      <td>2.233333</td>\n",
              "      <td>9147.733333</td>\n",
              "      <td>0.000000</td>\n",
              "      <td>0.983333</td>\n",
              "      <td>25.441667</td>\n",
              "      <td>7.625000e-07</td>\n",
              "      <td>0.025000</td>\n",
              "      <td>0.000291</td>\n",
              "    </tr>\n",
              "    <tr>\n",
              "      <th>1</th>\n",
              "      <td>2020-09-18 21:46:03</td>\n",
              "      <td>0.008333</td>\n",
              "      <td>3.862502e+06</td>\n",
              "      <td>7065.713485</td>\n",
              "      <td>0.025000</td>\n",
              "      <td>19.2</td>\n",
              "      <td>0.025</td>\n",
              "      <td>1752.173542</td>\n",
              "      <td>1752.173542</td>\n",
              "      <td>0.145833</td>\n",
              "      <td>0.0</td>\n",
              "      <td>112788.516331</td>\n",
              "      <td>4.584697e+08</td>\n",
              "      <td>26.978072</td>\n",
              "      <td>1.859325e+07</td>\n",
              "      <td>6.970226e+06</td>\n",
              "      <td>2.306738e+08</td>\n",
              "      <td>3.136550e+08</td>\n",
              "      <td>3.100925e+08</td>\n",
              "      <td>0.0</td>\n",
              "      <td>0.0</td>\n",
              "      <td>0.608335</td>\n",
              "      <td>7.358352</td>\n",
              "      <td>186.125180</td>\n",
              "      <td>0.091667</td>\n",
              "      <td>13.237500</td>\n",
              "      <td>752.341667</td>\n",
              "      <td>2623.485430</td>\n",
              "      <td>4151.707333</td>\n",
              "      <td>0.0</td>\n",
              "      <td>0.2250</td>\n",
              "      <td>0.2250</td>\n",
              "      <td>0.0</td>\n",
              "      <td>0.0</td>\n",
              "      <td>0.0</td>\n",
              "      <td>2.016667</td>\n",
              "      <td>1.505963e+06</td>\n",
              "      <td>0.0</td>\n",
              "      <td>76434.145833</td>\n",
              "      <td>1424.675000</td>\n",
              "      <td>...</td>\n",
              "      <td>113086.812500</td>\n",
              "      <td>2.866220e+08</td>\n",
              "      <td>0.018625</td>\n",
              "      <td>0.018750</td>\n",
              "      <td>0.014417</td>\n",
              "      <td>7.601149e+07</td>\n",
              "      <td>8.622403e+07</td>\n",
              "      <td>5.355025e+06</td>\n",
              "      <td>0.0</td>\n",
              "      <td>8.548780e+07</td>\n",
              "      <td>170.666667</td>\n",
              "      <td>9.875763e+06</td>\n",
              "      <td>2.561419e+08</td>\n",
              "      <td>12834.133333</td>\n",
              "      <td>1757.866667</td>\n",
              "      <td>3.390208e+06</td>\n",
              "      <td>3.388450e+06</td>\n",
              "      <td>391031.466667</td>\n",
              "      <td>6.656427e+06</td>\n",
              "      <td>5.041085e+07</td>\n",
              "      <td>1.104294e+07</td>\n",
              "      <td>1.823659e+06</td>\n",
              "      <td>5.218253e+06</td>\n",
              "      <td>12117.333333</td>\n",
              "      <td>1.042432e+07</td>\n",
              "      <td>0.000000</td>\n",
              "      <td>0.029167</td>\n",
              "      <td>13.591667</td>\n",
              "      <td>0.0</td>\n",
              "      <td>0.108333</td>\n",
              "      <td>0.001182</td>\n",
              "      <td>0.050000</td>\n",
              "      <td>2.887500</td>\n",
              "      <td>11827.200000</td>\n",
              "      <td>0.000000</td>\n",
              "      <td>0.666667</td>\n",
              "      <td>25.420833</td>\n",
              "      <td>7.458333e-07</td>\n",
              "      <td>0.025000</td>\n",
              "      <td>0.000365</td>\n",
              "    </tr>\n",
              "    <tr>\n",
              "      <th>2</th>\n",
              "      <td>2020-09-18 21:47:03</td>\n",
              "      <td>0.008333</td>\n",
              "      <td>3.862502e+06</td>\n",
              "      <td>6675.475000</td>\n",
              "      <td>0.025000</td>\n",
              "      <td>19.2</td>\n",
              "      <td>0.050</td>\n",
              "      <td>3504.347083</td>\n",
              "      <td>3504.347083</td>\n",
              "      <td>0.145833</td>\n",
              "      <td>0.0</td>\n",
              "      <td>189477.123216</td>\n",
              "      <td>3.193578e+08</td>\n",
              "      <td>20.248524</td>\n",
              "      <td>2.117443e+07</td>\n",
              "      <td>6.108143e+06</td>\n",
              "      <td>2.469483e+08</td>\n",
              "      <td>3.019200e+08</td>\n",
              "      <td>3.036381e+08</td>\n",
              "      <td>0.0</td>\n",
              "      <td>0.0</td>\n",
              "      <td>0.616667</td>\n",
              "      <td>7.325000</td>\n",
              "      <td>365.901133</td>\n",
              "      <td>0.116667</td>\n",
              "      <td>26.100000</td>\n",
              "      <td>283.900000</td>\n",
              "      <td>2900.168552</td>\n",
              "      <td>4640.112559</td>\n",
              "      <td>0.0</td>\n",
              "      <td>0.0750</td>\n",
              "      <td>0.0750</td>\n",
              "      <td>0.0</td>\n",
              "      <td>0.0</td>\n",
              "      <td>0.0</td>\n",
              "      <td>1.408333</td>\n",
              "      <td>1.506185e+06</td>\n",
              "      <td>0.0</td>\n",
              "      <td>72244.237500</td>\n",
              "      <td>1467.245833</td>\n",
              "      <td>...</td>\n",
              "      <td>108349.379167</td>\n",
              "      <td>2.343646e+08</td>\n",
              "      <td>0.022486</td>\n",
              "      <td>0.016833</td>\n",
              "      <td>0.011958</td>\n",
              "      <td>7.569782e+07</td>\n",
              "      <td>8.590766e+07</td>\n",
              "      <td>4.027631e+06</td>\n",
              "      <td>0.0</td>\n",
              "      <td>8.421122e+07</td>\n",
              "      <td>273.066667</td>\n",
              "      <td>5.502822e+06</td>\n",
              "      <td>2.229538e+08</td>\n",
              "      <td>10154.666667</td>\n",
              "      <td>1757.866667</td>\n",
              "      <td>3.843413e+04</td>\n",
              "      <td>3.851947e+04</td>\n",
              "      <td>342886.400000</td>\n",
              "      <td>5.300634e+06</td>\n",
              "      <td>4.268711e+07</td>\n",
              "      <td>1.048521e+07</td>\n",
              "      <td>1.874944e+06</td>\n",
              "      <td>4.745335e+06</td>\n",
              "      <td>12117.333333</td>\n",
              "      <td>9.538799e+06</td>\n",
              "      <td>13.667726</td>\n",
              "      <td>0.033333</td>\n",
              "      <td>12.487500</td>\n",
              "      <td>0.0</td>\n",
              "      <td>0.079167</td>\n",
              "      <td>0.001096</td>\n",
              "      <td>0.054167</td>\n",
              "      <td>2.741667</td>\n",
              "      <td>11229.866667</td>\n",
              "      <td>0.000000</td>\n",
              "      <td>0.508333</td>\n",
              "      <td>24.612500</td>\n",
              "      <td>7.055728e-07</td>\n",
              "      <td>0.020833</td>\n",
              "      <td>0.000391</td>\n",
              "    </tr>\n",
              "    <tr>\n",
              "      <th>3</th>\n",
              "      <td>2020-09-18 21:48:03</td>\n",
              "      <td>0.016138</td>\n",
              "      <td>2.483334e+06</td>\n",
              "      <td>6890.495833</td>\n",
              "      <td>0.000000</td>\n",
              "      <td>19.2</td>\n",
              "      <td>0.025</td>\n",
              "      <td>1752.173542</td>\n",
              "      <td>1752.173542</td>\n",
              "      <td>0.133333</td>\n",
              "      <td>0.0</td>\n",
              "      <td>153259.698853</td>\n",
              "      <td>2.997300e+08</td>\n",
              "      <td>14.809318</td>\n",
              "      <td>1.080610e+07</td>\n",
              "      <td>5.707305e+06</td>\n",
              "      <td>2.692826e+08</td>\n",
              "      <td>3.388779e+08</td>\n",
              "      <td>3.544549e+08</td>\n",
              "      <td>0.0</td>\n",
              "      <td>0.0</td>\n",
              "      <td>0.616667</td>\n",
              "      <td>7.300000</td>\n",
              "      <td>389.451621</td>\n",
              "      <td>0.062500</td>\n",
              "      <td>25.641667</td>\n",
              "      <td>141.950000</td>\n",
              "      <td>2633.450167</td>\n",
              "      <td>4369.149239</td>\n",
              "      <td>0.0</td>\n",
              "      <td>0.0375</td>\n",
              "      <td>0.0375</td>\n",
              "      <td>0.0</td>\n",
              "      <td>0.0</td>\n",
              "      <td>0.0</td>\n",
              "      <td>1.475000</td>\n",
              "      <td>4.352000e+05</td>\n",
              "      <td>0.0</td>\n",
              "      <td>72293.366667</td>\n",
              "      <td>1451.816667</td>\n",
              "      <td>...</td>\n",
              "      <td>112843.545833</td>\n",
              "      <td>2.255894e+08</td>\n",
              "      <td>0.026375</td>\n",
              "      <td>0.017875</td>\n",
              "      <td>0.013083</td>\n",
              "      <td>7.476983e+07</td>\n",
              "      <td>8.694583e+07</td>\n",
              "      <td>4.026829e+06</td>\n",
              "      <td>0.0</td>\n",
              "      <td>8.327112e+07</td>\n",
              "      <td>324.266667</td>\n",
              "      <td>5.494989e+06</td>\n",
              "      <td>1.988007e+08</td>\n",
              "      <td>9301.333333</td>\n",
              "      <td>1570.133333</td>\n",
              "      <td>3.061760e+04</td>\n",
              "      <td>3.063467e+04</td>\n",
              "      <td>192904.533333</td>\n",
              "      <td>3.140710e+06</td>\n",
              "      <td>4.902584e+07</td>\n",
              "      <td>9.638571e+06</td>\n",
              "      <td>1.484885e+06</td>\n",
              "      <td>3.451034e+06</td>\n",
              "      <td>5580.800000</td>\n",
              "      <td>6.933965e+06</td>\n",
              "      <td>13.667726</td>\n",
              "      <td>0.004167</td>\n",
              "      <td>13.612500</td>\n",
              "      <td>0.0</td>\n",
              "      <td>0.108333</td>\n",
              "      <td>0.001665</td>\n",
              "      <td>0.004167</td>\n",
              "      <td>1.870833</td>\n",
              "      <td>7662.933333</td>\n",
              "      <td>0.000000</td>\n",
              "      <td>0.683333</td>\n",
              "      <td>19.108333</td>\n",
              "      <td>5.750000e-07</td>\n",
              "      <td>0.016667</td>\n",
              "      <td>0.000383</td>\n",
              "    </tr>\n",
              "    <tr>\n",
              "      <th>4</th>\n",
              "      <td>2020-09-18 21:49:03</td>\n",
              "      <td>0.020305</td>\n",
              "      <td>4.500002e+06</td>\n",
              "      <td>7040.254167</td>\n",
              "      <td>0.020833</td>\n",
              "      <td>19.2</td>\n",
              "      <td>0.000</td>\n",
              "      <td>0.000000</td>\n",
              "      <td>0.000000</td>\n",
              "      <td>0.133333</td>\n",
              "      <td>0.0</td>\n",
              "      <td>153271.254383</td>\n",
              "      <td>3.514757e+08</td>\n",
              "      <td>13.626455</td>\n",
              "      <td>5.193350e+06</td>\n",
              "      <td>2.741833e+06</td>\n",
              "      <td>2.251060e+08</td>\n",
              "      <td>2.762528e+08</td>\n",
              "      <td>3.232417e+08</td>\n",
              "      <td>0.0</td>\n",
              "      <td>0.0</td>\n",
              "      <td>0.308333</td>\n",
              "      <td>7.266667</td>\n",
              "      <td>413.002108</td>\n",
              "      <td>0.008333</td>\n",
              "      <td>25.183333</td>\n",
              "      <td>0.000000</td>\n",
              "      <td>2963.510608</td>\n",
              "      <td>4557.696981</td>\n",
              "      <td>0.0</td>\n",
              "      <td>0.0000</td>\n",
              "      <td>0.0000</td>\n",
              "      <td>0.0</td>\n",
              "      <td>0.0</td>\n",
              "      <td>0.0</td>\n",
              "      <td>1.537500</td>\n",
              "      <td>2.019514e+06</td>\n",
              "      <td>0.0</td>\n",
              "      <td>76600.004733</td>\n",
              "      <td>1657.775172</td>\n",
              "      <td>...</td>\n",
              "      <td>112841.975000</td>\n",
              "      <td>1.859860e+08</td>\n",
              "      <td>0.029754</td>\n",
              "      <td>0.016667</td>\n",
              "      <td>0.017708</td>\n",
              "      <td>7.765567e+07</td>\n",
              "      <td>7.592542e+07</td>\n",
              "      <td>2.577067e+03</td>\n",
              "      <td>0.0</td>\n",
              "      <td>7.636989e+07</td>\n",
              "      <td>341.333333</td>\n",
              "      <td>3.280213e+04</td>\n",
              "      <td>1.323029e+08</td>\n",
              "      <td>8823.466667</td>\n",
              "      <td>1587.200000</td>\n",
              "      <td>3.181227e+04</td>\n",
              "      <td>3.181227e+04</td>\n",
              "      <td>198656.000000</td>\n",
              "      <td>3.132791e+06</td>\n",
              "      <td>5.200372e+07</td>\n",
              "      <td>1.030982e+07</td>\n",
              "      <td>9.716736e+05</td>\n",
              "      <td>3.839010e+06</td>\n",
              "      <td>5563.733333</td>\n",
              "      <td>7.711744e+06</td>\n",
              "      <td>13.667726</td>\n",
              "      <td>0.033333</td>\n",
              "      <td>10.962500</td>\n",
              "      <td>0.0</td>\n",
              "      <td>0.141667</td>\n",
              "      <td>0.001768</td>\n",
              "      <td>0.004167</td>\n",
              "      <td>1.883333</td>\n",
              "      <td>7714.133333</td>\n",
              "      <td>0.004097</td>\n",
              "      <td>0.616667</td>\n",
              "      <td>19.062500</td>\n",
              "      <td>6.166667e-07</td>\n",
              "      <td>0.025000</td>\n",
              "      <td>0.000405</td>\n",
              "    </tr>\n",
              "  </tbody>\n",
              "</table>\n",
              "<p>5 rows × 95 columns</p>\n",
              "</div>\n",
              "      <button class=\"colab-df-convert\" onclick=\"convertToInteractive('df-7cc2eb20-f2a6-4666-8e9d-2697194cc556')\"\n",
              "              title=\"Convert this dataframe to an interactive table.\"\n",
              "              style=\"display:none;\">\n",
              "        \n",
              "  <svg xmlns=\"http://www.w3.org/2000/svg\" height=\"24px\"viewBox=\"0 0 24 24\"\n",
              "       width=\"24px\">\n",
              "    <path d=\"M0 0h24v24H0V0z\" fill=\"none\"/>\n",
              "    <path d=\"M18.56 5.44l.94 2.06.94-2.06 2.06-.94-2.06-.94-.94-2.06-.94 2.06-2.06.94zm-11 1L8.5 8.5l.94-2.06 2.06-.94-2.06-.94L8.5 2.5l-.94 2.06-2.06.94zm10 10l.94 2.06.94-2.06 2.06-.94-2.06-.94-.94-2.06-.94 2.06-2.06.94z\"/><path d=\"M17.41 7.96l-1.37-1.37c-.4-.4-.92-.59-1.43-.59-.52 0-1.04.2-1.43.59L10.3 9.45l-7.72 7.72c-.78.78-.78 2.05 0 2.83L4 21.41c.39.39.9.59 1.41.59.51 0 1.02-.2 1.41-.59l7.78-7.78 2.81-2.81c.8-.78.8-2.07 0-2.86zM5.41 20L4 18.59l7.72-7.72 1.47 1.35L5.41 20z\"/>\n",
              "  </svg>\n",
              "      </button>\n",
              "      \n",
              "  <style>\n",
              "    .colab-df-container {\n",
              "      display:flex;\n",
              "      flex-wrap:wrap;\n",
              "      gap: 12px;\n",
              "    }\n",
              "\n",
              "    .colab-df-convert {\n",
              "      background-color: #E8F0FE;\n",
              "      border: none;\n",
              "      border-radius: 50%;\n",
              "      cursor: pointer;\n",
              "      display: none;\n",
              "      fill: #1967D2;\n",
              "      height: 32px;\n",
              "      padding: 0 0 0 0;\n",
              "      width: 32px;\n",
              "    }\n",
              "\n",
              "    .colab-df-convert:hover {\n",
              "      background-color: #E2EBFA;\n",
              "      box-shadow: 0px 1px 2px rgba(60, 64, 67, 0.3), 0px 1px 3px 1px rgba(60, 64, 67, 0.15);\n",
              "      fill: #174EA6;\n",
              "    }\n",
              "\n",
              "    [theme=dark] .colab-df-convert {\n",
              "      background-color: #3B4455;\n",
              "      fill: #D2E3FC;\n",
              "    }\n",
              "\n",
              "    [theme=dark] .colab-df-convert:hover {\n",
              "      background-color: #434B5C;\n",
              "      box-shadow: 0px 1px 3px 1px rgba(0, 0, 0, 0.15);\n",
              "      filter: drop-shadow(0px 1px 2px rgba(0, 0, 0, 0.3));\n",
              "      fill: #FFFFFF;\n",
              "    }\n",
              "  </style>\n",
              "\n",
              "      <script>\n",
              "        const buttonEl =\n",
              "          document.querySelector('#df-7cc2eb20-f2a6-4666-8e9d-2697194cc556 button.colab-df-convert');\n",
              "        buttonEl.style.display =\n",
              "          google.colab.kernel.accessAllowed ? 'block' : 'none';\n",
              "\n",
              "        async function convertToInteractive(key) {\n",
              "          const element = document.querySelector('#df-7cc2eb20-f2a6-4666-8e9d-2697194cc556');\n",
              "          const dataTable =\n",
              "            await google.colab.kernel.invokeFunction('convertToInteractive',\n",
              "                                                     [key], {});\n",
              "          if (!dataTable) return;\n",
              "\n",
              "          const docLinkHtml = 'Like what you see? Visit the ' +\n",
              "            '<a target=\"_blank\" href=https://colab.research.google.com/notebooks/data_table.ipynb>data table notebook</a>'\n",
              "            + ' to learn more about interactive tables.';\n",
              "          element.innerHTML = '';\n",
              "          dataTable['output_type'] = 'display_data';\n",
              "          await google.colab.output.renderOutput(dataTable, element);\n",
              "          const docLink = document.createElement('div');\n",
              "          docLink.innerHTML = docLinkHtml;\n",
              "          element.appendChild(docLink);\n",
              "        }\n",
              "      </script>\n",
              "    </div>\n",
              "  </div>\n",
              "  "
            ],
            "text/plain": [
              "                    0         1   ...        93        94\n",
              "0  2020-09-18 21:45:03  0.008333  ...  0.025000  0.000291\n",
              "1  2020-09-18 21:46:03  0.008333  ...  0.025000  0.000365\n",
              "2  2020-09-18 21:47:03  0.008333  ...  0.020833  0.000391\n",
              "3  2020-09-18 21:48:03  0.016138  ...  0.016667  0.000383\n",
              "4  2020-09-18 21:49:03  0.020305  ...  0.025000  0.000405\n",
              "\n",
              "[5 rows x 95 columns]"
            ]
          },
          "metadata": {},
          "execution_count": 27
        }
      ],
      "source": [
        "dataframe.head()"
      ]
    },
    {
      "cell_type": "code",
      "execution_count": 28,
      "id": "8e9937eb",
      "metadata": {
        "colab": {
          "base_uri": "https://localhost:8080/"
        },
        "id": "8e9937eb",
        "outputId": "12b10f2f-9633-4e37-906c-69df94d8ca7d"
      },
      "outputs": [
        {
          "output_type": "execute_result",
          "data": {
            "text/plain": [
              "(4293, 95)"
            ]
          },
          "metadata": {},
          "execution_count": 28
        }
      ],
      "source": [
        "dataframe.shape"
      ]
    },
    {
      "cell_type": "code",
      "execution_count": 29,
      "id": "9c3f78ce",
      "metadata": {
        "colab": {
          "base_uri": "https://localhost:8080/"
        },
        "id": "9c3f78ce",
        "outputId": "1d1be7c2-3b7b-45cd-f130-f5da5ab993df"
      },
      "outputs": [
        {
          "output_type": "execute_result",
          "data": {
            "text/plain": [
              "0"
            ]
          },
          "metadata": {},
          "execution_count": 29
        }
      ],
      "source": [
        "dataframe.isna().sum().max()"
      ]
    },
    {
      "cell_type": "code",
      "execution_count": 30,
      "id": "b98e4bf1",
      "metadata": {
        "colab": {
          "base_uri": "https://localhost:8080/"
        },
        "id": "b98e4bf1",
        "outputId": "74bd85c0-ec63-404c-ede5-34b4afc7e5a2"
      },
      "outputs": [
        {
          "output_type": "execute_result",
          "data": {
            "text/plain": [
              "RangeIndex(start=0, stop=95, step=1)"
            ]
          },
          "metadata": {},
          "execution_count": 30
        }
      ],
      "source": [
        "dataframe.columns"
      ]
    },
    {
      "cell_type": "code",
      "execution_count": 31,
      "id": "82c9bac4",
      "metadata": {
        "id": "82c9bac4"
      },
      "outputs": [],
      "source": [
        "dataframe = dataframe.drop(columns = [0]) #droping the first coloumn which is not usefull"
      ]
    },
    {
      "cell_type": "code",
      "execution_count": 32,
      "id": "2764070c",
      "metadata": {
        "id": "2764070c"
      },
      "outputs": [],
      "source": [
        "from sklearn.preprocessing import StandardScaler"
      ]
    },
    {
      "cell_type": "code",
      "execution_count": 33,
      "id": "f83430f9",
      "metadata": {
        "id": "f83430f9"
      },
      "outputs": [],
      "source": [
        "dataframe = pd.DataFrame.from_records(StandardScaler().fit_transform(dataframe)) #apply standardization to the features"
      ]
    },
    {
      "cell_type": "code",
      "execution_count": 34,
      "id": "2e16a9e8",
      "metadata": {
        "colab": {
          "base_uri": "https://localhost:8080/",
          "height": 487
        },
        "id": "2e16a9e8",
        "outputId": "2bd06d79-e427-4bf6-c20d-b387ede24557"
      },
      "outputs": [
        {
          "output_type": "execute_result",
          "data": {
            "text/html": [
              "\n",
              "  <div id=\"df-149e65f5-cdd0-444d-8e48-8b589f3f56bd\">\n",
              "    <div class=\"colab-df-container\">\n",
              "      <div>\n",
              "<style scoped>\n",
              "    .dataframe tbody tr th:only-of-type {\n",
              "        vertical-align: middle;\n",
              "    }\n",
              "\n",
              "    .dataframe tbody tr th {\n",
              "        vertical-align: top;\n",
              "    }\n",
              "\n",
              "    .dataframe thead th {\n",
              "        text-align: right;\n",
              "    }\n",
              "</style>\n",
              "<table border=\"1\" class=\"dataframe\">\n",
              "  <thead>\n",
              "    <tr style=\"text-align: right;\">\n",
              "      <th></th>\n",
              "      <th>0</th>\n",
              "      <th>1</th>\n",
              "      <th>2</th>\n",
              "      <th>3</th>\n",
              "      <th>4</th>\n",
              "      <th>5</th>\n",
              "      <th>6</th>\n",
              "      <th>7</th>\n",
              "      <th>8</th>\n",
              "      <th>9</th>\n",
              "      <th>10</th>\n",
              "      <th>11</th>\n",
              "      <th>12</th>\n",
              "      <th>13</th>\n",
              "      <th>14</th>\n",
              "      <th>15</th>\n",
              "      <th>16</th>\n",
              "      <th>17</th>\n",
              "      <th>18</th>\n",
              "      <th>19</th>\n",
              "      <th>20</th>\n",
              "      <th>21</th>\n",
              "      <th>22</th>\n",
              "      <th>23</th>\n",
              "      <th>24</th>\n",
              "      <th>25</th>\n",
              "      <th>26</th>\n",
              "      <th>27</th>\n",
              "      <th>28</th>\n",
              "      <th>29</th>\n",
              "      <th>30</th>\n",
              "      <th>31</th>\n",
              "      <th>32</th>\n",
              "      <th>33</th>\n",
              "      <th>34</th>\n",
              "      <th>35</th>\n",
              "      <th>36</th>\n",
              "      <th>37</th>\n",
              "      <th>38</th>\n",
              "      <th>39</th>\n",
              "      <th>...</th>\n",
              "      <th>54</th>\n",
              "      <th>55</th>\n",
              "      <th>56</th>\n",
              "      <th>57</th>\n",
              "      <th>58</th>\n",
              "      <th>59</th>\n",
              "      <th>60</th>\n",
              "      <th>61</th>\n",
              "      <th>62</th>\n",
              "      <th>63</th>\n",
              "      <th>64</th>\n",
              "      <th>65</th>\n",
              "      <th>66</th>\n",
              "      <th>67</th>\n",
              "      <th>68</th>\n",
              "      <th>69</th>\n",
              "      <th>70</th>\n",
              "      <th>71</th>\n",
              "      <th>72</th>\n",
              "      <th>73</th>\n",
              "      <th>74</th>\n",
              "      <th>75</th>\n",
              "      <th>76</th>\n",
              "      <th>77</th>\n",
              "      <th>78</th>\n",
              "      <th>79</th>\n",
              "      <th>80</th>\n",
              "      <th>81</th>\n",
              "      <th>82</th>\n",
              "      <th>83</th>\n",
              "      <th>84</th>\n",
              "      <th>85</th>\n",
              "      <th>86</th>\n",
              "      <th>87</th>\n",
              "      <th>88</th>\n",
              "      <th>89</th>\n",
              "      <th>90</th>\n",
              "      <th>91</th>\n",
              "      <th>92</th>\n",
              "      <th>93</th>\n",
              "    </tr>\n",
              "  </thead>\n",
              "  <tbody>\n",
              "    <tr>\n",
              "      <th>0</th>\n",
              "      <td>-0.546929</td>\n",
              "      <td>-0.086674</td>\n",
              "      <td>-0.239041</td>\n",
              "      <td>-0.154638</td>\n",
              "      <td>-0.786578</td>\n",
              "      <td>-0.777552</td>\n",
              "      <td>-0.378729</td>\n",
              "      <td>-0.378729</td>\n",
              "      <td>0.476559</td>\n",
              "      <td>-0.029963</td>\n",
              "      <td>-0.480717</td>\n",
              "      <td>1.717853</td>\n",
              "      <td>-0.301492</td>\n",
              "      <td>1.047767</td>\n",
              "      <td>0.950266</td>\n",
              "      <td>0.984795</td>\n",
              "      <td>0.997783</td>\n",
              "      <td>0.704654</td>\n",
              "      <td>-0.062429</td>\n",
              "      <td>-0.057884</td>\n",
              "      <td>0.253098</td>\n",
              "      <td>0.829633</td>\n",
              "      <td>-0.896666</td>\n",
              "      <td>-0.748362</td>\n",
              "      <td>-0.582612</td>\n",
              "      <td>-0.243467</td>\n",
              "      <td>-0.253719</td>\n",
              "      <td>-0.170152</td>\n",
              "      <td>0.0</td>\n",
              "      <td>-0.276919</td>\n",
              "      <td>-0.277164</td>\n",
              "      <td>-0.043387</td>\n",
              "      <td>-0.032393</td>\n",
              "      <td>0.0</td>\n",
              "      <td>-0.160471</td>\n",
              "      <td>0.364826</td>\n",
              "      <td>-0.211084</td>\n",
              "      <td>1.791188</td>\n",
              "      <td>0.919679</td>\n",
              "      <td>-0.344374</td>\n",
              "      <td>...</td>\n",
              "      <td>-1.168986</td>\n",
              "      <td>-0.866951</td>\n",
              "      <td>-0.221428</td>\n",
              "      <td>0.252173</td>\n",
              "      <td>-0.318391</td>\n",
              "      <td>0.539108</td>\n",
              "      <td>0.277176</td>\n",
              "      <td>1.327898</td>\n",
              "      <td>-0.304916</td>\n",
              "      <td>1.160354</td>\n",
              "      <td>-0.204186</td>\n",
              "      <td>0.636444</td>\n",
              "      <td>0.042583</td>\n",
              "      <td>-0.298474</td>\n",
              "      <td>0.282042</td>\n",
              "      <td>-0.149141</td>\n",
              "      <td>-0.149399</td>\n",
              "      <td>0.574752</td>\n",
              "      <td>0.428004</td>\n",
              "      <td>-0.624822</td>\n",
              "      <td>-0.592571</td>\n",
              "      <td>2.172097</td>\n",
              "      <td>0.797420</td>\n",
              "      <td>0.403736</td>\n",
              "      <td>0.955779</td>\n",
              "      <td>-0.070581</td>\n",
              "      <td>-0.416537</td>\n",
              "      <td>0.372990</td>\n",
              "      <td>-0.184684</td>\n",
              "      <td>-0.393771</td>\n",
              "      <td>-0.158941</td>\n",
              "      <td>-0.444576</td>\n",
              "      <td>0.660252</td>\n",
              "      <td>0.660252</td>\n",
              "      <td>-0.118262</td>\n",
              "      <td>0.313594</td>\n",
              "      <td>1.473340</td>\n",
              "      <td>0.049306</td>\n",
              "      <td>-1.213471</td>\n",
              "      <td>-1.180491</td>\n",
              "    </tr>\n",
              "    <tr>\n",
              "      <th>1</th>\n",
              "      <td>-0.546925</td>\n",
              "      <td>-0.420153</td>\n",
              "      <td>-0.228680</td>\n",
              "      <td>-0.154638</td>\n",
              "      <td>-0.418086</td>\n",
              "      <td>-0.575809</td>\n",
              "      <td>-0.291935</td>\n",
              "      <td>-0.291935</td>\n",
              "      <td>0.476568</td>\n",
              "      <td>-0.029963</td>\n",
              "      <td>-1.228496</td>\n",
              "      <td>1.720183</td>\n",
              "      <td>-0.352948</td>\n",
              "      <td>0.305668</td>\n",
              "      <td>1.008340</td>\n",
              "      <td>1.182639</td>\n",
              "      <td>1.276173</td>\n",
              "      <td>1.120775</td>\n",
              "      <td>-0.062429</td>\n",
              "      <td>-0.057884</td>\n",
              "      <td>0.782890</td>\n",
              "      <td>1.015739</td>\n",
              "      <td>-0.401159</td>\n",
              "      <td>-0.748133</td>\n",
              "      <td>0.154753</td>\n",
              "      <td>-0.287220</td>\n",
              "      <td>-0.360274</td>\n",
              "      <td>-0.226925</td>\n",
              "      <td>0.0</td>\n",
              "      <td>-0.311683</td>\n",
              "      <td>-0.311975</td>\n",
              "      <td>-0.043387</td>\n",
              "      <td>-0.032393</td>\n",
              "      <td>0.0</td>\n",
              "      <td>-0.199045</td>\n",
              "      <td>0.997446</td>\n",
              "      <td>-0.211084</td>\n",
              "      <td>1.095281</td>\n",
              "      <td>0.467181</td>\n",
              "      <td>-0.344374</td>\n",
              "      <td>...</td>\n",
              "      <td>-1.169071</td>\n",
              "      <td>-0.376487</td>\n",
              "      <td>-0.092028</td>\n",
              "      <td>0.319816</td>\n",
              "      <td>-0.376543</td>\n",
              "      <td>1.512257</td>\n",
              "      <td>1.251094</td>\n",
              "      <td>1.327763</td>\n",
              "      <td>-0.304916</td>\n",
              "      <td>1.745965</td>\n",
              "      <td>-0.203969</td>\n",
              "      <td>0.635839</td>\n",
              "      <td>0.559412</td>\n",
              "      <td>-0.277978</td>\n",
              "      <td>0.282042</td>\n",
              "      <td>-0.150013</td>\n",
              "      <td>-0.150271</td>\n",
              "      <td>1.756508</td>\n",
              "      <td>1.662639</td>\n",
              "      <td>-0.517042</td>\n",
              "      <td>-0.881453</td>\n",
              "      <td>3.338827</td>\n",
              "      <td>2.562909</td>\n",
              "      <td>1.734847</td>\n",
              "      <td>2.695799</td>\n",
              "      <td>-0.070581</td>\n",
              "      <td>-0.535885</td>\n",
              "      <td>0.125688</td>\n",
              "      <td>-0.184684</td>\n",
              "      <td>-0.776752</td>\n",
              "      <td>-0.326278</td>\n",
              "      <td>-0.516023</td>\n",
              "      <td>1.356190</td>\n",
              "      <td>1.356190</td>\n",
              "      <td>-0.118262</td>\n",
              "      <td>-1.188042</td>\n",
              "      <td>1.468704</td>\n",
              "      <td>0.034749</td>\n",
              "      <td>-1.213471</td>\n",
              "      <td>0.309891</td>\n",
              "    </tr>\n",
              "    <tr>\n",
              "      <th>2</th>\n",
              "      <td>-0.546929</td>\n",
              "      <td>-0.420153</td>\n",
              "      <td>-0.249477</td>\n",
              "      <td>-0.154638</td>\n",
              "      <td>-0.418086</td>\n",
              "      <td>-0.374067</td>\n",
              "      <td>-0.205142</td>\n",
              "      <td>-0.205142</td>\n",
              "      <td>0.476568</td>\n",
              "      <td>-0.029963</td>\n",
              "      <td>0.102418</td>\n",
              "      <td>0.281165</td>\n",
              "      <td>-0.422629</td>\n",
              "      <td>0.439531</td>\n",
              "      <td>0.641714</td>\n",
              "      <td>1.443730</td>\n",
              "      <td>1.117376</td>\n",
              "      <td>1.023447</td>\n",
              "      <td>-0.062429</td>\n",
              "      <td>-0.057884</td>\n",
              "      <td>0.797604</td>\n",
              "      <td>0.767643</td>\n",
              "      <td>0.094344</td>\n",
              "      <td>-0.747905</td>\n",
              "      <td>0.892119</td>\n",
              "      <td>-0.330973</td>\n",
              "      <td>-0.350768</td>\n",
              "      <td>-0.220436</td>\n",
              "      <td>0.0</td>\n",
              "      <td>-0.346448</td>\n",
              "      <td>-0.346787</td>\n",
              "      <td>-0.043387</td>\n",
              "      <td>-0.032393</td>\n",
              "      <td>0.0</td>\n",
              "      <td>-0.232568</td>\n",
              "      <td>0.997820</td>\n",
              "      <td>-0.211084</td>\n",
              "      <td>0.754040</td>\n",
              "      <td>0.621026</td>\n",
              "      <td>-0.344374</td>\n",
              "      <td>...</td>\n",
              "      <td>-1.253436</td>\n",
              "      <td>-1.023722</td>\n",
              "      <td>0.257845</td>\n",
              "      <td>0.060520</td>\n",
              "      <td>-0.640464</td>\n",
              "      <td>1.494799</td>\n",
              "      <td>1.236771</td>\n",
              "      <td>0.868554</td>\n",
              "      <td>-0.304916</td>\n",
              "      <td>1.680314</td>\n",
              "      <td>-0.202666</td>\n",
              "      <td>0.052578</td>\n",
              "      <td>0.017959</td>\n",
              "      <td>-0.341074</td>\n",
              "      <td>0.282042</td>\n",
              "      <td>-0.810949</td>\n",
              "      <td>-0.811168</td>\n",
              "      <td>1.181726</td>\n",
              "      <td>0.825588</td>\n",
              "      <td>-1.074074</td>\n",
              "      <td>-0.954789</td>\n",
              "      <td>3.455419</td>\n",
              "      <td>1.914106</td>\n",
              "      <td>1.734847</td>\n",
              "      <td>2.089765</td>\n",
              "      <td>-0.045763</td>\n",
              "      <td>-0.416537</td>\n",
              "      <td>-0.052396</td>\n",
              "      <td>-0.184684</td>\n",
              "      <td>-1.670375</td>\n",
              "      <td>-0.536594</td>\n",
              "      <td>-0.444576</td>\n",
              "      <td>1.201044</td>\n",
              "      <td>1.201044</td>\n",
              "      <td>-0.118262</td>\n",
              "      <td>-1.938860</td>\n",
              "      <td>1.288824</td>\n",
              "      <td>-0.000416</td>\n",
              "      <td>-1.872702</td>\n",
              "      <td>0.814950</td>\n",
              "    </tr>\n",
              "    <tr>\n",
              "      <th>3</th>\n",
              "      <td>0.433690</td>\n",
              "      <td>-0.924179</td>\n",
              "      <td>-0.238018</td>\n",
              "      <td>-0.332200</td>\n",
              "      <td>-0.418086</td>\n",
              "      <td>-0.575809</td>\n",
              "      <td>-0.291935</td>\n",
              "      <td>-0.291935</td>\n",
              "      <td>-0.322940</td>\n",
              "      <td>-0.029963</td>\n",
              "      <td>-0.526127</td>\n",
              "      <td>0.078129</td>\n",
              "      <td>-0.478950</td>\n",
              "      <td>-0.098183</td>\n",
              "      <td>0.471247</td>\n",
              "      <td>1.802041</td>\n",
              "      <td>1.617488</td>\n",
              "      <td>1.789720</td>\n",
              "      <td>-0.062429</td>\n",
              "      <td>-0.057884</td>\n",
              "      <td>0.797604</td>\n",
              "      <td>0.581674</td>\n",
              "      <td>0.159255</td>\n",
              "      <td>-0.748400</td>\n",
              "      <td>0.865844</td>\n",
              "      <td>-0.344232</td>\n",
              "      <td>-0.359932</td>\n",
              "      <td>-0.224036</td>\n",
              "      <td>0.0</td>\n",
              "      <td>-0.355139</td>\n",
              "      <td>-0.355490</td>\n",
              "      <td>-0.043387</td>\n",
              "      <td>-0.032393</td>\n",
              "      <td>0.0</td>\n",
              "      <td>-0.228894</td>\n",
              "      <td>-0.809133</td>\n",
              "      <td>-0.211084</td>\n",
              "      <td>0.758041</td>\n",
              "      <td>0.565267</td>\n",
              "      <td>-0.344374</td>\n",
              "      <td>...</td>\n",
              "      <td>-1.173403</td>\n",
              "      <td>-1.132408</td>\n",
              "      <td>0.610254</td>\n",
              "      <td>0.201442</td>\n",
              "      <td>-0.519687</td>\n",
              "      <td>1.443150</td>\n",
              "      <td>1.283774</td>\n",
              "      <td>0.868276</td>\n",
              "      <td>-0.304916</td>\n",
              "      <td>1.631968</td>\n",
              "      <td>-0.202014</td>\n",
              "      <td>0.051533</td>\n",
              "      <td>-0.376093</td>\n",
              "      <td>-0.361168</td>\n",
              "      <td>0.130707</td>\n",
              "      <td>-0.812490</td>\n",
              "      <td>-0.812724</td>\n",
              "      <td>-0.608839</td>\n",
              "      <td>-0.507925</td>\n",
              "      <td>-0.616928</td>\n",
              "      <td>-1.066115</td>\n",
              "      <td>2.568664</td>\n",
              "      <td>0.138433</td>\n",
              "      <td>0.170995</td>\n",
              "      <td>0.307066</td>\n",
              "      <td>-0.045763</td>\n",
              "      <td>-1.251973</td>\n",
              "      <td>0.129048</td>\n",
              "      <td>-0.184684</td>\n",
              "      <td>-0.776752</td>\n",
              "      <td>0.857958</td>\n",
              "      <td>-1.301941</td>\n",
              "      <td>0.274605</td>\n",
              "      <td>0.274605</td>\n",
              "      <td>-0.118262</td>\n",
              "      <td>-1.109009</td>\n",
              "      <td>0.063976</td>\n",
              "      <td>-0.114463</td>\n",
              "      <td>-2.531934</td>\n",
              "      <td>0.670148</td>\n",
              "    </tr>\n",
              "    <tr>\n",
              "      <th>4</th>\n",
              "      <td>0.957219</td>\n",
              "      <td>-0.187174</td>\n",
              "      <td>-0.230036</td>\n",
              "      <td>-0.184232</td>\n",
              "      <td>-0.418086</td>\n",
              "      <td>-0.777552</td>\n",
              "      <td>-0.378729</td>\n",
              "      <td>-0.378729</td>\n",
              "      <td>-0.322940</td>\n",
              "      <td>-0.029963</td>\n",
              "      <td>-0.525927</td>\n",
              "      <td>0.613403</td>\n",
              "      <td>-0.491198</td>\n",
              "      <td>-0.389267</td>\n",
              "      <td>-0.789907</td>\n",
              "      <td>1.093313</td>\n",
              "      <td>0.770048</td>\n",
              "      <td>1.319052</td>\n",
              "      <td>-0.062429</td>\n",
              "      <td>-0.057884</td>\n",
              "      <td>0.253098</td>\n",
              "      <td>0.333714</td>\n",
              "      <td>0.224165</td>\n",
              "      <td>-0.748895</td>\n",
              "      <td>0.839569</td>\n",
              "      <td>-0.357490</td>\n",
              "      <td>-0.348592</td>\n",
              "      <td>-0.221531</td>\n",
              "      <td>0.0</td>\n",
              "      <td>-0.363830</td>\n",
              "      <td>-0.364193</td>\n",
              "      <td>-0.043387</td>\n",
              "      <td>-0.032393</td>\n",
              "      <td>0.0</td>\n",
              "      <td>-0.225450</td>\n",
              "      <td>1.863904</td>\n",
              "      <td>-0.211084</td>\n",
              "      <td>1.108789</td>\n",
              "      <td>1.309575</td>\n",
              "      <td>-0.344374</td>\n",
              "      <td>...</td>\n",
              "      <td>-1.173431</td>\n",
              "      <td>-1.622917</td>\n",
              "      <td>0.916456</td>\n",
              "      <td>0.037973</td>\n",
              "      <td>-0.023158</td>\n",
              "      <td>1.603769</td>\n",
              "      <td>0.784822</td>\n",
              "      <td>-0.523904</td>\n",
              "      <td>-0.304916</td>\n",
              "      <td>1.277057</td>\n",
              "      <td>-0.201797</td>\n",
              "      <td>-0.677011</td>\n",
              "      <td>-1.460985</td>\n",
              "      <td>-0.372421</td>\n",
              "      <td>0.144464</td>\n",
              "      <td>-0.812254</td>\n",
              "      <td>-0.812491</td>\n",
              "      <td>-0.540175</td>\n",
              "      <td>-0.512814</td>\n",
              "      <td>-0.402166</td>\n",
              "      <td>-0.977851</td>\n",
              "      <td>1.401934</td>\n",
              "      <td>0.670704</td>\n",
              "      <td>0.166912</td>\n",
              "      <td>0.839364</td>\n",
              "      <td>-0.045763</td>\n",
              "      <td>-0.416537</td>\n",
              "      <td>-0.298353</td>\n",
              "      <td>-0.184684</td>\n",
              "      <td>0.244532</td>\n",
              "      <td>1.110594</td>\n",
              "      <td>-1.301941</td>\n",
              "      <td>0.287903</td>\n",
              "      <td>0.287903</td>\n",
              "      <td>-0.052325</td>\n",
              "      <td>-1.425142</td>\n",
              "      <td>0.053777</td>\n",
              "      <td>-0.078070</td>\n",
              "      <td>-1.213469</td>\n",
              "      <td>1.097880</td>\n",
              "    </tr>\n",
              "    <tr>\n",
              "      <th>...</th>\n",
              "      <td>...</td>\n",
              "      <td>...</td>\n",
              "      <td>...</td>\n",
              "      <td>...</td>\n",
              "      <td>...</td>\n",
              "      <td>...</td>\n",
              "      <td>...</td>\n",
              "      <td>...</td>\n",
              "      <td>...</td>\n",
              "      <td>...</td>\n",
              "      <td>...</td>\n",
              "      <td>...</td>\n",
              "      <td>...</td>\n",
              "      <td>...</td>\n",
              "      <td>...</td>\n",
              "      <td>...</td>\n",
              "      <td>...</td>\n",
              "      <td>...</td>\n",
              "      <td>...</td>\n",
              "      <td>...</td>\n",
              "      <td>...</td>\n",
              "      <td>...</td>\n",
              "      <td>...</td>\n",
              "      <td>...</td>\n",
              "      <td>...</td>\n",
              "      <td>...</td>\n",
              "      <td>...</td>\n",
              "      <td>...</td>\n",
              "      <td>...</td>\n",
              "      <td>...</td>\n",
              "      <td>...</td>\n",
              "      <td>...</td>\n",
              "      <td>...</td>\n",
              "      <td>...</td>\n",
              "      <td>...</td>\n",
              "      <td>...</td>\n",
              "      <td>...</td>\n",
              "      <td>...</td>\n",
              "      <td>...</td>\n",
              "      <td>...</td>\n",
              "      <td>...</td>\n",
              "      <td>...</td>\n",
              "      <td>...</td>\n",
              "      <td>...</td>\n",
              "      <td>...</td>\n",
              "      <td>...</td>\n",
              "      <td>...</td>\n",
              "      <td>...</td>\n",
              "      <td>...</td>\n",
              "      <td>...</td>\n",
              "      <td>...</td>\n",
              "      <td>...</td>\n",
              "      <td>...</td>\n",
              "      <td>...</td>\n",
              "      <td>...</td>\n",
              "      <td>...</td>\n",
              "      <td>...</td>\n",
              "      <td>...</td>\n",
              "      <td>...</td>\n",
              "      <td>...</td>\n",
              "      <td>...</td>\n",
              "      <td>...</td>\n",
              "      <td>...</td>\n",
              "      <td>...</td>\n",
              "      <td>...</td>\n",
              "      <td>...</td>\n",
              "      <td>...</td>\n",
              "      <td>...</td>\n",
              "      <td>...</td>\n",
              "      <td>...</td>\n",
              "      <td>...</td>\n",
              "      <td>...</td>\n",
              "      <td>...</td>\n",
              "      <td>...</td>\n",
              "      <td>...</td>\n",
              "      <td>...</td>\n",
              "      <td>...</td>\n",
              "      <td>...</td>\n",
              "      <td>...</td>\n",
              "      <td>...</td>\n",
              "      <td>...</td>\n",
              "    </tr>\n",
              "    <tr>\n",
              "      <th>4288</th>\n",
              "      <td>-0.546929</td>\n",
              "      <td>2.294803</td>\n",
              "      <td>-0.237122</td>\n",
              "      <td>-0.154638</td>\n",
              "      <td>-0.486326</td>\n",
              "      <td>-0.414416</td>\n",
              "      <td>-0.216461</td>\n",
              "      <td>-0.216461</td>\n",
              "      <td>-0.322940</td>\n",
              "      <td>-0.029963</td>\n",
              "      <td>-2.547028</td>\n",
              "      <td>2.070537</td>\n",
              "      <td>-0.494127</td>\n",
              "      <td>-0.493803</td>\n",
              "      <td>-0.813047</td>\n",
              "      <td>-0.144629</td>\n",
              "      <td>-0.034450</td>\n",
              "      <td>0.034243</td>\n",
              "      <td>-0.062429</td>\n",
              "      <td>-0.057884</td>\n",
              "      <td>-0.291409</td>\n",
              "      <td>-0.100215</td>\n",
              "      <td>-0.593566</td>\n",
              "      <td>-0.156413</td>\n",
              "      <td>-0.331807</td>\n",
              "      <td>-0.357490</td>\n",
              "      <td>-0.379149</td>\n",
              "      <td>-0.238987</td>\n",
              "      <td>0.0</td>\n",
              "      <td>-0.363830</td>\n",
              "      <td>-0.364193</td>\n",
              "      <td>-0.043387</td>\n",
              "      <td>-0.032393</td>\n",
              "      <td>0.0</td>\n",
              "      <td>-0.222006</td>\n",
              "      <td>-1.025036</td>\n",
              "      <td>-0.211084</td>\n",
              "      <td>-2.359904</td>\n",
              "      <td>-2.269181</td>\n",
              "      <td>-0.344374</td>\n",
              "      <td>...</td>\n",
              "      <td>-0.568935</td>\n",
              "      <td>-2.441780</td>\n",
              "      <td>-1.039732</td>\n",
              "      <td>-0.193144</td>\n",
              "      <td>-0.707565</td>\n",
              "      <td>-0.296940</td>\n",
              "      <td>-0.118694</td>\n",
              "      <td>-0.524470</td>\n",
              "      <td>-0.304916</td>\n",
              "      <td>-1.226372</td>\n",
              "      <td>-0.194194</td>\n",
              "      <td>-0.678802</td>\n",
              "      <td>0.180210</td>\n",
              "      <td>-0.298821</td>\n",
              "      <td>0.034398</td>\n",
              "      <td>-0.379190</td>\n",
              "      <td>-0.379500</td>\n",
              "      <td>0.534199</td>\n",
              "      <td>-1.348864</td>\n",
              "      <td>0.226238</td>\n",
              "      <td>-0.541182</td>\n",
              "      <td>0.190348</td>\n",
              "      <td>-0.999263</td>\n",
              "      <td>-1.164199</td>\n",
              "      <td>-1.019100</td>\n",
              "      <td>-0.045274</td>\n",
              "      <td>0.538248</td>\n",
              "      <td>-0.647132</td>\n",
              "      <td>-0.184684</td>\n",
              "      <td>-1.159737</td>\n",
              "      <td>-0.260788</td>\n",
              "      <td>1.341597</td>\n",
              "      <td>0.845153</td>\n",
              "      <td>0.845153</td>\n",
              "      <td>-0.118262</td>\n",
              "      <td>0.274070</td>\n",
              "      <td>-1.115442</td>\n",
              "      <td>-0.253302</td>\n",
              "      <td>-0.554250</td>\n",
              "      <td>0.690346</td>\n",
              "    </tr>\n",
              "    <tr>\n",
              "      <th>4289</th>\n",
              "      <td>-0.634057</td>\n",
              "      <td>2.294803</td>\n",
              "      <td>-0.228176</td>\n",
              "      <td>-0.332200</td>\n",
              "      <td>-0.486326</td>\n",
              "      <td>-0.595984</td>\n",
              "      <td>-0.297595</td>\n",
              "      <td>-0.297595</td>\n",
              "      <td>-0.322940</td>\n",
              "      <td>-0.029963</td>\n",
              "      <td>-1.274584</td>\n",
              "      <td>0.880321</td>\n",
              "      <td>-0.491219</td>\n",
              "      <td>-0.645319</td>\n",
              "      <td>-1.256961</td>\n",
              "      <td>-0.634739</td>\n",
              "      <td>-0.498748</td>\n",
              "      <td>-0.603604</td>\n",
              "      <td>-0.062429</td>\n",
              "      <td>-0.057884</td>\n",
              "      <td>-0.291409</td>\n",
              "      <td>-0.100215</td>\n",
              "      <td>-0.844462</td>\n",
              "      <td>-0.748438</td>\n",
              "      <td>-0.379580</td>\n",
              "      <td>-0.357490</td>\n",
              "      <td>-0.388365</td>\n",
              "      <td>-0.245316</td>\n",
              "      <td>0.0</td>\n",
              "      <td>-0.363830</td>\n",
              "      <td>-0.364193</td>\n",
              "      <td>-0.043387</td>\n",
              "      <td>-0.032393</td>\n",
              "      <td>0.0</td>\n",
              "      <td>-0.221088</td>\n",
              "      <td>-0.701297</td>\n",
              "      <td>-0.211084</td>\n",
              "      <td>-1.339912</td>\n",
              "      <td>-2.172947</td>\n",
              "      <td>-0.344374</td>\n",
              "      <td>...</td>\n",
              "      <td>-0.564449</td>\n",
              "      <td>-1.959106</td>\n",
              "      <td>-1.005749</td>\n",
              "      <td>-0.226960</td>\n",
              "      <td>-0.743348</td>\n",
              "      <td>-0.829440</td>\n",
              "      <td>-0.676912</td>\n",
              "      <td>-0.524512</td>\n",
              "      <td>-0.304916</td>\n",
              "      <td>-1.226661</td>\n",
              "      <td>-0.195715</td>\n",
              "      <td>-0.678796</td>\n",
              "      <td>-0.324606</td>\n",
              "      <td>-0.302895</td>\n",
              "      <td>0.034402</td>\n",
              "      <td>-0.379938</td>\n",
              "      <td>-0.380249</td>\n",
              "      <td>0.041739</td>\n",
              "      <td>-0.773546</td>\n",
              "      <td>-0.300533</td>\n",
              "      <td>-0.918874</td>\n",
              "      <td>-0.806787</td>\n",
              "      <td>-1.024706</td>\n",
              "      <td>0.044417</td>\n",
              "      <td>-1.093425</td>\n",
              "      <td>-0.045274</td>\n",
              "      <td>0.418900</td>\n",
              "      <td>-0.609496</td>\n",
              "      <td>-0.184684</td>\n",
              "      <td>-0.521431</td>\n",
              "      <td>-0.063419</td>\n",
              "      <td>0.412789</td>\n",
              "      <td>0.966110</td>\n",
              "      <td>0.966110</td>\n",
              "      <td>-0.118262</td>\n",
              "      <td>1.261996</td>\n",
              "      <td>-0.621234</td>\n",
              "      <td>-0.080925</td>\n",
              "      <td>0.104989</td>\n",
              "      <td>0.673349</td>\n",
              "    </tr>\n",
              "    <tr>\n",
              "      <th>4290</th>\n",
              "      <td>0.151619</td>\n",
              "      <td>-0.114083</td>\n",
              "      <td>-0.247739</td>\n",
              "      <td>-0.154638</td>\n",
              "      <td>-0.486326</td>\n",
              "      <td>-0.777552</td>\n",
              "      <td>-0.378729</td>\n",
              "      <td>-0.378729</td>\n",
              "      <td>-0.322940</td>\n",
              "      <td>-0.029963</td>\n",
              "      <td>-0.641033</td>\n",
              "      <td>1.342191</td>\n",
              "      <td>-0.492166</td>\n",
              "      <td>-0.646329</td>\n",
              "      <td>-1.273222</td>\n",
              "      <td>-0.217828</td>\n",
              "      <td>-0.295133</td>\n",
              "      <td>-0.582242</td>\n",
              "      <td>-0.062429</td>\n",
              "      <td>-0.057884</td>\n",
              "      <td>-0.291409</td>\n",
              "      <td>0.054760</td>\n",
              "      <td>-0.421512</td>\n",
              "      <td>-0.748705</td>\n",
              "      <td>-0.491845</td>\n",
              "      <td>-0.357490</td>\n",
              "      <td>-0.421616</td>\n",
              "      <td>-0.265607</td>\n",
              "      <td>0.0</td>\n",
              "      <td>-0.363830</td>\n",
              "      <td>-0.364193</td>\n",
              "      <td>-0.043387</td>\n",
              "      <td>-0.032393</td>\n",
              "      <td>0.0</td>\n",
              "      <td>-0.228665</td>\n",
              "      <td>-0.684971</td>\n",
              "      <td>-0.211084</td>\n",
              "      <td>-0.992586</td>\n",
              "      <td>-1.833122</td>\n",
              "      <td>-0.344374</td>\n",
              "      <td>...</td>\n",
              "      <td>-0.564862</td>\n",
              "      <td>-2.513125</td>\n",
              "      <td>-1.068643</td>\n",
              "      <td>-0.429887</td>\n",
              "      <td>-0.913331</td>\n",
              "      <td>-1.361572</td>\n",
              "      <td>-1.234823</td>\n",
              "      <td>-0.524488</td>\n",
              "      <td>-0.304916</td>\n",
              "      <td>-1.674757</td>\n",
              "      <td>-0.194846</td>\n",
              "      <td>-0.678714</td>\n",
              "      <td>-0.324606</td>\n",
              "      <td>-0.319774</td>\n",
              "      <td>-1.121249</td>\n",
              "      <td>-0.814499</td>\n",
              "      <td>-0.814741</td>\n",
              "      <td>-1.367812</td>\n",
              "      <td>-1.315726</td>\n",
              "      <td>0.226156</td>\n",
              "      <td>-0.546267</td>\n",
              "      <td>-0.806709</td>\n",
              "      <td>-1.039925</td>\n",
              "      <td>0.048500</td>\n",
              "      <td>-1.045454</td>\n",
              "      <td>-0.045274</td>\n",
              "      <td>-0.416537</td>\n",
              "      <td>-0.252656</td>\n",
              "      <td>-0.184684</td>\n",
              "      <td>-0.904412</td>\n",
              "      <td>-0.099739</td>\n",
              "      <td>-0.444576</td>\n",
              "      <td>0.376185</td>\n",
              "      <td>0.376185</td>\n",
              "      <td>-0.118262</td>\n",
              "      <td>0.353111</td>\n",
              "      <td>-0.509968</td>\n",
              "      <td>-0.016010</td>\n",
              "      <td>-1.872703</td>\n",
              "      <td>-0.447448</td>\n",
              "    </tr>\n",
              "    <tr>\n",
              "      <th>4291</th>\n",
              "      <td>-0.197655</td>\n",
              "      <td>-0.928747</td>\n",
              "      <td>-0.235681</td>\n",
              "      <td>-0.154638</td>\n",
              "      <td>-0.486326</td>\n",
              "      <td>-0.777552</td>\n",
              "      <td>-0.378729</td>\n",
              "      <td>-0.378729</td>\n",
              "      <td>-0.322940</td>\n",
              "      <td>-0.029963</td>\n",
              "      <td>0.630470</td>\n",
              "      <td>-0.049955</td>\n",
              "      <td>-0.492224</td>\n",
              "      <td>-0.650454</td>\n",
              "      <td>-1.439070</td>\n",
              "      <td>-0.979655</td>\n",
              "      <td>-0.615692</td>\n",
              "      <td>-0.977221</td>\n",
              "      <td>-0.062429</td>\n",
              "      <td>-0.057884</td>\n",
              "      <td>-0.291409</td>\n",
              "      <td>0.054760</td>\n",
              "      <td>0.001438</td>\n",
              "      <td>-0.748972</td>\n",
              "      <td>-0.604110</td>\n",
              "      <td>-0.357490</td>\n",
              "      <td>-0.421616</td>\n",
              "      <td>-0.265607</td>\n",
              "      <td>0.0</td>\n",
              "      <td>-0.363830</td>\n",
              "      <td>-0.364193</td>\n",
              "      <td>-0.043387</td>\n",
              "      <td>-0.032393</td>\n",
              "      <td>0.0</td>\n",
              "      <td>-0.228665</td>\n",
              "      <td>-0.655024</td>\n",
              "      <td>-0.211084</td>\n",
              "      <td>0.055188</td>\n",
              "      <td>-0.528109</td>\n",
              "      <td>-0.344374</td>\n",
              "      <td>...</td>\n",
              "      <td>0.091174</td>\n",
              "      <td>-1.725667</td>\n",
              "      <td>-1.044108</td>\n",
              "      <td>-0.587719</td>\n",
              "      <td>-0.984902</td>\n",
              "      <td>-1.399796</td>\n",
              "      <td>-1.261354</td>\n",
              "      <td>-0.524494</td>\n",
              "      <td>-0.304916</td>\n",
              "      <td>-1.747500</td>\n",
              "      <td>-0.195063</td>\n",
              "      <td>-0.678786</td>\n",
              "      <td>-0.324641</td>\n",
              "      <td>-0.311804</td>\n",
              "      <td>-1.121249</td>\n",
              "      <td>-0.814620</td>\n",
              "      <td>-0.814862</td>\n",
              "      <td>-1.372702</td>\n",
              "      <td>-1.322269</td>\n",
              "      <td>0.143210</td>\n",
              "      <td>-0.789107</td>\n",
              "      <td>-0.806709</td>\n",
              "      <td>-0.451765</td>\n",
              "      <td>0.048500</td>\n",
              "      <td>-0.507282</td>\n",
              "      <td>-0.070581</td>\n",
              "      <td>-0.535885</td>\n",
              "      <td>-0.325234</td>\n",
              "      <td>-0.184684</td>\n",
              "      <td>-0.904412</td>\n",
              "      <td>-0.422294</td>\n",
              "      <td>-0.516023</td>\n",
              "      <td>0.602627</td>\n",
              "      <td>0.602627</td>\n",
              "      <td>-0.118262</td>\n",
              "      <td>0.432144</td>\n",
              "      <td>0.573016</td>\n",
              "      <td>0.061090</td>\n",
              "      <td>-1.213470</td>\n",
              "      <td>-0.433294</td>\n",
              "    </tr>\n",
              "    <tr>\n",
              "      <th>4292</th>\n",
              "      <td>-0.197655</td>\n",
              "      <td>1.506971</td>\n",
              "      <td>-0.230593</td>\n",
              "      <td>-0.154638</td>\n",
              "      <td>-0.486326</td>\n",
              "      <td>-0.777552</td>\n",
              "      <td>-0.378729</td>\n",
              "      <td>-0.378729</td>\n",
              "      <td>-0.322940</td>\n",
              "      <td>-0.029963</td>\n",
              "      <td>1.902822</td>\n",
              "      <td>-1.161212</td>\n",
              "      <td>-0.499646</td>\n",
              "      <td>-0.654411</td>\n",
              "      <td>-1.939795</td>\n",
              "      <td>-0.968010</td>\n",
              "      <td>-0.426895</td>\n",
              "      <td>-0.991270</td>\n",
              "      <td>-0.062429</td>\n",
              "      <td>-0.057884</td>\n",
              "      <td>-0.291409</td>\n",
              "      <td>0.178740</td>\n",
              "      <td>-0.019430</td>\n",
              "      <td>-0.156756</td>\n",
              "      <td>-0.539617</td>\n",
              "      <td>-0.357490</td>\n",
              "      <td>-0.421616</td>\n",
              "      <td>-0.265607</td>\n",
              "      <td>0.0</td>\n",
              "      <td>-0.363830</td>\n",
              "      <td>-0.364193</td>\n",
              "      <td>-0.043387</td>\n",
              "      <td>-0.032393</td>\n",
              "      <td>0.0</td>\n",
              "      <td>-0.221547</td>\n",
              "      <td>-0.672848</td>\n",
              "      <td>-0.211084</td>\n",
              "      <td>0.403089</td>\n",
              "      <td>-0.163033</td>\n",
              "      <td>-0.344374</td>\n",
              "      <td>...</td>\n",
              "      <td>1.399142</td>\n",
              "      <td>-0.224955</td>\n",
              "      <td>-0.906135</td>\n",
              "      <td>-0.954111</td>\n",
              "      <td>-1.056472</td>\n",
              "      <td>-1.836584</td>\n",
              "      <td>-1.722887</td>\n",
              "      <td>-0.524317</td>\n",
              "      <td>-0.304916</td>\n",
              "      <td>-2.195290</td>\n",
              "      <td>-0.192456</td>\n",
              "      <td>-0.678714</td>\n",
              "      <td>-1.465320</td>\n",
              "      <td>-0.322587</td>\n",
              "      <td>-1.135007</td>\n",
              "      <td>-0.814617</td>\n",
              "      <td>-0.814855</td>\n",
              "      <td>-2.414276</td>\n",
              "      <td>-1.859990</td>\n",
              "      <td>0.658738</td>\n",
              "      <td>-0.346284</td>\n",
              "      <td>-0.806670</td>\n",
              "      <td>-1.688185</td>\n",
              "      <td>1.257127</td>\n",
              "      <td>-1.667181</td>\n",
              "      <td>-0.070581</td>\n",
              "      <td>-1.251973</td>\n",
              "      <td>0.342083</td>\n",
              "      <td>-0.184684</td>\n",
              "      <td>-1.159729</td>\n",
              "      <td>-0.497270</td>\n",
              "      <td>-1.301941</td>\n",
              "      <td>0.795226</td>\n",
              "      <td>0.795226</td>\n",
              "      <td>-0.118262</td>\n",
              "      <td>0.985391</td>\n",
              "      <td>0.081600</td>\n",
              "      <td>0.181068</td>\n",
              "      <td>0.105001</td>\n",
              "      <td>-0.492090</td>\n",
              "    </tr>\n",
              "  </tbody>\n",
              "</table>\n",
              "<p>4293 rows × 94 columns</p>\n",
              "</div>\n",
              "      <button class=\"colab-df-convert\" onclick=\"convertToInteractive('df-149e65f5-cdd0-444d-8e48-8b589f3f56bd')\"\n",
              "              title=\"Convert this dataframe to an interactive table.\"\n",
              "              style=\"display:none;\">\n",
              "        \n",
              "  <svg xmlns=\"http://www.w3.org/2000/svg\" height=\"24px\"viewBox=\"0 0 24 24\"\n",
              "       width=\"24px\">\n",
              "    <path d=\"M0 0h24v24H0V0z\" fill=\"none\"/>\n",
              "    <path d=\"M18.56 5.44l.94 2.06.94-2.06 2.06-.94-2.06-.94-.94-2.06-.94 2.06-2.06.94zm-11 1L8.5 8.5l.94-2.06 2.06-.94-2.06-.94L8.5 2.5l-.94 2.06-2.06.94zm10 10l.94 2.06.94-2.06 2.06-.94-2.06-.94-.94-2.06-.94 2.06-2.06.94z\"/><path d=\"M17.41 7.96l-1.37-1.37c-.4-.4-.92-.59-1.43-.59-.52 0-1.04.2-1.43.59L10.3 9.45l-7.72 7.72c-.78.78-.78 2.05 0 2.83L4 21.41c.39.39.9.59 1.41.59.51 0 1.02-.2 1.41-.59l7.78-7.78 2.81-2.81c.8-.78.8-2.07 0-2.86zM5.41 20L4 18.59l7.72-7.72 1.47 1.35L5.41 20z\"/>\n",
              "  </svg>\n",
              "      </button>\n",
              "      \n",
              "  <style>\n",
              "    .colab-df-container {\n",
              "      display:flex;\n",
              "      flex-wrap:wrap;\n",
              "      gap: 12px;\n",
              "    }\n",
              "\n",
              "    .colab-df-convert {\n",
              "      background-color: #E8F0FE;\n",
              "      border: none;\n",
              "      border-radius: 50%;\n",
              "      cursor: pointer;\n",
              "      display: none;\n",
              "      fill: #1967D2;\n",
              "      height: 32px;\n",
              "      padding: 0 0 0 0;\n",
              "      width: 32px;\n",
              "    }\n",
              "\n",
              "    .colab-df-convert:hover {\n",
              "      background-color: #E2EBFA;\n",
              "      box-shadow: 0px 1px 2px rgba(60, 64, 67, 0.3), 0px 1px 3px 1px rgba(60, 64, 67, 0.15);\n",
              "      fill: #174EA6;\n",
              "    }\n",
              "\n",
              "    [theme=dark] .colab-df-convert {\n",
              "      background-color: #3B4455;\n",
              "      fill: #D2E3FC;\n",
              "    }\n",
              "\n",
              "    [theme=dark] .colab-df-convert:hover {\n",
              "      background-color: #434B5C;\n",
              "      box-shadow: 0px 1px 3px 1px rgba(0, 0, 0, 0.15);\n",
              "      filter: drop-shadow(0px 1px 2px rgba(0, 0, 0, 0.3));\n",
              "      fill: #FFFFFF;\n",
              "    }\n",
              "  </style>\n",
              "\n",
              "      <script>\n",
              "        const buttonEl =\n",
              "          document.querySelector('#df-149e65f5-cdd0-444d-8e48-8b589f3f56bd button.colab-df-convert');\n",
              "        buttonEl.style.display =\n",
              "          google.colab.kernel.accessAllowed ? 'block' : 'none';\n",
              "\n",
              "        async function convertToInteractive(key) {\n",
              "          const element = document.querySelector('#df-149e65f5-cdd0-444d-8e48-8b589f3f56bd');\n",
              "          const dataTable =\n",
              "            await google.colab.kernel.invokeFunction('convertToInteractive',\n",
              "                                                     [key], {});\n",
              "          if (!dataTable) return;\n",
              "\n",
              "          const docLinkHtml = 'Like what you see? Visit the ' +\n",
              "            '<a target=\"_blank\" href=https://colab.research.google.com/notebooks/data_table.ipynb>data table notebook</a>'\n",
              "            + ' to learn more about interactive tables.';\n",
              "          element.innerHTML = '';\n",
              "          dataTable['output_type'] = 'display_data';\n",
              "          await google.colab.output.renderOutput(dataTable, element);\n",
              "          const docLink = document.createElement('div');\n",
              "          docLink.innerHTML = docLinkHtml;\n",
              "          element.appendChild(docLink);\n",
              "        }\n",
              "      </script>\n",
              "    </div>\n",
              "  </div>\n",
              "  "
            ],
            "text/plain": [
              "            0         1         2   ...        91        92        93\n",
              "0    -0.546929 -0.086674 -0.239041  ...  0.049306 -1.213471 -1.180491\n",
              "1    -0.546925 -0.420153 -0.228680  ...  0.034749 -1.213471  0.309891\n",
              "2    -0.546929 -0.420153 -0.249477  ... -0.000416 -1.872702  0.814950\n",
              "3     0.433690 -0.924179 -0.238018  ... -0.114463 -2.531934  0.670148\n",
              "4     0.957219 -0.187174 -0.230036  ... -0.078070 -1.213469  1.097880\n",
              "...        ...       ...       ...  ...       ...       ...       ...\n",
              "4288 -0.546929  2.294803 -0.237122  ... -0.253302 -0.554250  0.690346\n",
              "4289 -0.634057  2.294803 -0.228176  ... -0.080925  0.104989  0.673349\n",
              "4290  0.151619 -0.114083 -0.247739  ... -0.016010 -1.872703 -0.447448\n",
              "4291 -0.197655 -0.928747 -0.235681  ...  0.061090 -1.213470 -0.433294\n",
              "4292 -0.197655  1.506971 -0.230593  ...  0.181068  0.105001 -0.492090\n",
              "\n",
              "[4293 rows x 94 columns]"
            ]
          },
          "metadata": {},
          "execution_count": 34
        }
      ],
      "source": [
        "dataframe"
      ]
    },
    {
      "cell_type": "code",
      "execution_count": 35,
      "id": "1708fb22",
      "metadata": {
        "id": "1708fb22"
      },
      "outputs": [],
      "source": [
        "from sklearn.model_selection import train_test_split"
      ]
    },
    {
      "cell_type": "code",
      "execution_count": 36,
      "id": "5a6114d8",
      "metadata": {
        "id": "5a6114d8"
      },
      "outputs": [],
      "source": [
        "X_train,X_test, y_train, y_test = train_test_split(dataframe, y) #splitting the dataset in test and train"
      ]
    },
    {
      "cell_type": "code",
      "execution_count": 37,
      "id": "787705d5",
      "metadata": {
        "id": "787705d5"
      },
      "outputs": [],
      "source": [
        "from sklearn.multiclass import OneVsRestClassifier\n",
        "from sklearn.svm import SVC"
      ]
    },
    {
      "cell_type": "code",
      "execution_count": 38,
      "id": "a10cb985",
      "metadata": {
        "id": "a10cb985"
      },
      "outputs": [],
      "source": [
        "clf = OneVsRestClassifier(SVC()).fit(X_train, y_train) #using one vs rest classifier with SVC classifier"
      ]
    },
    {
      "cell_type": "code",
      "execution_count": 39,
      "id": "dd5a62d1",
      "metadata": {
        "id": "dd5a62d1"
      },
      "outputs": [],
      "source": [
        "preds = clf.predict(X_test)"
      ]
    },
    {
      "cell_type": "code",
      "execution_count": 40,
      "id": "edc0b12e",
      "metadata": {
        "id": "edc0b12e"
      },
      "outputs": [],
      "source": [
        "from sklearn.metrics import accuracy_score"
      ]
    },
    {
      "cell_type": "code",
      "execution_count": 41,
      "id": "b6e9932f",
      "metadata": {
        "id": "b6e9932f"
      },
      "outputs": [],
      "source": [
        "acc = accuracy_score(preds, y_test)"
      ]
    },
    {
      "cell_type": "code",
      "source": [
        "print(\"training accuracy : {}\".format(accuracy_score(clf.predict(X_train), y_train)*100)) #training accuracry"
      ],
      "metadata": {
        "colab": {
          "base_uri": "https://localhost:8080/"
        },
        "id": "qsnFjIvlUNgv",
        "outputId": "bdb065b8-c559-4829-b6a0-58a3d510eb87"
      },
      "id": "qsnFjIvlUNgv",
      "execution_count": 42,
      "outputs": [
        {
          "output_type": "stream",
          "name": "stdout",
          "text": [
            "training accuracy : 94.9363156259708\n"
          ]
        }
      ]
    },
    {
      "cell_type": "code",
      "execution_count": 43,
      "id": "42c96a1a",
      "metadata": {
        "colab": {
          "base_uri": "https://localhost:8080/"
        },
        "id": "42c96a1a",
        "outputId": "ad108bf0-db2a-456d-9bf6-bae06e61e39f"
      },
      "outputs": [
        {
          "output_type": "stream",
          "name": "stdout",
          "text": [
            "testing accuracy : 89.57169459962756\n"
          ]
        }
      ],
      "source": [
        "print(\"testing accuracy : {}\".format(acc*100)) #testing accuracy"
      ]
    },
    {
      "cell_type": "code",
      "execution_count": 43,
      "id": "8e5150bf",
      "metadata": {
        "id": "8e5150bf"
      },
      "outputs": [],
      "source": [
        ""
      ]
    },
    {
      "cell_type": "markdown",
      "id": "25cce377",
      "metadata": {
        "id": "25cce377"
      },
      "source": [
        "### Now we can see that the training and testing accuracy is not that great. So I start selecting the important features so that performance is increase."
      ]
    },
    {
      "cell_type": "code",
      "execution_count": 44,
      "id": "d9575e5a",
      "metadata": {
        "id": "d9575e5a"
      },
      "outputs": [],
      "source": [
        "nunique = dataframe.nunique() #checking how many unique values each features have"
      ]
    },
    {
      "cell_type": "code",
      "execution_count": 45,
      "id": "3b74225e",
      "metadata": {
        "colab": {
          "base_uri": "https://localhost:8080/"
        },
        "id": "3b74225e",
        "outputId": "2b716a69-6155-4abc-aada-aefad87d4647"
      },
      "outputs": [
        {
          "output_type": "execute_result",
          "data": {
            "text/plain": [
              "28      1\n",
              "33      1\n",
              "9       5\n",
              "32      5\n",
              "18      7\n",
              "31     11\n",
              "19     12\n",
              "36     20\n",
              "82     27\n",
              "39     29\n",
              "43     35\n",
              "44     39\n",
              "41     49\n",
              "40     69\n",
              "62    110\n",
              "3     153\n",
              "79    156\n",
              "8     178\n",
              "49    191\n",
              "4     212\n",
              "dtype: int64"
            ]
          },
          "metadata": {},
          "execution_count": 45
        }
      ],
      "source": [
        "nunique.sort_values()[0:20] #sort and taking top 20 values"
      ]
    },
    {
      "cell_type": "code",
      "execution_count": 46,
      "id": "1b58cef1",
      "metadata": {
        "id": "1b58cef1"
      },
      "outputs": [],
      "source": [
        "bins = list(range(0, len(nunique)))"
      ]
    },
    {
      "cell_type": "code",
      "execution_count": 47,
      "id": "158354d4",
      "metadata": {
        "colab": {
          "base_uri": "https://localhost:8080/",
          "height": 639
        },
        "id": "158354d4",
        "outputId": "1a4f5bd1-eb09-4ecf-9ae3-5d2a2c7160fb"
      },
      "outputs": [
        {
          "output_type": "execute_result",
          "data": {
            "text/plain": [
              "[]"
            ]
          },
          "metadata": {},
          "execution_count": 47
        },
        {
          "output_type": "display_data",
          "data": {
            "image/png": "[encoded data removed]",
            "text/plain": [
              "<Figure size 720x720 with 1 Axes>"
            ]
          },
          "metadata": {
            "needs_background": "light"
          }
        }
      ],
      "source": [
        "w = 10                                      #plot showing for each features the value of uniques values\n",
        "h = 10                            \n",
        "fig, ax = plt.subplots()\n",
        "fig.set_size_inches(w,h)\n",
        "plt.title(\"unique value counts for features\")\n",
        "plt.xlabel(\"features\")\n",
        "plt.ylabel(\"unique value counts\")\n",
        "plt.scatter(bins, nunique.sort_values())\n",
        "plt.plot()"
      ]
    },
    {
      "cell_type": "code",
      "execution_count": 48,
      "id": "d1e01460",
      "metadata": {
        "colab": {
          "base_uri": "https://localhost:8080/"
        },
        "id": "d1e01460",
        "outputId": "26a0215a-2574-4cff-e677-0e93e5e4b463"
      },
      "outputs": [
        {
          "output_type": "stream",
          "name": "stdout",
          "text": [
            "[9, 18, 19, 28, 31, 32, 33, 36, 39, 43, 44, 82]\n"
          ]
        }
      ],
      "source": [
        "to_del = [i for i,v in enumerate(nunique) if (float(v)/dataframe.shape[0]*100) < 1] \n",
        "print(to_del)  #selecting features whose have 1% of unique values with respect to the values"
      ]
    },
    {
      "cell_type": "code",
      "execution_count": 53,
      "id": "12f6669e",
      "metadata": {
        "id": "12f6669e"
      },
      "outputs": [],
      "source": [
        "# drop useless columns\n",
        "dataframe.drop(to_del, axis=1, inplace=True) \n",
        "print(dataframe.shape)"
      ]
    },
    {
      "cell_type": "code",
      "execution_count": 54,
      "id": "fc43f378",
      "metadata": {
        "id": "fc43f378"
      },
      "outputs": [],
      "source": [
        "dups = dataframe.duplicated() #checking duplicates rows"
      ]
    },
    {
      "cell_type": "code",
      "execution_count": 55,
      "id": "b7e65a78",
      "metadata": {
        "colab": {
          "base_uri": "https://localhost:8080/"
        },
        "id": "b7e65a78",
        "outputId": "e8ae1225-d06d-434d-b7e8-f23d0fbbe3fa"
      },
      "outputs": [
        {
          "output_type": "stream",
          "name": "stdout",
          "text": [
            "False\n"
          ]
        }
      ],
      "source": [
        "print(dups.any())"
      ]
    },
    {
      "cell_type": "markdown",
      "id": "a507b6c9",
      "metadata": {
        "id": "a507b6c9"
      },
      "source": [
        "#### Training again with same classifier with regularization and with rbf kernel"
      ]
    },
    {
      "cell_type": "code",
      "execution_count": 56,
      "id": "e86ee459",
      "metadata": {
        "colab": {
          "base_uri": "https://localhost:8080/"
        },
        "id": "e86ee459",
        "outputId": "e13ec051-9946-4191-b52e-17212c32b238"
      },
      "outputs": [
        {
          "output_type": "stream",
          "name": "stdout",
          "text": [
            "Training accuracy : 99.93786890338615\n",
            "Testing accuracy : 94.87895716945997\n"
          ]
        }
      ],
      "source": [
        "X_train,X_test, y_train, y_test = train_test_split(dataframe, y) #split data in test train\n",
        "clf = OneVsRestClassifier(SVC(kernel = \"rbf\", C=10)).fit(X_train, y_train) #start training\n",
        "preds = clf.predict(X_test) #getting the prediction\n",
        "print(\"Training accuracy : {}\".format(accuracy_score(clf.predict(X_train), y_train)*100)) #training accuracy\n",
        "acc = accuracy_score(preds, y_test)\n",
        "print(\"Testing accuracy : {}\".format(acc*100)) #testing accuracy"
      ]
    },
    {
      "cell_type": "markdown",
      "id": "f93e489d",
      "metadata": {
        "id": "f93e489d"
      },
      "source": [
        "#### We can see that both training and testing accuracy is increased but still there is a chance to improvement, So I use hyperparameters tuning with the help of Random Grid Search."
      ]
    },
    {
      "cell_type": "code",
      "execution_count": 57,
      "id": "20c41070",
      "metadata": {
        "id": "20c41070"
      },
      "outputs": [],
      "source": [
        "# Create the random grid\n",
        "from sklearn.model_selection import RandomizedSearchCV\n",
        "c = [10, 100, 1000, 10000, 1000000, 100000000] #values of c i.e., reciprocals of regularization\n",
        "random_grid = {\"estimator__C\":c,\n",
        "               \"estimator__kernel\": [\"poly\",\"rbf\", \"sigmoid\"] #different kernel function\n",
        "               }\n",
        "model_to_set = OneVsRestClassifier(SVC(kernel=\"poly\"))"
      ]
    },
    {
      "cell_type": "code",
      "execution_count": 58,
      "id": "ca5866c4",
      "metadata": {
        "colab": {
          "base_uri": "https://localhost:8080/"
        },
        "id": "ca5866c4",
        "outputId": "b1ed244b-5b16-4ab8-94b4-07ff5acc6bfe"
      },
      "outputs": [
        {
          "output_type": "execute_result",
          "data": {
            "text/plain": [
              "{'estimator': SVC(C=10),\n",
              " 'estimator__C': 10,\n",
              " 'estimator__break_ties': False,\n",
              " 'estimator__cache_size': 200,\n",
              " 'estimator__class_weight': None,\n",
              " 'estimator__coef0': 0.0,\n",
              " 'estimator__decision_function_shape': 'ovr',\n",
              " 'estimator__degree': 3,\n",
              " 'estimator__gamma': 'scale',\n",
              " 'estimator__kernel': 'rbf',\n",
              " 'estimator__max_iter': -1,\n",
              " 'estimator__probability': False,\n",
              " 'estimator__random_state': None,\n",
              " 'estimator__shrinking': True,\n",
              " 'estimator__tol': 0.001,\n",
              " 'estimator__verbose': False,\n",
              " 'n_jobs': None}"
            ]
          },
          "metadata": {},
          "execution_count": 58
        }
      ],
      "source": [
        "clf.get_params()"
      ]
    },
    {
      "cell_type": "code",
      "execution_count": 59,
      "id": "4f26c034",
      "metadata": {
        "id": "4f26c034"
      },
      "outputs": [],
      "source": [
        "X_train,X_test, y_train, y_test = train_test_split(dataframe, y)\n",
        "clf = OneVsRestClassifier(SVC())\n",
        "# Random search of parameters, using 5 fold cross validation, \n",
        "# search across 100 different combinations\n",
        "svf_random = RandomizedSearchCV(estimator = clf, param_distributions = random_grid,scoring='accuracy', n_iter = 18, cv = 5, verbose=2, random_state=42, n_jobs = 1)"
      ]
    },
    {
      "cell_type": "code",
      "execution_count": 60,
      "id": "41827831",
      "metadata": {
        "colab": {
          "base_uri": "https://localhost:8080/"
        },
        "id": "41827831",
        "outputId": "25a010d2-b075-4f3e-bc6c-49417b11eb77"
      },
      "outputs": [
        {
          "output_type": "stream",
          "name": "stdout",
          "text": [
            "Fitting 5 folds for each of 18 candidates, totalling 90 fits\n",
            "[CV] END ............estimator__C=10, estimator__kernel=poly; total time=   1.1s\n",
            "[CV] END ............estimator__C=10, estimator__kernel=poly; total time=   1.1s\n",
            "[CV] END ............estimator__C=10, estimator__kernel=poly; total time=   1.1s\n",
            "[CV] END ............estimator__C=10, estimator__kernel=poly; total time=   1.2s\n",
            "[CV] END ............estimator__C=10, estimator__kernel=poly; total time=   1.1s\n",
            "[CV] END .............estimator__C=10, estimator__kernel=rbf; total time=   1.2s\n",
            "[CV] END .............estimator__C=10, estimator__kernel=rbf; total time=   1.2s\n",
            "[CV] END .............estimator__C=10, estimator__kernel=rbf; total time=   1.2s\n",
            "[CV] END .............estimator__C=10, estimator__kernel=rbf; total time=   1.2s\n",
            "[CV] END .............estimator__C=10, estimator__kernel=rbf; total time=   1.2s\n",
            "[CV] END .........estimator__C=10, estimator__kernel=sigmoid; total time=   0.6s\n",
            "[CV] END .........estimator__C=10, estimator__kernel=sigmoid; total time=   0.5s\n",
            "[CV] END .........estimator__C=10, estimator__kernel=sigmoid; total time=   0.6s\n",
            "[CV] END .........estimator__C=10, estimator__kernel=sigmoid; total time=   0.6s\n",
            "[CV] END .........estimator__C=10, estimator__kernel=sigmoid; total time=   0.5s\n",
            "[CV] END ...........estimator__C=100, estimator__kernel=poly; total time=   1.4s\n",
            "[CV] END ...........estimator__C=100, estimator__kernel=poly; total time=   1.3s\n",
            "[CV] END ...........estimator__C=100, estimator__kernel=poly; total time=   1.2s\n",
            "[CV] END ...........estimator__C=100, estimator__kernel=poly; total time=   1.3s\n",
            "[CV] END ...........estimator__C=100, estimator__kernel=poly; total time=   1.2s\n",
            "[CV] END ............estimator__C=100, estimator__kernel=rbf; total time=   1.2s\n",
            "[CV] END ............estimator__C=100, estimator__kernel=rbf; total time=   1.2s\n",
            "[CV] END ............estimator__C=100, estimator__kernel=rbf; total time=   1.2s\n",
            "[CV] END ............estimator__C=100, estimator__kernel=rbf; total time=   1.2s\n",
            "[CV] END ............estimator__C=100, estimator__kernel=rbf; total time=   1.2s\n",
            "[CV] END ........estimator__C=100, estimator__kernel=sigmoid; total time=   0.6s\n",
            "[CV] END ........estimator__C=100, estimator__kernel=sigmoid; total time=   0.5s\n",
            "[CV] END ........estimator__C=100, estimator__kernel=sigmoid; total time=   0.5s\n",
            "[CV] END ........estimator__C=100, estimator__kernel=sigmoid; total time=   0.5s\n",
            "[CV] END ........estimator__C=100, estimator__kernel=sigmoid; total time=   0.5s\n",
            "[CV] END ..........estimator__C=1000, estimator__kernel=poly; total time=   1.3s\n",
            "[CV] END ..........estimator__C=1000, estimator__kernel=poly; total time=   1.3s\n",
            "[CV] END ..........estimator__C=1000, estimator__kernel=poly; total time=   1.2s\n",
            "[CV] END ..........estimator__C=1000, estimator__kernel=poly; total time=   1.2s\n",
            "[CV] END ..........estimator__C=1000, estimator__kernel=poly; total time=   1.2s\n",
            "[CV] END ...........estimator__C=1000, estimator__kernel=rbf; total time=   1.2s\n",
            "[CV] END ...........estimator__C=1000, estimator__kernel=rbf; total time=   1.2s\n",
            "[CV] END ...........estimator__C=1000, estimator__kernel=rbf; total time=   1.2s\n",
            "[CV] END ...........estimator__C=1000, estimator__kernel=rbf; total time=   1.2s\n",
            "[CV] END ...........estimator__C=1000, estimator__kernel=rbf; total time=   1.2s\n",
            "[CV] END .......estimator__C=1000, estimator__kernel=sigmoid; total time=   0.5s\n",
            "[CV] END .......estimator__C=1000, estimator__kernel=sigmoid; total time=   0.5s\n",
            "[CV] END .......estimator__C=1000, estimator__kernel=sigmoid; total time=   0.5s\n",
            "[CV] END .......estimator__C=1000, estimator__kernel=sigmoid; total time=   0.5s\n",
            "[CV] END .......estimator__C=1000, estimator__kernel=sigmoid; total time=   0.5s\n",
            "[CV] END .........estimator__C=10000, estimator__kernel=poly; total time=   1.3s\n",
            "[CV] END .........estimator__C=10000, estimator__kernel=poly; total time=   1.3s\n",
            "[CV] END .........estimator__C=10000, estimator__kernel=poly; total time=   1.2s\n",
            "[CV] END .........estimator__C=10000, estimator__kernel=poly; total time=   1.3s\n",
            "[CV] END .........estimator__C=10000, estimator__kernel=poly; total time=   1.2s\n",
            "[CV] END ..........estimator__C=10000, estimator__kernel=rbf; total time=   1.2s\n",
            "[CV] END ..........estimator__C=10000, estimator__kernel=rbf; total time=   1.2s\n",
            "[CV] END ..........estimator__C=10000, estimator__kernel=rbf; total time=   1.2s\n",
            "[CV] END ..........estimator__C=10000, estimator__kernel=rbf; total time=   1.2s\n",
            "[CV] END ..........estimator__C=10000, estimator__kernel=rbf; total time=   1.2s\n",
            "[CV] END ......estimator__C=10000, estimator__kernel=sigmoid; total time=   0.5s\n",
            "[CV] END ......estimator__C=10000, estimator__kernel=sigmoid; total time=   0.6s\n",
            "[CV] END ......estimator__C=10000, estimator__kernel=sigmoid; total time=   0.5s\n",
            "[CV] END ......estimator__C=10000, estimator__kernel=sigmoid; total time=   0.5s\n",
            "[CV] END ......estimator__C=10000, estimator__kernel=sigmoid; total time=   0.5s\n",
            "[CV] END .......estimator__C=1000000, estimator__kernel=poly; total time=   1.3s\n",
            "[CV] END .......estimator__C=1000000, estimator__kernel=poly; total time=   1.2s\n",
            "[CV] END .......estimator__C=1000000, estimator__kernel=poly; total time=   1.2s\n",
            "[CV] END .......estimator__C=1000000, estimator__kernel=poly; total time=   1.2s\n",
            "[CV] END .......estimator__C=1000000, estimator__kernel=poly; total time=   1.2s\n",
            "[CV] END ........estimator__C=1000000, estimator__kernel=rbf; total time=   1.2s\n",
            "[CV] END ........estimator__C=1000000, estimator__kernel=rbf; total time=   1.2s\n",
            "[CV] END ........estimator__C=1000000, estimator__kernel=rbf; total time=   1.2s\n",
            "[CV] END ........estimator__C=1000000, estimator__kernel=rbf; total time=   1.2s\n",
            "[CV] END ........estimator__C=1000000, estimator__kernel=rbf; total time=   1.2s\n",
            "[CV] END ....estimator__C=1000000, estimator__kernel=sigmoid; total time=   0.5s\n",
            "[CV] END ....estimator__C=1000000, estimator__kernel=sigmoid; total time=   0.5s\n",
            "[CV] END ....estimator__C=1000000, estimator__kernel=sigmoid; total time=   0.6s\n",
            "[CV] END ....estimator__C=1000000, estimator__kernel=sigmoid; total time=   0.5s\n",
            "[CV] END ....estimator__C=1000000, estimator__kernel=sigmoid; total time=   0.5s\n",
            "[CV] END .....estimator__C=100000000, estimator__kernel=poly; total time=   1.3s\n",
            "[CV] END .....estimator__C=100000000, estimator__kernel=poly; total time=   1.2s\n",
            "[CV] END .....estimator__C=100000000, estimator__kernel=poly; total time=   1.2s\n",
            "[CV] END .....estimator__C=100000000, estimator__kernel=poly; total time=   1.2s\n",
            "[CV] END .....estimator__C=100000000, estimator__kernel=poly; total time=   1.2s\n",
            "[CV] END ......estimator__C=100000000, estimator__kernel=rbf; total time=   1.2s\n",
            "[CV] END ......estimator__C=100000000, estimator__kernel=rbf; total time=   1.2s\n",
            "[CV] END ......estimator__C=100000000, estimator__kernel=rbf; total time=   1.2s\n",
            "[CV] END ......estimator__C=100000000, estimator__kernel=rbf; total time=   1.2s\n",
            "[CV] END ......estimator__C=100000000, estimator__kernel=rbf; total time=   1.2s\n",
            "[CV] END ..estimator__C=100000000, estimator__kernel=sigmoid; total time=   0.5s\n",
            "[CV] END ..estimator__C=100000000, estimator__kernel=sigmoid; total time=   1.2s\n",
            "[CV] END ..estimator__C=100000000, estimator__kernel=sigmoid; total time=   0.5s\n",
            "[CV] END ..estimator__C=100000000, estimator__kernel=sigmoid; total time=   0.5s\n",
            "[CV] END ..estimator__C=100000000, estimator__kernel=sigmoid; total time=   0.5s\n"
          ]
        },
        {
          "output_type": "execute_result",
          "data": {
            "text/plain": [
              "RandomizedSearchCV(cv=5, estimator=OneVsRestClassifier(estimator=SVC()),\n",
              "                   n_iter=18, n_jobs=1,\n",
              "                   param_distributions={'estimator__C': [10, 100, 1000, 10000,\n",
              "                                                         1000000, 100000000],\n",
              "                                        'estimator__kernel': ['poly', 'rbf',\n",
              "                                                              'sigmoid']},\n",
              "                   random_state=42, scoring='accuracy', verbose=2)"
            ]
          },
          "metadata": {},
          "execution_count": 60
        }
      ],
      "source": [
        "svf_random.fit(X_train, y_train) #training the models"
      ]
    },
    {
      "cell_type": "code",
      "execution_count": 61,
      "id": "2ccc99ef",
      "metadata": {
        "colab": {
          "base_uri": "https://localhost:8080/"
        },
        "id": "2ccc99ef",
        "outputId": "341d42f5-1fde-4da8-ae6a-84326bab08d5"
      },
      "outputs": [
        {
          "output_type": "stream",
          "name": "stdout",
          "text": [
            "{'estimator__kernel': 'rbf', 'estimator__C': 100}\n",
            "trainig accuracy : 100.0\n",
            "testing accuracy : 94.87895716945997\n"
          ]
        }
      ],
      "source": [
        "print(svf_random.best_params_)\n",
        "preds = svf_random.predict(X_test)\n",
        "print(\"trainig accuracy : {}\".format(accuracy_score(svf_random.predict(X_train), y_train)*100))\n",
        "acc = accuracy_score(preds, y_test)\n",
        "print(\"testing accuracy : {}\".format(acc*100))"
      ]
    },
    {
      "cell_type": "markdown",
      "id": "352e3f36",
      "metadata": {
        "id": "352e3f36"
      },
      "source": [
        "#### performance didn't increase that much for I try different classifier i.e., Random forest"
      ]
    },
    {
      "cell_type": "code",
      "execution_count": 62,
      "id": "81327f42",
      "metadata": {
        "id": "81327f42"
      },
      "outputs": [],
      "source": [
        "#Randomized Search CV\n",
        "\n",
        "# Number of trees in random forest\n",
        "n_estimators = [int(x) for x in np.linspace(start = 100, stop = 1200, num = 12)]\n",
        "# Number of features to consider at every split\n",
        "max_features = ['auto', 'sqrt']\n",
        "# Maximum number of levels in tree\n",
        "max_depth = [int(x) for x in np.linspace(5, 30, num = 6)]\n",
        "# Minimum number of samples required to split a node\n",
        "min_samples_split = [2, 5, 10, 15, 100]\n",
        "# Minimum number of samples required at each leaf node\n",
        "min_samples_leaf = [1, 2, 5, 10]"
      ]
    },
    {
      "cell_type": "code",
      "execution_count": 63,
      "id": "1e832f2f",
      "metadata": {
        "id": "1e832f2f"
      },
      "outputs": [],
      "source": [
        "# Create the random grid\n",
        "\n",
        "random_grid = {'n_estimators': n_estimators,\n",
        "               'max_features': max_features,\n",
        "               'max_depth': max_depth,\n",
        "               'min_samples_split': min_samples_split,\n",
        "               'min_samples_leaf': min_samples_leaf}"
      ]
    },
    {
      "cell_type": "code",
      "execution_count": 64,
      "id": "8e4df8e1",
      "metadata": {
        "id": "8e4df8e1"
      },
      "outputs": [],
      "source": [
        "from sklearn.ensemble import RandomForestRegressor\n",
        "reg_rf = RandomForestRegressor()"
      ]
    },
    {
      "cell_type": "code",
      "execution_count": 65,
      "id": "96423021",
      "metadata": {
        "id": "96423021"
      },
      "outputs": [],
      "source": [
        "# Random search of parameters, using 5 fold cross validation, \n",
        "# search across 100 different combinations\n",
        "rf_random = RandomizedSearchCV(estimator = reg_rf, param_distributions = random_grid, n_iter = 10, cv = 5, verbose=2, random_state=42, n_jobs = 1)"
      ]
    },
    {
      "cell_type": "code",
      "execution_count": 66,
      "id": "fwTGs_Pvg8IU",
      "metadata": {
        "id": "fwTGs_Pvg8IU"
      },
      "outputs": [],
      "source": [
        "import pandas as pd"
      ]
    },
    {
      "cell_type": "code",
      "execution_count": 67,
      "id": "93e4569c",
      "metadata": {
        "id": "93e4569c"
      },
      "outputs": [],
      "source": [
        "y_train_new = pd.get_dummies(y_train) #one hot encoding"
      ]
    },
    {
      "cell_type": "code",
      "execution_count": 68,
      "id": "WopZy0zd5r52",
      "metadata": {
        "id": "WopZy0zd5r52"
      },
      "outputs": [],
      "source": [
        "y_test_new = pd.get_dummies(y_test)"
      ]
    },
    {
      "cell_type": "code",
      "execution_count": 69,
      "id": "5481b2fb",
      "metadata": {
        "colab": {
          "base_uri": "https://localhost:8080/",
          "height": 270
        },
        "id": "5481b2fb",
        "outputId": "d3d43514-13e6-499b-d6e9-294643cb926b"
      },
      "outputs": [
        {
          "output_type": "execute_result",
          "data": {
            "text/html": [
              "\n",
              "  <div id=\"df-b7a089cd-4505-40a4-9036-5fc537da4182\">\n",
              "    <div class=\"colab-df-container\">\n",
              "      <div>\n",
              "<style scoped>\n",
              "    .dataframe tbody tr th:only-of-type {\n",
              "        vertical-align: middle;\n",
              "    }\n",
              "\n",
              "    .dataframe tbody tr th {\n",
              "        vertical-align: top;\n",
              "    }\n",
              "\n",
              "    .dataframe thead th {\n",
              "        text-align: right;\n",
              "    }\n",
              "</style>\n",
              "<table border=\"1\" class=\"dataframe\">\n",
              "  <thead>\n",
              "    <tr style=\"text-align: right;\">\n",
              "      <th></th>\n",
              "      <th>CPU_BURN_KANBAN_API_GATEWAY</th>\n",
              "      <th>NETWORK_DELAY_KANBAN_API_GATEWAY</th>\n",
              "      <th>NETWORK_DELAY_KANBAN_COMMAND_SERVICE</th>\n",
              "      <th>NORMAL</th>\n",
              "      <th>POD_KILL_KANBAN_API_GATEWAY</th>\n",
              "    </tr>\n",
              "  </thead>\n",
              "  <tbody>\n",
              "    <tr>\n",
              "      <th>1101</th>\n",
              "      <td>0</td>\n",
              "      <td>0</td>\n",
              "      <td>0</td>\n",
              "      <td>1</td>\n",
              "      <td>0</td>\n",
              "    </tr>\n",
              "    <tr>\n",
              "      <th>401</th>\n",
              "      <td>0</td>\n",
              "      <td>0</td>\n",
              "      <td>0</td>\n",
              "      <td>1</td>\n",
              "      <td>0</td>\n",
              "    </tr>\n",
              "    <tr>\n",
              "      <th>1861</th>\n",
              "      <td>0</td>\n",
              "      <td>1</td>\n",
              "      <td>0</td>\n",
              "      <td>0</td>\n",
              "      <td>0</td>\n",
              "    </tr>\n",
              "    <tr>\n",
              "      <th>459</th>\n",
              "      <td>0</td>\n",
              "      <td>0</td>\n",
              "      <td>0</td>\n",
              "      <td>1</td>\n",
              "      <td>0</td>\n",
              "    </tr>\n",
              "    <tr>\n",
              "      <th>2814</th>\n",
              "      <td>0</td>\n",
              "      <td>0</td>\n",
              "      <td>0</td>\n",
              "      <td>1</td>\n",
              "      <td>0</td>\n",
              "    </tr>\n",
              "  </tbody>\n",
              "</table>\n",
              "</div>\n",
              "      <button class=\"colab-df-convert\" onclick=\"convertToInteractive('df-b7a089cd-4505-40a4-9036-5fc537da4182')\"\n",
              "              title=\"Convert this dataframe to an interactive table.\"\n",
              "              style=\"display:none;\">\n",
              "        \n",
              "  <svg xmlns=\"http://www.w3.org/2000/svg\" height=\"24px\"viewBox=\"0 0 24 24\"\n",
              "       width=\"24px\">\n",
              "    <path d=\"M0 0h24v24H0V0z\" fill=\"none\"/>\n",
              "    <path d=\"M18.56 5.44l.94 2.06.94-2.06 2.06-.94-2.06-.94-.94-2.06-.94 2.06-2.06.94zm-11 1L8.5 8.5l.94-2.06 2.06-.94-2.06-.94L8.5 2.5l-.94 2.06-2.06.94zm10 10l.94 2.06.94-2.06 2.06-.94-2.06-.94-.94-2.06-.94 2.06-2.06.94z\"/><path d=\"M17.41 7.96l-1.37-1.37c-.4-.4-.92-.59-1.43-.59-.52 0-1.04.2-1.43.59L10.3 9.45l-7.72 7.72c-.78.78-.78 2.05 0 2.83L4 21.41c.39.39.9.59 1.41.59.51 0 1.02-.2 1.41-.59l7.78-7.78 2.81-2.81c.8-.78.8-2.07 0-2.86zM5.41 20L4 18.59l7.72-7.72 1.47 1.35L5.41 20z\"/>\n",
              "  </svg>\n",
              "      </button>\n",
              "      \n",
              "  <style>\n",
              "    .colab-df-container {\n",
              "      display:flex;\n",
              "      flex-wrap:wrap;\n",
              "      gap: 12px;\n",
              "    }\n",
              "\n",
              "    .colab-df-convert {\n",
              "      background-color: #E8F0FE;\n",
              "      border: none;\n",
              "      border-radius: 50%;\n",
              "      cursor: pointer;\n",
              "      display: none;\n",
              "      fill: #1967D2;\n",
              "      height: 32px;\n",
              "      padding: 0 0 0 0;\n",
              "      width: 32px;\n",
              "    }\n",
              "\n",
              "    .colab-df-convert:hover {\n",
              "      background-color: #E2EBFA;\n",
              "      box-shadow: 0px 1px 2px rgba(60, 64, 67, 0.3), 0px 1px 3px 1px rgba(60, 64, 67, 0.15);\n",
              "      fill: #174EA6;\n",
              "    }\n",
              "\n",
              "    [theme=dark] .colab-df-convert {\n",
              "      background-color: #3B4455;\n",
              "      fill: #D2E3FC;\n",
              "    }\n",
              "\n",
              "    [theme=dark] .colab-df-convert:hover {\n",
              "      background-color: #434B5C;\n",
              "      box-shadow: 0px 1px 3px 1px rgba(0, 0, 0, 0.15);\n",
              "      filter: drop-shadow(0px 1px 2px rgba(0, 0, 0, 0.3));\n",
              "      fill: #FFFFFF;\n",
              "    }\n",
              "  </style>\n",
              "\n",
              "      <script>\n",
              "        const buttonEl =\n",
              "          document.querySelector('#df-b7a089cd-4505-40a4-9036-5fc537da4182 button.colab-df-convert');\n",
              "        buttonEl.style.display =\n",
              "          google.colab.kernel.accessAllowed ? 'block' : 'none';\n",
              "\n",
              "        async function convertToInteractive(key) {\n",
              "          const element = document.querySelector('#df-b7a089cd-4505-40a4-9036-5fc537da4182');\n",
              "          const dataTable =\n",
              "            await google.colab.kernel.invokeFunction('convertToInteractive',\n",
              "                                                     [key], {});\n",
              "          if (!dataTable) return;\n",
              "\n",
              "          const docLinkHtml = 'Like what you see? Visit the ' +\n",
              "            '<a target=\"_blank\" href=https://colab.research.google.com/notebooks/data_table.ipynb>data table notebook</a>'\n",
              "            + ' to learn more about interactive tables.';\n",
              "          element.innerHTML = '';\n",
              "          dataTable['output_type'] = 'display_data';\n",
              "          await google.colab.output.renderOutput(dataTable, element);\n",
              "          const docLink = document.createElement('div');\n",
              "          docLink.innerHTML = docLinkHtml;\n",
              "          element.appendChild(docLink);\n",
              "        }\n",
              "      </script>\n",
              "    </div>\n",
              "  </div>\n",
              "  "
            ],
            "text/plain": [
              "      CPU_BURN_KANBAN_API_GATEWAY  ...  POD_KILL_KANBAN_API_GATEWAY\n",
              "1101                            0  ...                            0\n",
              "401                             0  ...                            0\n",
              "1861                            0  ...                            0\n",
              "459                             0  ...                            0\n",
              "2814                            0  ...                            0\n",
              "\n",
              "[5 rows x 5 columns]"
            ]
          },
          "metadata": {},
          "execution_count": 69
        }
      ],
      "source": [
        "y_train_new.head()"
      ]
    },
    {
      "cell_type": "code",
      "execution_count": 70,
      "id": "d9729bf6",
      "metadata": {
        "colab": {
          "base_uri": "https://localhost:8080/"
        },
        "id": "d9729bf6",
        "outputId": "13fb88cd-dd65-4ed2-9ef7-415a5d20dd07"
      },
      "outputs": [
        {
          "output_type": "stream",
          "name": "stdout",
          "text": [
            "Fitting 5 folds for each of 10 candidates, totalling 50 fits\n",
            "[CV] END max_depth=10, max_features=sqrt, min_samples_leaf=5, min_samples_split=5, n_estimators=900; total time=  10.6s\n",
            "[CV] END max_depth=10, max_features=sqrt, min_samples_leaf=5, min_samples_split=5, n_estimators=900; total time=  10.4s\n",
            "[CV] END max_depth=10, max_features=sqrt, min_samples_leaf=5, min_samples_split=5, n_estimators=900; total time=  10.5s\n",
            "[CV] END max_depth=10, max_features=sqrt, min_samples_leaf=5, min_samples_split=5, n_estimators=900; total time=  10.4s\n",
            "[CV] END max_depth=10, max_features=sqrt, min_samples_leaf=5, min_samples_split=5, n_estimators=900; total time=  10.4s\n",
            "[CV] END max_depth=15, max_features=sqrt, min_samples_leaf=2, min_samples_split=10, n_estimators=1100; total time=  14.5s\n",
            "[CV] END max_depth=15, max_features=sqrt, min_samples_leaf=2, min_samples_split=10, n_estimators=1100; total time=  14.4s\n",
            "[CV] END max_depth=15, max_features=sqrt, min_samples_leaf=2, min_samples_split=10, n_estimators=1100; total time=  14.4s\n",
            "[CV] END max_depth=15, max_features=sqrt, min_samples_leaf=2, min_samples_split=10, n_estimators=1100; total time=  14.9s\n",
            "[CV] END max_depth=15, max_features=sqrt, min_samples_leaf=2, min_samples_split=10, n_estimators=1100; total time=  14.3s\n",
            "[CV] END max_depth=15, max_features=auto, min_samples_leaf=5, min_samples_split=100, n_estimators=300; total time=  25.6s\n",
            "[CV] END max_depth=15, max_features=auto, min_samples_leaf=5, min_samples_split=100, n_estimators=300; total time=  26.3s\n",
            "[CV] END max_depth=15, max_features=auto, min_samples_leaf=5, min_samples_split=100, n_estimators=300; total time=  27.1s\n",
            "[CV] END max_depth=15, max_features=auto, min_samples_leaf=5, min_samples_split=100, n_estimators=300; total time=  26.2s\n",
            "[CV] END max_depth=15, max_features=auto, min_samples_leaf=5, min_samples_split=100, n_estimators=300; total time=  26.8s\n",
            "[CV] END max_depth=15, max_features=auto, min_samples_leaf=5, min_samples_split=5, n_estimators=400; total time=  38.8s\n",
            "[CV] END max_depth=15, max_features=auto, min_samples_leaf=5, min_samples_split=5, n_estimators=400; total time=  39.2s\n",
            "[CV] END max_depth=15, max_features=auto, min_samples_leaf=5, min_samples_split=5, n_estimators=400; total time=  40.1s\n",
            "[CV] END max_depth=15, max_features=auto, min_samples_leaf=5, min_samples_split=5, n_estimators=400; total time=  39.0s\n",
            "[CV] END max_depth=15, max_features=auto, min_samples_leaf=5, min_samples_split=5, n_estimators=400; total time=  40.2s\n",
            "[CV] END max_depth=20, max_features=auto, min_samples_leaf=10, min_samples_split=5, n_estimators=700; total time=  59.3s\n",
            "[CV] END max_depth=20, max_features=auto, min_samples_leaf=10, min_samples_split=5, n_estimators=700; total time= 1.0min\n",
            "[CV] END max_depth=20, max_features=auto, min_samples_leaf=10, min_samples_split=5, n_estimators=700; total time= 1.0min\n",
            "[CV] END max_depth=20, max_features=auto, min_samples_leaf=10, min_samples_split=5, n_estimators=700; total time= 1.0min\n",
            "[CV] END max_depth=20, max_features=auto, min_samples_leaf=10, min_samples_split=5, n_estimators=700; total time= 1.0min\n",
            "[CV] END max_depth=25, max_features=sqrt, min_samples_leaf=1, min_samples_split=2, n_estimators=1000; total time=  14.0s\n",
            "[CV] END max_depth=25, max_features=sqrt, min_samples_leaf=1, min_samples_split=2, n_estimators=1000; total time=  13.9s\n",
            "[CV] END max_depth=25, max_features=sqrt, min_samples_leaf=1, min_samples_split=2, n_estimators=1000; total time=  13.9s\n",
            "[CV] END max_depth=25, max_features=sqrt, min_samples_leaf=1, min_samples_split=2, n_estimators=1000; total time=  13.9s\n",
            "[CV] END max_depth=25, max_features=sqrt, min_samples_leaf=1, min_samples_split=2, n_estimators=1000; total time=  13.8s\n",
            "[CV] END max_depth=5, max_features=sqrt, min_samples_leaf=10, min_samples_split=15, n_estimators=1100; total time=   8.4s\n",
            "[CV] END max_depth=5, max_features=sqrt, min_samples_leaf=10, min_samples_split=15, n_estimators=1100; total time=   8.3s\n",
            "[CV] END max_depth=5, max_features=sqrt, min_samples_leaf=10, min_samples_split=15, n_estimators=1100; total time=   8.4s\n",
            "[CV] END max_depth=5, max_features=sqrt, min_samples_leaf=10, min_samples_split=15, n_estimators=1100; total time=   8.4s\n",
            "[CV] END max_depth=5, max_features=sqrt, min_samples_leaf=10, min_samples_split=15, n_estimators=1100; total time=   8.5s\n",
            "[CV] END max_depth=15, max_features=sqrt, min_samples_leaf=1, min_samples_split=15, n_estimators=300; total time=   4.0s\n",
            "[CV] END max_depth=15, max_features=sqrt, min_samples_leaf=1, min_samples_split=15, n_estimators=300; total time=   4.0s\n",
            "[CV] END max_depth=15, max_features=sqrt, min_samples_leaf=1, min_samples_split=15, n_estimators=300; total time=   4.0s\n",
            "[CV] END max_depth=15, max_features=sqrt, min_samples_leaf=1, min_samples_split=15, n_estimators=300; total time=   4.0s\n",
            "[CV] END max_depth=15, max_features=sqrt, min_samples_leaf=1, min_samples_split=15, n_estimators=300; total time=   4.0s\n",
            "[CV] END max_depth=5, max_features=sqrt, min_samples_leaf=2, min_samples_split=10, n_estimators=700; total time=   5.4s\n",
            "[CV] END max_depth=5, max_features=sqrt, min_samples_leaf=2, min_samples_split=10, n_estimators=700; total time=   5.4s\n",
            "[CV] END max_depth=5, max_features=sqrt, min_samples_leaf=2, min_samples_split=10, n_estimators=700; total time=   5.4s\n",
            "[CV] END max_depth=5, max_features=sqrt, min_samples_leaf=2, min_samples_split=10, n_estimators=700; total time=   5.4s\n",
            "[CV] END max_depth=5, max_features=sqrt, min_samples_leaf=2, min_samples_split=10, n_estimators=700; total time=   5.4s\n",
            "[CV] END max_depth=20, max_features=auto, min_samples_leaf=1, min_samples_split=15, n_estimators=700; total time= 1.4min\n",
            "[CV] END max_depth=20, max_features=auto, min_samples_leaf=1, min_samples_split=15, n_estimators=700; total time= 1.4min\n",
            "[CV] END max_depth=20, max_features=auto, min_samples_leaf=1, min_samples_split=15, n_estimators=700; total time= 1.5min\n",
            "[CV] END max_depth=20, max_features=auto, min_samples_leaf=1, min_samples_split=15, n_estimators=700; total time= 1.4min\n",
            "[CV] END max_depth=20, max_features=auto, min_samples_leaf=1, min_samples_split=15, n_estimators=700; total time= 1.6min\n"
          ]
        },
        {
          "output_type": "execute_result",
          "data": {
            "text/plain": [
              "RandomizedSearchCV(cv=5, estimator=RandomForestRegressor(), n_jobs=1,\n",
              "                   param_distributions={'max_depth': [5, 10, 15, 20, 25, 30],\n",
              "                                        'max_features': ['auto', 'sqrt'],\n",
              "                                        'min_samples_leaf': [1, 2, 5, 10],\n",
              "                                        'min_samples_split': [2, 5, 10, 15,\n",
              "                                                              100],\n",
              "                                        'n_estimators': [100, 200, 300, 400,\n",
              "                                                         500, 600, 700, 800,\n",
              "                                                         900, 1000, 1100,\n",
              "                                                         1200]},\n",
              "                   random_state=42, verbose=2)"
            ]
          },
          "metadata": {},
          "execution_count": 70
        }
      ],
      "source": [
        "rf_random.fit(X_train,y_train_new)"
      ]
    },
    {
      "cell_type": "code",
      "execution_count": 71,
      "id": "3be35b2d",
      "metadata": {
        "id": "3be35b2d",
        "colab": {
          "base_uri": "https://localhost:8080/"
        },
        "outputId": "39d58470-4639-45b0-f58e-b3cae8a825f0"
      },
      "outputs": [
        {
          "output_type": "stream",
          "name": "stdout",
          "text": [
            "{'n_estimators': 1000, 'min_samples_split': 2, 'min_samples_leaf': 1, 'max_features': 'sqrt', 'max_depth': 25}\n"
          ]
        }
      ],
      "source": [
        "print(rf_random.best_params_)\n",
        "preds_train = rf_random.predict(X_train)\n",
        "preds_test = rf_random.predict(X_test)\n"
      ]
    },
    {
      "cell_type": "code",
      "source": [
        "X_train.shape"
      ],
      "metadata": {
        "colab": {
          "base_uri": "https://localhost:8080/"
        },
        "id": "STQ-dBYzbXnY",
        "outputId": "9475d1ae-0358-40d8-e60b-31793b7061ae"
      },
      "id": "STQ-dBYzbXnY",
      "execution_count": 72,
      "outputs": [
        {
          "output_type": "execute_result",
          "data": {
            "text/plain": [
              "(3219, 82)"
            ]
          },
          "metadata": {},
          "execution_count": 72
        }
      ]
    },
    {
      "cell_type": "code",
      "execution_count": 73,
      "id": "3waHU3VmjtNn",
      "metadata": {
        "id": "3waHU3VmjtNn",
        "colab": {
          "base_uri": "https://localhost:8080/"
        },
        "outputId": "0af38362-4d73-4a0d-f55a-25e9898a5f57"
      },
      "outputs": [
        {
          "output_type": "stream",
          "name": "stdout",
          "text": [
            "training accuracy :  100.0\n"
          ]
        }
      ],
      "source": [
        "print(\"training accuracy : \", accuracy_score(np.argmax(preds_train, axis = 1), np.argmax(y_train_new.to_numpy(), axis = 1))*100)"
      ]
    },
    {
      "cell_type": "code",
      "execution_count": 74,
      "id": "6zG7gIZZmOvo",
      "metadata": {
        "id": "6zG7gIZZmOvo",
        "colab": {
          "base_uri": "https://localhost:8080/"
        },
        "outputId": "905780af-1b07-4fe0-a92e-6b1089cce374"
      },
      "outputs": [
        {
          "output_type": "stream",
          "name": "stdout",
          "text": [
            "testing accuracy :  93.76163873370578\n"
          ]
        }
      ],
      "source": [
        "print(\"testing accuracy : \", accuracy_score(np.argmax(preds_test, axis = 1), np.argmax(y_test_new.to_numpy(), axis = 1))*100)"
      ]
    },
    {
      "cell_type": "markdown",
      "id": "9068e698",
      "metadata": {
        "id": "9068e698"
      },
      "source": [
        "### Here we can say that even after random forest the performance didn't increase that much which is due to Data Imbalance Problem. To avoid this Problem I used Oversampling method and then I do rest of the techniques same."
      ]
    },
    {
      "cell_type": "code",
      "execution_count": 75,
      "id": "jgisoltP6H1q",
      "metadata": {
        "id": "jgisoltP6H1q"
      },
      "outputs": [],
      "source": [
        "df = pd.read_csv(\"consolidated-metrics.csv\")"
      ]
    },
    {
      "cell_type": "code",
      "execution_count": 76,
      "id": "3uwTEOA-6PZJ",
      "metadata": {
        "id": "3uwTEOA-6PZJ"
      },
      "outputs": [],
      "source": [
        "df = df.drop(2196)"
      ]
    },
    {
      "cell_type": "code",
      "execution_count": 77,
      "id": "mV9Q9XR_6XR8",
      "metadata": {
        "id": "mV9Q9XR_6XR8"
      },
      "outputs": [],
      "source": [
        "df = df.drop(columns = [\"kubelet_pod_worker_duration_bucket\"])"
      ]
    },
    {
      "cell_type": "code",
      "execution_count": 78,
      "id": "Y13Ru_iD6brv",
      "metadata": {
        "id": "Y13Ru_iD6brv"
      },
      "outputs": [],
      "source": [
        "label_freq = df[\"status\"].value_counts()"
      ]
    },
    {
      "cell_type": "code",
      "execution_count": 79,
      "id": "_2bQfutX6fcJ",
      "metadata": {
        "id": "_2bQfutX6fcJ",
        "colab": {
          "base_uri": "https://localhost:8080/",
          "height": 265
        },
        "outputId": "32fb5e6c-7f40-4e51-aa26-3c814ba75ee1"
      },
      "outputs": [
        {
          "output_type": "display_data",
          "data": {
            "image/png": "[encoded data removed]",
            "text/plain": [
              "<Figure size 432x288 with 1 Axes>"
            ]
          },
          "metadata": {
            "needs_background": "light"
          }
        }
      ],
      "source": [
        "plt.bar(range(0, len(label_freq)), label_freq)\n",
        "plt.show()"
      ]
    },
    {
      "cell_type": "code",
      "execution_count": 80,
      "id": "TVFy8gkR616L",
      "metadata": {
        "id": "TVFy8gkR616L"
      },
      "outputs": [],
      "source": [
        "X = df.drop(columns = [\"status\", \"timestamp\"])\n",
        "y = df[\"status\"]"
      ]
    },
    {
      "cell_type": "code",
      "execution_count": 81,
      "id": "AyVwQxm_66Ix",
      "metadata": {
        "id": "AyVwQxm_66Ix"
      },
      "outputs": [],
      "source": [
        "from sklearn.impute import SimpleImputer\n",
        "import numpy as np"
      ]
    },
    {
      "cell_type": "code",
      "execution_count": 82,
      "id": "yDv2gq4t6-A9",
      "metadata": {
        "id": "yDv2gq4t6-A9"
      },
      "outputs": [],
      "source": [
        "X= sim_imp.fit_transform(X)"
      ]
    },
    {
      "cell_type": "code",
      "source": [
        "X.shape"
      ],
      "metadata": {
        "colab": {
          "base_uri": "https://localhost:8080/"
        },
        "id": "2KC_9JFJrP61",
        "outputId": "6197616e-d673-40ca-c3f7-1d0b4cddb2ca"
      },
      "id": "2KC_9JFJrP61",
      "execution_count": 83,
      "outputs": [
        {
          "output_type": "execute_result",
          "data": {
            "text/plain": [
              "(4293, 94)"
            ]
          },
          "metadata": {},
          "execution_count": 83
        }
      ]
    },
    {
      "cell_type": "code",
      "execution_count": 84,
      "id": "futQZvZB7A-B",
      "metadata": {
        "id": "futQZvZB7A-B"
      },
      "outputs": [],
      "source": [
        "X = pd.DataFrame.from_records(X)"
      ]
    },
    {
      "cell_type": "code",
      "execution_count": 85,
      "id": "6895fb41",
      "metadata": {
        "id": "6895fb41"
      },
      "outputs": [],
      "source": [
        "from imblearn.over_sampling import RandomOverSampler"
      ]
    },
    {
      "cell_type": "code",
      "execution_count": 86,
      "id": "726f6baa",
      "metadata": {
        "id": "726f6baa"
      },
      "outputs": [],
      "source": [
        "# oversample = RandomOverSampler(sampling_strategy='minority')\n",
        "oversample = RandomOverSampler()"
      ]
    },
    {
      "cell_type": "code",
      "execution_count": 87,
      "id": "1199fe31",
      "metadata": {
        "id": "1199fe31"
      },
      "outputs": [],
      "source": [
        "X, Y = oversample.fit_resample(X, y)"
      ]
    },
    {
      "cell_type": "code",
      "execution_count": 88,
      "id": "3x83R5my7eMD",
      "metadata": {
        "id": "3x83R5my7eMD",
        "colab": {
          "base_uri": "https://localhost:8080/"
        },
        "outputId": "ecfbf460-bb0c-4dec-b7d2-b810456865f9"
      },
      "outputs": [
        {
          "output_type": "execute_result",
          "data": {
            "text/plain": [
              "NORMAL                                  2757\n",
              "CPU_BURN_KANBAN_API_GATEWAY             2757\n",
              "NETWORK_DELAY_KANBAN_API_GATEWAY        2757\n",
              "NETWORK_DELAY_KANBAN_COMMAND_SERVICE    2757\n",
              "POD_KILL_KANBAN_API_GATEWAY             2757\n",
              "Name: status, dtype: int64"
            ]
          },
          "metadata": {},
          "execution_count": 88
        }
      ],
      "source": [
        "Y.value_counts()"
      ]
    },
    {
      "cell_type": "code",
      "execution_count": 89,
      "id": "O6Ru0fI2zn5s",
      "metadata": {
        "id": "O6Ru0fI2zn5s",
        "colab": {
          "base_uri": "https://localhost:8080/",
          "height": 265
        },
        "outputId": "00e5b296-4a91-45fa-ef80-87113acf779b"
      },
      "outputs": [
        {
          "output_type": "display_data",
          "data": {
            "image/png": "[encoded data removed]",
            "text/plain": [
              "<Figure size 432x288 with 1 Axes>"
            ]
          },
          "metadata": {
            "needs_background": "light"
          }
        }
      ],
      "source": [
        "plt.bar(range(0, len(label_freq)), Y.value_counts())\n",
        "plt.show()"
      ]
    },
    {
      "cell_type": "code",
      "execution_count": 89,
      "id": "v40d7tis7au1",
      "metadata": {
        "id": "v40d7tis7au1"
      },
      "outputs": [],
      "source": [
        ""
      ]
    },
    {
      "cell_type": "code",
      "execution_count": 90,
      "id": "-gMvuMd87z5M",
      "metadata": {
        "id": "-gMvuMd87z5M"
      },
      "outputs": [],
      "source": [
        "from sklearn.preprocessing import StandardScaler"
      ]
    },
    {
      "cell_type": "code",
      "source": [
        "std = StandardScaler()"
      ],
      "metadata": {
        "id": "8ZJ4R6oepYiU"
      },
      "id": "8ZJ4R6oepYiU",
      "execution_count": 91,
      "outputs": []
    },
    {
      "cell_type": "code",
      "execution_count": 92,
      "id": "4Sk8dt4e735M",
      "metadata": {
        "id": "4Sk8dt4e735M"
      },
      "outputs": [],
      "source": [
        "X = pd.DataFrame.from_records(std.fit_transform(X))"
      ]
    },
    {
      "cell_type": "code",
      "source": [
        "X.shape"
      ],
      "metadata": {
        "colab": {
          "base_uri": "https://localhost:8080/"
        },
        "id": "bu0tNJlHrwet",
        "outputId": "86bfa0ec-a646-4494-e153-986cbda07175"
      },
      "id": "bu0tNJlHrwet",
      "execution_count": 93,
      "outputs": [
        {
          "output_type": "execute_result",
          "data": {
            "text/plain": [
              "(13785, 94)"
            ]
          },
          "metadata": {},
          "execution_count": 93
        }
      ]
    },
    {
      "cell_type": "code",
      "execution_count": 94,
      "id": "vAVTafvy77jk",
      "metadata": {
        "id": "vAVTafvy77jk"
      },
      "outputs": [],
      "source": [
        "from sklearn.model_selection import train_test_split"
      ]
    },
    {
      "cell_type": "code",
      "execution_count": 95,
      "id": "NbKTGeD97-GT",
      "metadata": {
        "id": "NbKTGeD97-GT"
      },
      "outputs": [],
      "source": [
        "X_train,X_test, y_train, y_test = train_test_split(X, Y)"
      ]
    },
    {
      "cell_type": "code",
      "execution_count": 96,
      "id": "wqw5TqZh8CKr",
      "metadata": {
        "id": "wqw5TqZh8CKr"
      },
      "outputs": [],
      "source": [
        "from sklearn.multiclass import OneVsRestClassifier\n",
        "from sklearn.svm import SVC"
      ]
    },
    {
      "cell_type": "code",
      "execution_count": 97,
      "id": "RZ2QjNtn8Esj",
      "metadata": {
        "id": "RZ2QjNtn8Esj"
      },
      "outputs": [],
      "source": [
        "clf = OneVsRestClassifier(SVC()).fit(X_train, y_train)"
      ]
    },
    {
      "cell_type": "code",
      "execution_count": 98,
      "id": "bZpFWbLK8Gc0",
      "metadata": {
        "id": "bZpFWbLK8Gc0"
      },
      "outputs": [],
      "source": [
        "preds = clf.predict(X_test)"
      ]
    },
    {
      "cell_type": "code",
      "source": [
        ""
      ],
      "metadata": {
        "id": "Rz_J6XUYZQ3k"
      },
      "id": "Rz_J6XUYZQ3k",
      "execution_count": 98,
      "outputs": []
    },
    {
      "cell_type": "code",
      "execution_count": 99,
      "id": "sHFd_5o98IzT",
      "metadata": {
        "id": "sHFd_5o98IzT"
      },
      "outputs": [],
      "source": [
        "from sklearn.metrics import accuracy_score"
      ]
    },
    {
      "cell_type": "code",
      "execution_count": 100,
      "id": "G541WR_68KqL",
      "metadata": {
        "id": "G541WR_68KqL"
      },
      "outputs": [],
      "source": [
        "acc = accuracy_score(preds, y_test)"
      ]
    },
    {
      "cell_type": "code",
      "execution_count": 101,
      "id": "LpdCwTdy8OmE",
      "metadata": {
        "id": "LpdCwTdy8OmE",
        "colab": {
          "base_uri": "https://localhost:8080/"
        },
        "outputId": "f6a0c917-10b4-422b-e41a-1d4921affc9d"
      },
      "outputs": [
        {
          "output_type": "stream",
          "name": "stdout",
          "text": [
            "training accuracy :  98.81021474172954\n"
          ]
        }
      ],
      "source": [
        "print(\"training accuracy : \",accuracy_score(clf.predict(X_train), y_train)*100)"
      ]
    },
    {
      "cell_type": "code",
      "source": [
        "print(\"testing accuracy : \", acc*100)"
      ],
      "metadata": {
        "colab": {
          "base_uri": "https://localhost:8080/"
        },
        "id": "7JTeK9-DXTto",
        "outputId": "7464e56c-b4ea-45c7-bda6-8294ecf5d5cf"
      },
      "id": "7JTeK9-DXTto",
      "execution_count": 102,
      "outputs": [
        {
          "output_type": "stream",
          "name": "stdout",
          "text": [
            "testing accuracy :  97.79518421816073\n"
          ]
        }
      ]
    },
    {
      "cell_type": "code",
      "execution_count": 103,
      "id": "qa-vEipU8Q38",
      "metadata": {
        "id": "qa-vEipU8Q38"
      },
      "outputs": [],
      "source": [
        "nunique = X.nunique()"
      ]
    },
    {
      "cell_type": "code",
      "execution_count": 104,
      "id": "drrmf6kc8U7z",
      "metadata": {
        "id": "drrmf6kc8U7z",
        "colab": {
          "base_uri": "https://localhost:8080/"
        },
        "outputId": "8b9b76c1-66bf-42cf-85fd-9c017f26c4bf"
      },
      "outputs": [
        {
          "output_type": "stream",
          "name": "stdout",
          "text": [
            "[9, 18, 19, 28, 31, 32, 33, 36, 39, 40, 41, 43, 44, 62, 82]\n"
          ]
        }
      ],
      "source": [
        "to_del = [i for i,v in enumerate(nunique) if (float(v)/X.shape[0]*100) < 1]\n",
        "print(to_del)"
      ]
    },
    {
      "cell_type": "code",
      "execution_count": 105,
      "id": "cD3MicqP8Zds",
      "metadata": {
        "id": "cD3MicqP8Zds",
        "colab": {
          "base_uri": "https://localhost:8080/"
        },
        "outputId": "31069d9d-622d-414a-e26c-f7292937ffc2"
      },
      "outputs": [
        {
          "output_type": "stream",
          "name": "stdout",
          "text": [
            "(13785, 79)\n"
          ]
        }
      ],
      "source": [
        "# drop useless columns\n",
        "X.drop(to_del, axis=1, inplace=True)\n",
        "print(X.shape)"
      ]
    },
    {
      "cell_type": "code",
      "execution_count": 106,
      "id": "OyZmc8vs8jfz",
      "metadata": {
        "id": "OyZmc8vs8jfz",
        "colab": {
          "base_uri": "https://localhost:8080/"
        },
        "outputId": "75ea89b2-985b-4ab7-9369-f779bdfe5525"
      },
      "outputs": [
        {
          "output_type": "stream",
          "name": "stdout",
          "text": [
            "training accuracy :  99.9806538982395\n",
            "testing accuracy 99.50681752248332\n"
          ]
        }
      ],
      "source": [
        "X_train,X_test, y_train, y_test = train_test_split(X, Y)\n",
        "clf = OneVsRestClassifier(SVC(kernel = \"rbf\", C=10)).fit(X_train, y_train)\n",
        "preds = clf.predict(X_test)\n",
        "print(\"training accuracy : \",accuracy_score(clf.predict(X_train), y_train)*100)\n",
        "acc = accuracy_score(preds, y_test)\n",
        "print(\"testing accuracy\",acc*100)"
      ]
    },
    {
      "cell_type": "code",
      "execution_count": 107,
      "id": "xCwIfKn-8qRU",
      "metadata": {
        "id": "xCwIfKn-8qRU"
      },
      "outputs": [],
      "source": [
        "# Create the random grid\n",
        "from sklearn.model_selection import RandomizedSearchCV\n",
        "c = [10, 100, 1000, 10000, 1000000, 100000000]\n",
        "random_grid = {\"estimator__C\":c,\n",
        "               \"estimator__kernel\": [\"poly\",\"rbf\", \"sigmoid\"]\n",
        "               }\n",
        "model_to_set = OneVsRestClassifier(SVC(kernel=\"poly\"))"
      ]
    },
    {
      "cell_type": "code",
      "execution_count": 108,
      "id": "I1nk8aIk8x5E",
      "metadata": {
        "id": "I1nk8aIk8x5E"
      },
      "outputs": [],
      "source": [
        "X_train,X_test, y_train, y_test = train_test_split(X, Y)\n",
        "clf = OneVsRestClassifier(SVC())\n",
        "# Random search of parameters, using 5 fold cross validation, \n",
        "# search across 100 different combinations\n",
        "svf_random = RandomizedSearchCV(estimator = clf, param_distributions = random_grid, scoring='accuracy', n_iter = 18, cv = 5, verbose=2, random_state=42, n_jobs = 1)"
      ]
    },
    {
      "cell_type": "code",
      "execution_count": 109,
      "id": "79rnKKzC8z4E",
      "metadata": {
        "id": "79rnKKzC8z4E",
        "colab": {
          "base_uri": "https://localhost:8080/"
        },
        "outputId": "1772fcfc-559b-492f-9415-60d6a259ea11"
      },
      "outputs": [
        {
          "output_type": "stream",
          "name": "stdout",
          "text": [
            "Fitting 5 folds for each of 18 candidates, totalling 90 fits\n",
            "[CV] END ............estimator__C=10, estimator__kernel=poly; total time=   7.0s\n",
            "[CV] END ............estimator__C=10, estimator__kernel=poly; total time=   7.0s\n",
            "[CV] END ............estimator__C=10, estimator__kernel=poly; total time=   6.9s\n",
            "[CV] END ............estimator__C=10, estimator__kernel=poly; total time=   6.9s\n",
            "[CV] END ............estimator__C=10, estimator__kernel=poly; total time=   6.9s\n",
            "[CV] END .............estimator__C=10, estimator__kernel=rbf; total time=   6.9s\n",
            "[CV] END .............estimator__C=10, estimator__kernel=rbf; total time=   6.9s\n",
            "[CV] END .............estimator__C=10, estimator__kernel=rbf; total time=   6.8s\n",
            "[CV] END .............estimator__C=10, estimator__kernel=rbf; total time=   6.9s\n",
            "[CV] END .............estimator__C=10, estimator__kernel=rbf; total time=   9.8s\n",
            "[CV] END .........estimator__C=10, estimator__kernel=sigmoid; total time=  12.5s\n",
            "[CV] END .........estimator__C=10, estimator__kernel=sigmoid; total time=   8.3s\n",
            "[CV] END .........estimator__C=10, estimator__kernel=sigmoid; total time=   8.1s\n",
            "[CV] END .........estimator__C=10, estimator__kernel=sigmoid; total time=   8.1s\n",
            "[CV] END .........estimator__C=10, estimator__kernel=sigmoid; total time=   8.2s\n",
            "[CV] END ...........estimator__C=100, estimator__kernel=poly; total time=   6.9s\n",
            "[CV] END ...........estimator__C=100, estimator__kernel=poly; total time=   6.6s\n",
            "[CV] END ...........estimator__C=100, estimator__kernel=poly; total time=   6.7s\n",
            "[CV] END ...........estimator__C=100, estimator__kernel=poly; total time=   6.7s\n",
            "[CV] END ...........estimator__C=100, estimator__kernel=poly; total time=   6.8s\n",
            "[CV] END ............estimator__C=100, estimator__kernel=rbf; total time=   7.0s\n",
            "[CV] END ............estimator__C=100, estimator__kernel=rbf; total time=   7.1s\n",
            "[CV] END ............estimator__C=100, estimator__kernel=rbf; total time=   6.8s\n",
            "[CV] END ............estimator__C=100, estimator__kernel=rbf; total time=   7.6s\n",
            "[CV] END ............estimator__C=100, estimator__kernel=rbf; total time=   7.1s\n",
            "[CV] END ........estimator__C=100, estimator__kernel=sigmoid; total time=   8.0s\n",
            "[CV] END ........estimator__C=100, estimator__kernel=sigmoid; total time=   8.2s\n",
            "[CV] END ........estimator__C=100, estimator__kernel=sigmoid; total time=   7.8s\n",
            "[CV] END ........estimator__C=100, estimator__kernel=sigmoid; total time=   8.1s\n",
            "[CV] END ........estimator__C=100, estimator__kernel=sigmoid; total time=   8.3s\n",
            "[CV] END ..........estimator__C=1000, estimator__kernel=poly; total time=   6.9s\n",
            "[CV] END ..........estimator__C=1000, estimator__kernel=poly; total time=   6.6s\n",
            "[CV] END ..........estimator__C=1000, estimator__kernel=poly; total time=   6.7s\n",
            "[CV] END ..........estimator__C=1000, estimator__kernel=poly; total time=   6.7s\n",
            "[CV] END ..........estimator__C=1000, estimator__kernel=poly; total time=   6.8s\n",
            "[CV] END ...........estimator__C=1000, estimator__kernel=rbf; total time=   6.9s\n",
            "[CV] END ...........estimator__C=1000, estimator__kernel=rbf; total time=   7.0s\n",
            "[CV] END ...........estimator__C=1000, estimator__kernel=rbf; total time=   6.8s\n",
            "[CV] END ...........estimator__C=1000, estimator__kernel=rbf; total time=   8.1s\n",
            "[CV] END ...........estimator__C=1000, estimator__kernel=rbf; total time=   7.1s\n",
            "[CV] END .......estimator__C=1000, estimator__kernel=sigmoid; total time=   7.8s\n",
            "[CV] END .......estimator__C=1000, estimator__kernel=sigmoid; total time=   8.3s\n",
            "[CV] END .......estimator__C=1000, estimator__kernel=sigmoid; total time=   8.1s\n",
            "[CV] END .......estimator__C=1000, estimator__kernel=sigmoid; total time=   8.1s\n",
            "[CV] END .......estimator__C=1000, estimator__kernel=sigmoid; total time=   8.1s\n",
            "[CV] END .........estimator__C=10000, estimator__kernel=poly; total time=   6.8s\n",
            "[CV] END .........estimator__C=10000, estimator__kernel=poly; total time=   6.6s\n",
            "[CV] END .........estimator__C=10000, estimator__kernel=poly; total time=   6.7s\n",
            "[CV] END .........estimator__C=10000, estimator__kernel=poly; total time=   6.6s\n",
            "[CV] END .........estimator__C=10000, estimator__kernel=poly; total time=   6.7s\n",
            "[CV] END ..........estimator__C=10000, estimator__kernel=rbf; total time=   6.9s\n",
            "[CV] END ..........estimator__C=10000, estimator__kernel=rbf; total time=   7.0s\n",
            "[CV] END ..........estimator__C=10000, estimator__kernel=rbf; total time=   6.7s\n",
            "[CV] END ..........estimator__C=10000, estimator__kernel=rbf; total time=   6.9s\n",
            "[CV] END ..........estimator__C=10000, estimator__kernel=rbf; total time=   7.0s\n",
            "[CV] END ......estimator__C=10000, estimator__kernel=sigmoid; total time=   8.0s\n",
            "[CV] END ......estimator__C=10000, estimator__kernel=sigmoid; total time=   8.3s\n",
            "[CV] END ......estimator__C=10000, estimator__kernel=sigmoid; total time=   8.0s\n",
            "[CV] END ......estimator__C=10000, estimator__kernel=sigmoid; total time=   8.1s\n",
            "[CV] END ......estimator__C=10000, estimator__kernel=sigmoid; total time=   8.2s\n",
            "[CV] END .......estimator__C=1000000, estimator__kernel=poly; total time=   6.9s\n",
            "[CV] END .......estimator__C=1000000, estimator__kernel=poly; total time=   6.7s\n",
            "[CV] END .......estimator__C=1000000, estimator__kernel=poly; total time=   6.8s\n",
            "[CV] END .......estimator__C=1000000, estimator__kernel=poly; total time=   6.7s\n",
            "[CV] END .......estimator__C=1000000, estimator__kernel=poly; total time=   6.8s\n",
            "[CV] END ........estimator__C=1000000, estimator__kernel=rbf; total time=   6.9s\n",
            "[CV] END ........estimator__C=1000000, estimator__kernel=rbf; total time=   7.0s\n",
            "[CV] END ........estimator__C=1000000, estimator__kernel=rbf; total time=   6.8s\n",
            "[CV] END ........estimator__C=1000000, estimator__kernel=rbf; total time=   6.9s\n",
            "[CV] END ........estimator__C=1000000, estimator__kernel=rbf; total time=   7.1s\n",
            "[CV] END ....estimator__C=1000000, estimator__kernel=sigmoid; total time=   7.9s\n",
            "[CV] END ....estimator__C=1000000, estimator__kernel=sigmoid; total time=   8.1s\n",
            "[CV] END ....estimator__C=1000000, estimator__kernel=sigmoid; total time=   8.2s\n",
            "[CV] END ....estimator__C=1000000, estimator__kernel=sigmoid; total time=   7.8s\n",
            "[CV] END ....estimator__C=1000000, estimator__kernel=sigmoid; total time=   8.3s\n",
            "[CV] END .....estimator__C=100000000, estimator__kernel=poly; total time=   6.8s\n",
            "[CV] END .....estimator__C=100000000, estimator__kernel=poly; total time=   6.6s\n",
            "[CV] END .....estimator__C=100000000, estimator__kernel=poly; total time=   6.7s\n",
            "[CV] END .....estimator__C=100000000, estimator__kernel=poly; total time=   6.7s\n",
            "[CV] END .....estimator__C=100000000, estimator__kernel=poly; total time=   6.7s\n",
            "[CV] END ......estimator__C=100000000, estimator__kernel=rbf; total time=   6.9s\n",
            "[CV] END ......estimator__C=100000000, estimator__kernel=rbf; total time=   7.0s\n",
            "[CV] END ......estimator__C=100000000, estimator__kernel=rbf; total time=   6.8s\n",
            "[CV] END ......estimator__C=100000000, estimator__kernel=rbf; total time=   6.9s\n",
            "[CV] END ......estimator__C=100000000, estimator__kernel=rbf; total time=   7.1s\n",
            "[CV] END ..estimator__C=100000000, estimator__kernel=sigmoid; total time=   8.2s\n",
            "[CV] END ..estimator__C=100000000, estimator__kernel=sigmoid; total time=   8.2s\n",
            "[CV] END ..estimator__C=100000000, estimator__kernel=sigmoid; total time=   8.1s\n",
            "[CV] END ..estimator__C=100000000, estimator__kernel=sigmoid; total time=   8.1s\n",
            "[CV] END ..estimator__C=100000000, estimator__kernel=sigmoid; total time=   8.4s\n"
          ]
        },
        {
          "output_type": "execute_result",
          "data": {
            "text/plain": [
              "RandomizedSearchCV(cv=5, estimator=OneVsRestClassifier(estimator=SVC()),\n",
              "                   n_iter=18, n_jobs=1,\n",
              "                   param_distributions={'estimator__C': [10, 100, 1000, 10000,\n",
              "                                                         1000000, 100000000],\n",
              "                                        'estimator__kernel': ['poly', 'rbf',\n",
              "                                                              'sigmoid']},\n",
              "                   random_state=42, scoring='accuracy', verbose=2)"
            ]
          },
          "metadata": {},
          "execution_count": 109
        }
      ],
      "source": [
        "svf_random.fit(X_train, y_train)"
      ]
    },
    {
      "cell_type": "code",
      "execution_count": 110,
      "id": "mtJ6UUhN82Gl",
      "metadata": {
        "id": "mtJ6UUhN82Gl",
        "colab": {
          "base_uri": "https://localhost:8080/"
        },
        "outputId": "967e2540-96bd-4927-b5fd-430f250998c3"
      },
      "outputs": [
        {
          "output_type": "stream",
          "name": "stdout",
          "text": [
            "{'estimator__kernel': 'rbf', 'estimator__C': 100}\n",
            "training accuracy :  100.0\n",
            "testing accuracy :  99.68088192631274\n"
          ]
        }
      ],
      "source": [
        "print(svf_random.best_params_)\n",
        "preds = svf_random.predict(X_test)\n",
        "print(\"training accuracy : \", accuracy_score(svf_random.predict(X_train), y_train)*100)\n",
        "acc = accuracy_score(preds, y_test)\n",
        "print(\"testing accuracy : \",acc*100)"
      ]
    },
    {
      "cell_type": "code",
      "execution_count": 111,
      "id": "j1u_07-y84t7",
      "metadata": {
        "id": "j1u_07-y84t7",
        "cellView": "form"
      },
      "outputs": [],
      "source": [
        "#@markdown Now we can see the Performance now better than before. So save that model and Now I am passing a sample and checking the output\n"
      ]
    },
    {
      "cell_type": "code",
      "source": [
        "import pickle"
      ],
      "metadata": {
        "id": "mOuap6TpfBY8"
      },
      "id": "mOuap6TpfBY8",
      "execution_count": 112,
      "outputs": []
    },
    {
      "cell_type": "code",
      "source": [
        "filename = 'finalized_model.pkl'\n",
        "pickle.dump(svf_random, open(filename, 'wb'))\n",
        " \n",
        "# some time later...\n",
        " \n",
        "# load the model from disk\n",
        "loaded_model = pickle.load(open(filename, 'rb'))\n",
        "result = accuracy_score(loaded_model.predict(X_train), y_train)*100\n",
        "print(\"training accuracy : \", result)"
      ],
      "metadata": {
        "colab": {
          "base_uri": "https://localhost:8080/"
        },
        "id": "LAyaLDKoezUj",
        "outputId": "2ee8b70f-0d73-418f-c1ad-a15ae6fd6be9"
      },
      "id": "LAyaLDKoezUj",
      "execution_count": 113,
      "outputs": [
        {
          "output_type": "stream",
          "name": "stdout",
          "text": [
            "training accuracy :  100.0\n"
          ]
        }
      ]
    },
    {
      "cell_type": "code",
      "source": [
        ""
      ],
      "metadata": {
        "id": "i1BK4Tfab_1E"
      },
      "id": "i1BK4Tfab_1E",
      "execution_count": 113,
      "outputs": []
    },
    {
      "cell_type": "code",
      "source": [
        "quary_point = df.iloc[0] #taking a quary point"
      ],
      "metadata": {
        "id": "Oyc2BLJ5gsZt"
      },
      "id": "Oyc2BLJ5gsZt",
      "execution_count": 114,
      "outputs": []
    },
    {
      "cell_type": "code",
      "source": [
        "real_label = quary_point[\"status\"]"
      ],
      "metadata": {
        "id": "Lq1GGle0s01u"
      },
      "id": "Lq1GGle0s01u",
      "execution_count": 115,
      "outputs": []
    },
    {
      "cell_type": "code",
      "source": [
        "print(real_label)"
      ],
      "metadata": {
        "colab": {
          "base_uri": "https://localhost:8080/"
        },
        "id": "wUVfghLrtB21",
        "outputId": "50fb5f62-e682-4f9b-c404-25ed0e2f48e2"
      },
      "id": "wUVfghLrtB21",
      "execution_count": 116,
      "outputs": [
        {
          "output_type": "stream",
          "name": "stdout",
          "text": [
            "NORMAL\n"
          ]
        }
      ]
    },
    {
      "cell_type": "code",
      "source": [
        "quary_point[0]"
      ],
      "metadata": {
        "colab": {
          "base_uri": "https://localhost:8080/",
          "height": 35
        },
        "id": "2Czahul0ljJU",
        "outputId": "d295a6f3-5655-435f-e659-c23a1e250dcc"
      },
      "id": "2Czahul0ljJU",
      "execution_count": 117,
      "outputs": [
        {
          "output_type": "execute_result",
          "data": {
            "application/vnd.google.colaboratory.intrinsic+json": {
              "type": "string"
            },
            "text/plain": [
              "'2020-09-18 21:45:03'"
            ]
          },
          "metadata": {},
          "execution_count": 117
        }
      ]
    },
    {
      "cell_type": "code",
      "source": [
        "quary_point_new = quary_point.drop([\"status\", \"timestamp\", \"kubelet_pod_worker_duration_bucket\"])"
      ],
      "metadata": {
        "id": "yEYu0Y1dgtac"
      },
      "id": "yEYu0Y1dgtac",
      "execution_count": 119,
      "outputs": []
    },
    {
      "cell_type": "code",
      "source": [
        "quary_point_new"
      ],
      "metadata": {
        "colab": {
          "base_uri": "https://localhost:8080/"
        },
        "id": "pP_hfUploF_F",
        "outputId": "2b9e2044-1fca-48c8-c415-db8c1e96f963"
      },
      "id": "pP_hfUploF_F",
      "execution_count": 120,
      "outputs": [
        {
          "output_type": "execute_result",
          "data": {
            "text/plain": [
              "apiserver_current_inflight_requests                                  0.008333\n",
              "apiserver_request_latencies_summary                            4775001.304167\n",
              "apiserver_response_sizes_sum                                           6871.3\n",
              "apiserver_storage_transformation_latencies_microseconds_sum             0.025\n",
              "aws_cpu_utilization                                                      13.8\n",
              "                                                                    ...      \n",
              "node_sockstat_TCP_tw                                                 0.983333\n",
              "node_sockstat_sockets_used                                          25.441667\n",
              "node_timex_estimated_error_seconds                                   0.000001\n",
              "node_timex_frequency_adjustment_ratio                                   0.025\n",
              "node_timex_maxerror_seconds                                          0.000291\n",
              "Name: 0, Length: 94, dtype: object"
            ]
          },
          "metadata": {},
          "execution_count": 120
        }
      ]
    },
    {
      "cell_type": "code",
      "source": [
        "quary_point_new = std.transform(quary_point_new.to_numpy().reshape(1, len(quary_point_new)))"
      ],
      "metadata": {
        "id": "rxwZL7LFmmcV"
      },
      "id": "rxwZL7LFmmcV",
      "execution_count": 121,
      "outputs": []
    },
    {
      "cell_type": "code",
      "source": [
        "quary_point_new_df = pd.DataFrame.from_records(quary_point_new)"
      ],
      "metadata": {
        "id": "PIXqtwVulP-d"
      },
      "id": "PIXqtwVulP-d",
      "execution_count": 122,
      "outputs": []
    },
    {
      "cell_type": "code",
      "source": [
        "quary_point_new_df.drop(to_del, axis=1, inplace=True)"
      ],
      "metadata": {
        "id": "dHezZ7fIhkov"
      },
      "id": "dHezZ7fIhkov",
      "execution_count": 123,
      "outputs": []
    },
    {
      "cell_type": "code",
      "source": [
        "quary_point_new_df.shape"
      ],
      "metadata": {
        "colab": {
          "base_uri": "https://localhost:8080/"
        },
        "id": "x31D-yLNh2dN",
        "outputId": "13d6fbc9-d3d9-4db2-d7e2-0f5ff5665300"
      },
      "id": "x31D-yLNh2dN",
      "execution_count": 124,
      "outputs": [
        {
          "output_type": "execute_result",
          "data": {
            "text/plain": [
              "(1, 79)"
            ]
          },
          "metadata": {},
          "execution_count": 124
        }
      ]
    },
    {
      "cell_type": "code",
      "source": [
        "predicted_label = loaded_model.predict(quary_point_new_df)"
      ],
      "metadata": {
        "id": "y4AWGAq0o6bM"
      },
      "id": "y4AWGAq0o6bM",
      "execution_count": 125,
      "outputs": []
    },
    {
      "cell_type": "code",
      "source": [
        "predicted_label"
      ],
      "metadata": {
        "colab": {
          "base_uri": "https://localhost:8080/"
        },
        "id": "hBio-VZAsxbU",
        "outputId": "e8fbc44c-f0b2-4f06-a2b1-b454a7f108b7"
      },
      "id": "hBio-VZAsxbU",
      "execution_count": 126,
      "outputs": [
        {
          "output_type": "execute_result",
          "data": {
            "text/plain": [
              "array(['NORMAL'], dtype='<U36')"
            ]
          },
          "metadata": {},
          "execution_count": 126
        }
      ]
    },
    {
      "cell_type": "code",
      "source": [
        "print(\"real label is {} and the predicted label is {}\".format(real_label, predicted_label))"
      ],
      "metadata": {
        "colab": {
          "base_uri": "https://localhost:8080/"
        },
        "id": "NpbqgO1kszA8",
        "outputId": "535138b8-4ec0-467f-cd41-2dc1b01ff73f"
      },
      "id": "NpbqgO1kszA8",
      "execution_count": 127,
      "outputs": [
        {
          "output_type": "stream",
          "name": "stdout",
          "text": [
            "real label is NORMAL and the predicted label is ['NORMAL']\n"
          ]
        }
      ]
    },
    {
      "cell_type": "code",
      "source": [
        "#@title Now here we can see that real label and predicted label are same and we also have save model which can re-train if new data come. So this my work and findings hope its is usefull for you and if any changes feel free to suggest. Thanks Subhash Kla"
      ],
      "metadata": {
        "cellView": "form",
        "id": "fM8zieu-tSB0"
      },
      "id": "fM8zieu-tSB0",
      "execution_count": null,
      "outputs": []
    },
    {
      "cell_type": "code",
      "source": [
        ""
      ],
      "metadata": {
        "id": "WLp__uq0uLSk"
      },
      "id": "WLp__uq0uLSk",
      "execution_count": null,
      "outputs": []
    }
  ],
  "metadata": {
    "accelerator": "GPU",
    "colab": {
      "name": "task.ipynb",
      "provenance": [],
      "collapsed_sections": []
    },
    "kernelspec": {
      "display_name": "Python 3 (ipykernel)",
      "language": "python",
      "name": "python3"
    },
    "language_info": {
      "codemirror_mode": {
        "name": "ipython",
        "version": 3
      },
      "file_extension": ".py",
      "mimetype": "text/x-python",
      "name": "python",
      "nbconvert_exporter": "python",
      "pygments_lexer": "ipython3",
      "version": "3.8.12"
    }
  },
  "nbformat": 4,
  "nbformat_minor": 5
}